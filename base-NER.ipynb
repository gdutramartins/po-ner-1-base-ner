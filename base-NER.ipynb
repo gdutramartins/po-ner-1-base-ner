{
  "nbformat": 4,
  "nbformat_minor": 0,
  "metadata": {
    "colab": {
      "name": "base-NER.ipynb",
      "provenance": [],
      "collapsed_sections": [
        "HUptHrg-DvpQ",
        "lJZU01NdfPLD"
      ]
    },
    "kernelspec": {
      "name": "python3",
      "display_name": "Python 3"
    },
    "language_info": {
      "name": "python"
    },
    "accelerator": "GPU",
    "widgets": {
      "application/vnd.jupyter.widget-state+json": {
        "417562df6d4d40b785dc86a7d91d4523": {
          "model_module": "@jupyter-widgets/controls",
          "model_name": "HBoxModel",
          "model_module_version": "1.5.0",
          "state": {
            "_view_name": "HBoxView",
            "_dom_classes": [],
            "_model_name": "HBoxModel",
            "_view_module": "@jupyter-widgets/controls",
            "_model_module_version": "1.5.0",
            "_view_count": null,
            "_view_module_version": "1.5.0",
            "box_style": "",
            "layout": "IPY_MODEL_0e8950d190d546eaa1c80f4f053549ff",
            "_model_module": "@jupyter-widgets/controls",
            "children": [
              "IPY_MODEL_54e2c1a2b9cf4e3a8a95405d001397a8",
              "IPY_MODEL_b87e3c1d7791458cb0e41d34baa0e978",
              "IPY_MODEL_33291d4079d248bea9d8581b41d6bec5"
            ]
          }
        },
        "0e8950d190d546eaa1c80f4f053549ff": {
          "model_module": "@jupyter-widgets/base",
          "model_name": "LayoutModel",
          "model_module_version": "1.2.0",
          "state": {
            "_view_name": "LayoutView",
            "grid_template_rows": null,
            "right": null,
            "justify_content": null,
            "_view_module": "@jupyter-widgets/base",
            "overflow": null,
            "_model_module_version": "1.2.0",
            "_view_count": null,
            "flex_flow": null,
            "width": null,
            "min_width": null,
            "border": null,
            "align_items": null,
            "bottom": null,
            "_model_module": "@jupyter-widgets/base",
            "top": null,
            "grid_column": null,
            "overflow_y": null,
            "overflow_x": null,
            "grid_auto_flow": null,
            "grid_area": null,
            "grid_template_columns": null,
            "flex": null,
            "_model_name": "LayoutModel",
            "justify_items": null,
            "grid_row": null,
            "max_height": null,
            "align_content": null,
            "visibility": null,
            "align_self": null,
            "height": null,
            "min_height": null,
            "padding": null,
            "grid_auto_rows": null,
            "grid_gap": null,
            "max_width": null,
            "order": null,
            "_view_module_version": "1.2.0",
            "grid_template_areas": null,
            "object_position": null,
            "object_fit": null,
            "grid_auto_columns": null,
            "margin": null,
            "display": null,
            "left": null
          }
        },
        "54e2c1a2b9cf4e3a8a95405d001397a8": {
          "model_module": "@jupyter-widgets/controls",
          "model_name": "HTMLModel",
          "model_module_version": "1.5.0",
          "state": {
            "_view_name": "HTMLView",
            "style": "IPY_MODEL_1557c30c20cc462f94a62c899581aedd",
            "_dom_classes": [],
            "description": "",
            "_model_name": "HTMLModel",
            "placeholder": "​",
            "_view_module": "@jupyter-widgets/controls",
            "_model_module_version": "1.5.0",
            "value": "Downloading: 100%",
            "_view_count": null,
            "_view_module_version": "1.5.0",
            "description_tooltip": null,
            "_model_module": "@jupyter-widgets/controls",
            "layout": "IPY_MODEL_2efda02eb1e94f3cbbdd507ef7e57e45"
          }
        },
        "b87e3c1d7791458cb0e41d34baa0e978": {
          "model_module": "@jupyter-widgets/controls",
          "model_name": "FloatProgressModel",
          "model_module_version": "1.5.0",
          "state": {
            "_view_name": "ProgressView",
            "style": "IPY_MODEL_1832f8288bea44d0818633e8903b0e12",
            "_dom_classes": [],
            "description": "",
            "_model_name": "FloatProgressModel",
            "bar_style": "success",
            "max": 263273408,
            "_view_module": "@jupyter-widgets/controls",
            "_model_module_version": "1.5.0",
            "value": 263273408,
            "_view_count": null,
            "_view_module_version": "1.5.0",
            "orientation": "horizontal",
            "min": 0,
            "description_tooltip": null,
            "_model_module": "@jupyter-widgets/controls",
            "layout": "IPY_MODEL_3364f3e49b3c45eeb91873627ec41fd6"
          }
        },
        "33291d4079d248bea9d8581b41d6bec5": {
          "model_module": "@jupyter-widgets/controls",
          "model_name": "HTMLModel",
          "model_module_version": "1.5.0",
          "state": {
            "_view_name": "HTMLView",
            "style": "IPY_MODEL_dd617d64c68f4200b452064c100202e6",
            "_dom_classes": [],
            "description": "",
            "_model_name": "HTMLModel",
            "placeholder": "​",
            "_view_module": "@jupyter-widgets/controls",
            "_model_module_version": "1.5.0",
            "value": " 263M/263M [00:05&lt;00:00, 55.5MB/s]",
            "_view_count": null,
            "_view_module_version": "1.5.0",
            "description_tooltip": null,
            "_model_module": "@jupyter-widgets/controls",
            "layout": "IPY_MODEL_ab9ce9821db0422c984b4730afcd5e46"
          }
        },
        "1557c30c20cc462f94a62c899581aedd": {
          "model_module": "@jupyter-widgets/controls",
          "model_name": "DescriptionStyleModel",
          "model_module_version": "1.5.0",
          "state": {
            "_view_name": "StyleView",
            "_model_name": "DescriptionStyleModel",
            "description_width": "",
            "_view_module": "@jupyter-widgets/base",
            "_model_module_version": "1.5.0",
            "_view_count": null,
            "_view_module_version": "1.2.0",
            "_model_module": "@jupyter-widgets/controls"
          }
        },
        "2efda02eb1e94f3cbbdd507ef7e57e45": {
          "model_module": "@jupyter-widgets/base",
          "model_name": "LayoutModel",
          "model_module_version": "1.2.0",
          "state": {
            "_view_name": "LayoutView",
            "grid_template_rows": null,
            "right": null,
            "justify_content": null,
            "_view_module": "@jupyter-widgets/base",
            "overflow": null,
            "_model_module_version": "1.2.0",
            "_view_count": null,
            "flex_flow": null,
            "width": null,
            "min_width": null,
            "border": null,
            "align_items": null,
            "bottom": null,
            "_model_module": "@jupyter-widgets/base",
            "top": null,
            "grid_column": null,
            "overflow_y": null,
            "overflow_x": null,
            "grid_auto_flow": null,
            "grid_area": null,
            "grid_template_columns": null,
            "flex": null,
            "_model_name": "LayoutModel",
            "justify_items": null,
            "grid_row": null,
            "max_height": null,
            "align_content": null,
            "visibility": null,
            "align_self": null,
            "height": null,
            "min_height": null,
            "padding": null,
            "grid_auto_rows": null,
            "grid_gap": null,
            "max_width": null,
            "order": null,
            "_view_module_version": "1.2.0",
            "grid_template_areas": null,
            "object_position": null,
            "object_fit": null,
            "grid_auto_columns": null,
            "margin": null,
            "display": null,
            "left": null
          }
        },
        "1832f8288bea44d0818633e8903b0e12": {
          "model_module": "@jupyter-widgets/controls",
          "model_name": "ProgressStyleModel",
          "model_module_version": "1.5.0",
          "state": {
            "_view_name": "StyleView",
            "_model_name": "ProgressStyleModel",
            "description_width": "",
            "_view_module": "@jupyter-widgets/base",
            "_model_module_version": "1.5.0",
            "_view_count": null,
            "_view_module_version": "1.2.0",
            "bar_color": null,
            "_model_module": "@jupyter-widgets/controls"
          }
        },
        "3364f3e49b3c45eeb91873627ec41fd6": {
          "model_module": "@jupyter-widgets/base",
          "model_name": "LayoutModel",
          "model_module_version": "1.2.0",
          "state": {
            "_view_name": "LayoutView",
            "grid_template_rows": null,
            "right": null,
            "justify_content": null,
            "_view_module": "@jupyter-widgets/base",
            "overflow": null,
            "_model_module_version": "1.2.0",
            "_view_count": null,
            "flex_flow": null,
            "width": null,
            "min_width": null,
            "border": null,
            "align_items": null,
            "bottom": null,
            "_model_module": "@jupyter-widgets/base",
            "top": null,
            "grid_column": null,
            "overflow_y": null,
            "overflow_x": null,
            "grid_auto_flow": null,
            "grid_area": null,
            "grid_template_columns": null,
            "flex": null,
            "_model_name": "LayoutModel",
            "justify_items": null,
            "grid_row": null,
            "max_height": null,
            "align_content": null,
            "visibility": null,
            "align_self": null,
            "height": null,
            "min_height": null,
            "padding": null,
            "grid_auto_rows": null,
            "grid_gap": null,
            "max_width": null,
            "order": null,
            "_view_module_version": "1.2.0",
            "grid_template_areas": null,
            "object_position": null,
            "object_fit": null,
            "grid_auto_columns": null,
            "margin": null,
            "display": null,
            "left": null
          }
        },
        "dd617d64c68f4200b452064c100202e6": {
          "model_module": "@jupyter-widgets/controls",
          "model_name": "DescriptionStyleModel",
          "model_module_version": "1.5.0",
          "state": {
            "_view_name": "StyleView",
            "_model_name": "DescriptionStyleModel",
            "description_width": "",
            "_view_module": "@jupyter-widgets/base",
            "_model_module_version": "1.5.0",
            "_view_count": null,
            "_view_module_version": "1.2.0",
            "_model_module": "@jupyter-widgets/controls"
          }
        },
        "ab9ce9821db0422c984b4730afcd5e46": {
          "model_module": "@jupyter-widgets/base",
          "model_name": "LayoutModel",
          "model_module_version": "1.2.0",
          "state": {
            "_view_name": "LayoutView",
            "grid_template_rows": null,
            "right": null,
            "justify_content": null,
            "_view_module": "@jupyter-widgets/base",
            "overflow": null,
            "_model_module_version": "1.2.0",
            "_view_count": null,
            "flex_flow": null,
            "width": null,
            "min_width": null,
            "border": null,
            "align_items": null,
            "bottom": null,
            "_model_module": "@jupyter-widgets/base",
            "top": null,
            "grid_column": null,
            "overflow_y": null,
            "overflow_x": null,
            "grid_auto_flow": null,
            "grid_area": null,
            "grid_template_columns": null,
            "flex": null,
            "_model_name": "LayoutModel",
            "justify_items": null,
            "grid_row": null,
            "max_height": null,
            "align_content": null,
            "visibility": null,
            "align_self": null,
            "height": null,
            "min_height": null,
            "padding": null,
            "grid_auto_rows": null,
            "grid_gap": null,
            "max_width": null,
            "order": null,
            "_view_module_version": "1.2.0",
            "grid_template_areas": null,
            "object_position": null,
            "object_fit": null,
            "grid_auto_columns": null,
            "margin": null,
            "display": null,
            "left": null
          }
        },
        "b4973c0590854ffb95ddbe19c0147a80": {
          "model_module": "@jupyter-widgets/controls",
          "model_name": "HBoxModel",
          "model_module_version": "1.5.0",
          "state": {
            "_view_name": "HBoxView",
            "_dom_classes": [],
            "_model_name": "HBoxModel",
            "_view_module": "@jupyter-widgets/controls",
            "_model_module_version": "1.5.0",
            "_view_count": null,
            "_view_module_version": "1.5.0",
            "box_style": "",
            "layout": "IPY_MODEL_cac7f1cafd264eeaa4d04e0329e4d941",
            "_model_module": "@jupyter-widgets/controls",
            "children": [
              "IPY_MODEL_9c600c0fcc3549418644a5b63d2db077",
              "IPY_MODEL_e17b3de2eea94e2281211aa8c4dbdf3c",
              "IPY_MODEL_9ca1473738c146a2af602fc6451d4cc6"
            ]
          }
        },
        "cac7f1cafd264eeaa4d04e0329e4d941": {
          "model_module": "@jupyter-widgets/base",
          "model_name": "LayoutModel",
          "model_module_version": "1.2.0",
          "state": {
            "_view_name": "LayoutView",
            "grid_template_rows": null,
            "right": null,
            "justify_content": null,
            "_view_module": "@jupyter-widgets/base",
            "overflow": null,
            "_model_module_version": "1.2.0",
            "_view_count": null,
            "flex_flow": null,
            "width": null,
            "min_width": null,
            "border": null,
            "align_items": null,
            "bottom": null,
            "_model_module": "@jupyter-widgets/base",
            "top": null,
            "grid_column": null,
            "overflow_y": null,
            "overflow_x": null,
            "grid_auto_flow": null,
            "grid_area": null,
            "grid_template_columns": null,
            "flex": null,
            "_model_name": "LayoutModel",
            "justify_items": null,
            "grid_row": null,
            "max_height": null,
            "align_content": null,
            "visibility": null,
            "align_self": null,
            "height": null,
            "min_height": null,
            "padding": null,
            "grid_auto_rows": null,
            "grid_gap": null,
            "max_width": null,
            "order": null,
            "_view_module_version": "1.2.0",
            "grid_template_areas": null,
            "object_position": null,
            "object_fit": null,
            "grid_auto_columns": null,
            "margin": null,
            "display": null,
            "left": null
          }
        },
        "9c600c0fcc3549418644a5b63d2db077": {
          "model_module": "@jupyter-widgets/controls",
          "model_name": "HTMLModel",
          "model_module_version": "1.5.0",
          "state": {
            "_view_name": "HTMLView",
            "style": "IPY_MODEL_e47c8c78a51e4df2a9142057cb415b2b",
            "_dom_classes": [],
            "description": "",
            "_model_name": "HTMLModel",
            "placeholder": "​",
            "_view_module": "@jupyter-widgets/controls",
            "_model_module_version": "1.5.0",
            "value": "Downloading: 100%",
            "_view_count": null,
            "_view_module_version": "1.5.0",
            "description_tooltip": null,
            "_model_module": "@jupyter-widgets/controls",
            "layout": "IPY_MODEL_4c53f08f53384e9b9c8cc194b49faddc"
          }
        },
        "e17b3de2eea94e2281211aa8c4dbdf3c": {
          "model_module": "@jupyter-widgets/controls",
          "model_name": "FloatProgressModel",
          "model_module_version": "1.5.0",
          "state": {
            "_view_name": "ProgressView",
            "style": "IPY_MODEL_5ca25687e548449194a59299d5ecfa68",
            "_dom_classes": [],
            "description": "",
            "_model_name": "FloatProgressModel",
            "bar_style": "success",
            "max": 213450,
            "_view_module": "@jupyter-widgets/controls",
            "_model_module_version": "1.5.0",
            "value": 213450,
            "_view_count": null,
            "_view_module_version": "1.5.0",
            "orientation": "horizontal",
            "min": 0,
            "description_tooltip": null,
            "_model_module": "@jupyter-widgets/controls",
            "layout": "IPY_MODEL_1787ef54b5b341c5aa5b5d2b1b096687"
          }
        },
        "9ca1473738c146a2af602fc6451d4cc6": {
          "model_module": "@jupyter-widgets/controls",
          "model_name": "HTMLModel",
          "model_module_version": "1.5.0",
          "state": {
            "_view_name": "HTMLView",
            "style": "IPY_MODEL_73288109561c46059ba0414a5ede0672",
            "_dom_classes": [],
            "description": "",
            "_model_name": "HTMLModel",
            "placeholder": "​",
            "_view_module": "@jupyter-widgets/controls",
            "_model_module_version": "1.5.0",
            "value": " 213k/213k [00:00&lt;00:00, 626kB/s]",
            "_view_count": null,
            "_view_module_version": "1.5.0",
            "description_tooltip": null,
            "_model_module": "@jupyter-widgets/controls",
            "layout": "IPY_MODEL_ab595118e09846bda8d8aa6c35f7eede"
          }
        },
        "e47c8c78a51e4df2a9142057cb415b2b": {
          "model_module": "@jupyter-widgets/controls",
          "model_name": "DescriptionStyleModel",
          "model_module_version": "1.5.0",
          "state": {
            "_view_name": "StyleView",
            "_model_name": "DescriptionStyleModel",
            "description_width": "",
            "_view_module": "@jupyter-widgets/base",
            "_model_module_version": "1.5.0",
            "_view_count": null,
            "_view_module_version": "1.2.0",
            "_model_module": "@jupyter-widgets/controls"
          }
        },
        "4c53f08f53384e9b9c8cc194b49faddc": {
          "model_module": "@jupyter-widgets/base",
          "model_name": "LayoutModel",
          "model_module_version": "1.2.0",
          "state": {
            "_view_name": "LayoutView",
            "grid_template_rows": null,
            "right": null,
            "justify_content": null,
            "_view_module": "@jupyter-widgets/base",
            "overflow": null,
            "_model_module_version": "1.2.0",
            "_view_count": null,
            "flex_flow": null,
            "width": null,
            "min_width": null,
            "border": null,
            "align_items": null,
            "bottom": null,
            "_model_module": "@jupyter-widgets/base",
            "top": null,
            "grid_column": null,
            "overflow_y": null,
            "overflow_x": null,
            "grid_auto_flow": null,
            "grid_area": null,
            "grid_template_columns": null,
            "flex": null,
            "_model_name": "LayoutModel",
            "justify_items": null,
            "grid_row": null,
            "max_height": null,
            "align_content": null,
            "visibility": null,
            "align_self": null,
            "height": null,
            "min_height": null,
            "padding": null,
            "grid_auto_rows": null,
            "grid_gap": null,
            "max_width": null,
            "order": null,
            "_view_module_version": "1.2.0",
            "grid_template_areas": null,
            "object_position": null,
            "object_fit": null,
            "grid_auto_columns": null,
            "margin": null,
            "display": null,
            "left": null
          }
        },
        "5ca25687e548449194a59299d5ecfa68": {
          "model_module": "@jupyter-widgets/controls",
          "model_name": "ProgressStyleModel",
          "model_module_version": "1.5.0",
          "state": {
            "_view_name": "StyleView",
            "_model_name": "ProgressStyleModel",
            "description_width": "",
            "_view_module": "@jupyter-widgets/base",
            "_model_module_version": "1.5.0",
            "_view_count": null,
            "_view_module_version": "1.2.0",
            "bar_color": null,
            "_model_module": "@jupyter-widgets/controls"
          }
        },
        "1787ef54b5b341c5aa5b5d2b1b096687": {
          "model_module": "@jupyter-widgets/base",
          "model_name": "LayoutModel",
          "model_module_version": "1.2.0",
          "state": {
            "_view_name": "LayoutView",
            "grid_template_rows": null,
            "right": null,
            "justify_content": null,
            "_view_module": "@jupyter-widgets/base",
            "overflow": null,
            "_model_module_version": "1.2.0",
            "_view_count": null,
            "flex_flow": null,
            "width": null,
            "min_width": null,
            "border": null,
            "align_items": null,
            "bottom": null,
            "_model_module": "@jupyter-widgets/base",
            "top": null,
            "grid_column": null,
            "overflow_y": null,
            "overflow_x": null,
            "grid_auto_flow": null,
            "grid_area": null,
            "grid_template_columns": null,
            "flex": null,
            "_model_name": "LayoutModel",
            "justify_items": null,
            "grid_row": null,
            "max_height": null,
            "align_content": null,
            "visibility": null,
            "align_self": null,
            "height": null,
            "min_height": null,
            "padding": null,
            "grid_auto_rows": null,
            "grid_gap": null,
            "max_width": null,
            "order": null,
            "_view_module_version": "1.2.0",
            "grid_template_areas": null,
            "object_position": null,
            "object_fit": null,
            "grid_auto_columns": null,
            "margin": null,
            "display": null,
            "left": null
          }
        },
        "73288109561c46059ba0414a5ede0672": {
          "model_module": "@jupyter-widgets/controls",
          "model_name": "DescriptionStyleModel",
          "model_module_version": "1.5.0",
          "state": {
            "_view_name": "StyleView",
            "_model_name": "DescriptionStyleModel",
            "description_width": "",
            "_view_module": "@jupyter-widgets/base",
            "_model_module_version": "1.5.0",
            "_view_count": null,
            "_view_module_version": "1.2.0",
            "_model_module": "@jupyter-widgets/controls"
          }
        },
        "ab595118e09846bda8d8aa6c35f7eede": {
          "model_module": "@jupyter-widgets/base",
          "model_name": "LayoutModel",
          "model_module_version": "1.2.0",
          "state": {
            "_view_name": "LayoutView",
            "grid_template_rows": null,
            "right": null,
            "justify_content": null,
            "_view_module": "@jupyter-widgets/base",
            "overflow": null,
            "_model_module_version": "1.2.0",
            "_view_count": null,
            "flex_flow": null,
            "width": null,
            "min_width": null,
            "border": null,
            "align_items": null,
            "bottom": null,
            "_model_module": "@jupyter-widgets/base",
            "top": null,
            "grid_column": null,
            "overflow_y": null,
            "overflow_x": null,
            "grid_auto_flow": null,
            "grid_area": null,
            "grid_template_columns": null,
            "flex": null,
            "_model_name": "LayoutModel",
            "justify_items": null,
            "grid_row": null,
            "max_height": null,
            "align_content": null,
            "visibility": null,
            "align_self": null,
            "height": null,
            "min_height": null,
            "padding": null,
            "grid_auto_rows": null,
            "grid_gap": null,
            "max_width": null,
            "order": null,
            "_view_module_version": "1.2.0",
            "grid_template_areas": null,
            "object_position": null,
            "object_fit": null,
            "grid_auto_columns": null,
            "margin": null,
            "display": null,
            "left": null
          }
        },
        "d9a2b39d5ff246e4a40ef32c480946c2": {
          "model_module": "@jupyter-widgets/controls",
          "model_name": "HBoxModel",
          "model_module_version": "1.5.0",
          "state": {
            "_view_name": "HBoxView",
            "_dom_classes": [],
            "_model_name": "HBoxModel",
            "_view_module": "@jupyter-widgets/controls",
            "_model_module_version": "1.5.0",
            "_view_count": null,
            "_view_module_version": "1.5.0",
            "box_style": "",
            "layout": "IPY_MODEL_7ab3cb1ecf8b42548953cd7a4386d0b4",
            "_model_module": "@jupyter-widgets/controls",
            "children": [
              "IPY_MODEL_fd39aa933755417383456edaad7fb7d6",
              "IPY_MODEL_9e0e2d59fd774c4788294542ab4f4883",
              "IPY_MODEL_98f50e3a195e462e8329c23a61750501"
            ]
          }
        },
        "7ab3cb1ecf8b42548953cd7a4386d0b4": {
          "model_module": "@jupyter-widgets/base",
          "model_name": "LayoutModel",
          "model_module_version": "1.2.0",
          "state": {
            "_view_name": "LayoutView",
            "grid_template_rows": null,
            "right": null,
            "justify_content": null,
            "_view_module": "@jupyter-widgets/base",
            "overflow": null,
            "_model_module_version": "1.2.0",
            "_view_count": null,
            "flex_flow": null,
            "width": null,
            "min_width": null,
            "border": null,
            "align_items": null,
            "bottom": null,
            "_model_module": "@jupyter-widgets/base",
            "top": null,
            "grid_column": null,
            "overflow_y": null,
            "overflow_x": null,
            "grid_auto_flow": null,
            "grid_area": null,
            "grid_template_columns": null,
            "flex": null,
            "_model_name": "LayoutModel",
            "justify_items": null,
            "grid_row": null,
            "max_height": null,
            "align_content": null,
            "visibility": null,
            "align_self": null,
            "height": null,
            "min_height": null,
            "padding": null,
            "grid_auto_rows": null,
            "grid_gap": null,
            "max_width": null,
            "order": null,
            "_view_module_version": "1.2.0",
            "grid_template_areas": null,
            "object_position": null,
            "object_fit": null,
            "grid_auto_columns": null,
            "margin": null,
            "display": null,
            "left": null
          }
        },
        "fd39aa933755417383456edaad7fb7d6": {
          "model_module": "@jupyter-widgets/controls",
          "model_name": "HTMLModel",
          "model_module_version": "1.5.0",
          "state": {
            "_view_name": "HTMLView",
            "style": "IPY_MODEL_1953cb4d48d54c7893791adf5674b90a",
            "_dom_classes": [],
            "description": "",
            "_model_name": "HTMLModel",
            "placeholder": "​",
            "_view_module": "@jupyter-widgets/controls",
            "_model_module_version": "1.5.0",
            "value": "Downloading: 100%",
            "_view_count": null,
            "_view_module_version": "1.5.0",
            "description_tooltip": null,
            "_model_module": "@jupyter-widgets/controls",
            "layout": "IPY_MODEL_a39806eef97f4131a1b9cf4310bda1c7"
          }
        },
        "9e0e2d59fd774c4788294542ab4f4883": {
          "model_module": "@jupyter-widgets/controls",
          "model_name": "FloatProgressModel",
          "model_module_version": "1.5.0",
          "state": {
            "_view_name": "ProgressView",
            "style": "IPY_MODEL_632cf0c13e4640e3a7ec09cbf300ede0",
            "_dom_classes": [],
            "description": "",
            "_model_name": "FloatProgressModel",
            "bar_style": "success",
            "max": 435797,
            "_view_module": "@jupyter-widgets/controls",
            "_model_module_version": "1.5.0",
            "value": 435797,
            "_view_count": null,
            "_view_module_version": "1.5.0",
            "orientation": "horizontal",
            "min": 0,
            "description_tooltip": null,
            "_model_module": "@jupyter-widgets/controls",
            "layout": "IPY_MODEL_a0e2e1f0e27b40c4add3064d8558e477"
          }
        },
        "98f50e3a195e462e8329c23a61750501": {
          "model_module": "@jupyter-widgets/controls",
          "model_name": "HTMLModel",
          "model_module_version": "1.5.0",
          "state": {
            "_view_name": "HTMLView",
            "style": "IPY_MODEL_33468aea1c624fbba4471db32517945c",
            "_dom_classes": [],
            "description": "",
            "_model_name": "HTMLModel",
            "placeholder": "​",
            "_view_module": "@jupyter-widgets/controls",
            "_model_module_version": "1.5.0",
            "value": " 436k/436k [00:00&lt;00:00, 921kB/s]",
            "_view_count": null,
            "_view_module_version": "1.5.0",
            "description_tooltip": null,
            "_model_module": "@jupyter-widgets/controls",
            "layout": "IPY_MODEL_e81e62e4a8a14bec95a334f95823f4a5"
          }
        },
        "1953cb4d48d54c7893791adf5674b90a": {
          "model_module": "@jupyter-widgets/controls",
          "model_name": "DescriptionStyleModel",
          "model_module_version": "1.5.0",
          "state": {
            "_view_name": "StyleView",
            "_model_name": "DescriptionStyleModel",
            "description_width": "",
            "_view_module": "@jupyter-widgets/base",
            "_model_module_version": "1.5.0",
            "_view_count": null,
            "_view_module_version": "1.2.0",
            "_model_module": "@jupyter-widgets/controls"
          }
        },
        "a39806eef97f4131a1b9cf4310bda1c7": {
          "model_module": "@jupyter-widgets/base",
          "model_name": "LayoutModel",
          "model_module_version": "1.2.0",
          "state": {
            "_view_name": "LayoutView",
            "grid_template_rows": null,
            "right": null,
            "justify_content": null,
            "_view_module": "@jupyter-widgets/base",
            "overflow": null,
            "_model_module_version": "1.2.0",
            "_view_count": null,
            "flex_flow": null,
            "width": null,
            "min_width": null,
            "border": null,
            "align_items": null,
            "bottom": null,
            "_model_module": "@jupyter-widgets/base",
            "top": null,
            "grid_column": null,
            "overflow_y": null,
            "overflow_x": null,
            "grid_auto_flow": null,
            "grid_area": null,
            "grid_template_columns": null,
            "flex": null,
            "_model_name": "LayoutModel",
            "justify_items": null,
            "grid_row": null,
            "max_height": null,
            "align_content": null,
            "visibility": null,
            "align_self": null,
            "height": null,
            "min_height": null,
            "padding": null,
            "grid_auto_rows": null,
            "grid_gap": null,
            "max_width": null,
            "order": null,
            "_view_module_version": "1.2.0",
            "grid_template_areas": null,
            "object_position": null,
            "object_fit": null,
            "grid_auto_columns": null,
            "margin": null,
            "display": null,
            "left": null
          }
        },
        "632cf0c13e4640e3a7ec09cbf300ede0": {
          "model_module": "@jupyter-widgets/controls",
          "model_name": "ProgressStyleModel",
          "model_module_version": "1.5.0",
          "state": {
            "_view_name": "StyleView",
            "_model_name": "ProgressStyleModel",
            "description_width": "",
            "_view_module": "@jupyter-widgets/base",
            "_model_module_version": "1.5.0",
            "_view_count": null,
            "_view_module_version": "1.2.0",
            "bar_color": null,
            "_model_module": "@jupyter-widgets/controls"
          }
        },
        "a0e2e1f0e27b40c4add3064d8558e477": {
          "model_module": "@jupyter-widgets/base",
          "model_name": "LayoutModel",
          "model_module_version": "1.2.0",
          "state": {
            "_view_name": "LayoutView",
            "grid_template_rows": null,
            "right": null,
            "justify_content": null,
            "_view_module": "@jupyter-widgets/base",
            "overflow": null,
            "_model_module_version": "1.2.0",
            "_view_count": null,
            "flex_flow": null,
            "width": null,
            "min_width": null,
            "border": null,
            "align_items": null,
            "bottom": null,
            "_model_module": "@jupyter-widgets/base",
            "top": null,
            "grid_column": null,
            "overflow_y": null,
            "overflow_x": null,
            "grid_auto_flow": null,
            "grid_area": null,
            "grid_template_columns": null,
            "flex": null,
            "_model_name": "LayoutModel",
            "justify_items": null,
            "grid_row": null,
            "max_height": null,
            "align_content": null,
            "visibility": null,
            "align_self": null,
            "height": null,
            "min_height": null,
            "padding": null,
            "grid_auto_rows": null,
            "grid_gap": null,
            "max_width": null,
            "order": null,
            "_view_module_version": "1.2.0",
            "grid_template_areas": null,
            "object_position": null,
            "object_fit": null,
            "grid_auto_columns": null,
            "margin": null,
            "display": null,
            "left": null
          }
        },
        "33468aea1c624fbba4471db32517945c": {
          "model_module": "@jupyter-widgets/controls",
          "model_name": "DescriptionStyleModel",
          "model_module_version": "1.5.0",
          "state": {
            "_view_name": "StyleView",
            "_model_name": "DescriptionStyleModel",
            "description_width": "",
            "_view_module": "@jupyter-widgets/base",
            "_model_module_version": "1.5.0",
            "_view_count": null,
            "_view_module_version": "1.2.0",
            "_model_module": "@jupyter-widgets/controls"
          }
        },
        "e81e62e4a8a14bec95a334f95823f4a5": {
          "model_module": "@jupyter-widgets/base",
          "model_name": "LayoutModel",
          "model_module_version": "1.2.0",
          "state": {
            "_view_name": "LayoutView",
            "grid_template_rows": null,
            "right": null,
            "justify_content": null,
            "_view_module": "@jupyter-widgets/base",
            "overflow": null,
            "_model_module_version": "1.2.0",
            "_view_count": null,
            "flex_flow": null,
            "width": null,
            "min_width": null,
            "border": null,
            "align_items": null,
            "bottom": null,
            "_model_module": "@jupyter-widgets/base",
            "top": null,
            "grid_column": null,
            "overflow_y": null,
            "overflow_x": null,
            "grid_auto_flow": null,
            "grid_area": null,
            "grid_template_columns": null,
            "flex": null,
            "_model_name": "LayoutModel",
            "justify_items": null,
            "grid_row": null,
            "max_height": null,
            "align_content": null,
            "visibility": null,
            "align_self": null,
            "height": null,
            "min_height": null,
            "padding": null,
            "grid_auto_rows": null,
            "grid_gap": null,
            "max_width": null,
            "order": null,
            "_view_module_version": "1.2.0",
            "grid_template_areas": null,
            "object_position": null,
            "object_fit": null,
            "grid_auto_columns": null,
            "margin": null,
            "display": null,
            "left": null
          }
        },
        "0956c70bce3040eaae929c80c77459c7": {
          "model_module": "@jupyter-widgets/controls",
          "model_name": "HBoxModel",
          "model_module_version": "1.5.0",
          "state": {
            "_view_name": "HBoxView",
            "_dom_classes": [],
            "_model_name": "HBoxModel",
            "_view_module": "@jupyter-widgets/controls",
            "_model_module_version": "1.5.0",
            "_view_count": null,
            "_view_module_version": "1.5.0",
            "box_style": "",
            "layout": "IPY_MODEL_27526f3f229d4d258d22dbe803d1411e",
            "_model_module": "@jupyter-widgets/controls",
            "children": [
              "IPY_MODEL_9ac7b75537f94aeea82a890190979481",
              "IPY_MODEL_e0cf5af076ce410f91420057e086d7dc",
              "IPY_MODEL_1ee2626f84644950b7fc36777ebf75e8"
            ]
          }
        },
        "27526f3f229d4d258d22dbe803d1411e": {
          "model_module": "@jupyter-widgets/base",
          "model_name": "LayoutModel",
          "model_module_version": "1.2.0",
          "state": {
            "_view_name": "LayoutView",
            "grid_template_rows": null,
            "right": null,
            "justify_content": null,
            "_view_module": "@jupyter-widgets/base",
            "overflow": null,
            "_model_module_version": "1.2.0",
            "_view_count": null,
            "flex_flow": null,
            "width": null,
            "min_width": null,
            "border": null,
            "align_items": null,
            "bottom": null,
            "_model_module": "@jupyter-widgets/base",
            "top": null,
            "grid_column": null,
            "overflow_y": null,
            "overflow_x": null,
            "grid_auto_flow": null,
            "grid_area": null,
            "grid_template_columns": null,
            "flex": null,
            "_model_name": "LayoutModel",
            "justify_items": null,
            "grid_row": null,
            "max_height": null,
            "align_content": null,
            "visibility": null,
            "align_self": null,
            "height": null,
            "min_height": null,
            "padding": null,
            "grid_auto_rows": null,
            "grid_gap": null,
            "max_width": null,
            "order": null,
            "_view_module_version": "1.2.0",
            "grid_template_areas": null,
            "object_position": null,
            "object_fit": null,
            "grid_auto_columns": null,
            "margin": null,
            "display": null,
            "left": null
          }
        },
        "9ac7b75537f94aeea82a890190979481": {
          "model_module": "@jupyter-widgets/controls",
          "model_name": "HTMLModel",
          "model_module_version": "1.5.0",
          "state": {
            "_view_name": "HTMLView",
            "style": "IPY_MODEL_8628689b503f473ba891afecf9ed55f1",
            "_dom_classes": [],
            "description": "",
            "_model_name": "HTMLModel",
            "placeholder": "​",
            "_view_module": "@jupyter-widgets/controls",
            "_model_module_version": "1.5.0",
            "value": "Downloading: 100%",
            "_view_count": null,
            "_view_module_version": "1.5.0",
            "description_tooltip": null,
            "_model_module": "@jupyter-widgets/controls",
            "layout": "IPY_MODEL_35cfad8c28914d369d00278750dd7855"
          }
        },
        "e0cf5af076ce410f91420057e086d7dc": {
          "model_module": "@jupyter-widgets/controls",
          "model_name": "FloatProgressModel",
          "model_module_version": "1.5.0",
          "state": {
            "_view_name": "ProgressView",
            "style": "IPY_MODEL_6fb8740470154822ad4b70bfc8b78e9b",
            "_dom_classes": [],
            "description": "",
            "_model_name": "FloatProgressModel",
            "bar_style": "success",
            "max": 29,
            "_view_module": "@jupyter-widgets/controls",
            "_model_module_version": "1.5.0",
            "value": 29,
            "_view_count": null,
            "_view_module_version": "1.5.0",
            "orientation": "horizontal",
            "min": 0,
            "description_tooltip": null,
            "_model_module": "@jupyter-widgets/controls",
            "layout": "IPY_MODEL_7eddc3a2979e4086914210a4a70fb850"
          }
        },
        "1ee2626f84644950b7fc36777ebf75e8": {
          "model_module": "@jupyter-widgets/controls",
          "model_name": "HTMLModel",
          "model_module_version": "1.5.0",
          "state": {
            "_view_name": "HTMLView",
            "style": "IPY_MODEL_5e3c9c65caa043098a09c2dcb0efd598",
            "_dom_classes": [],
            "description": "",
            "_model_name": "HTMLModel",
            "placeholder": "​",
            "_view_module": "@jupyter-widgets/controls",
            "_model_module_version": "1.5.0",
            "value": " 29.0/29.0 [00:00&lt;00:00, 870B/s]",
            "_view_count": null,
            "_view_module_version": "1.5.0",
            "description_tooltip": null,
            "_model_module": "@jupyter-widgets/controls",
            "layout": "IPY_MODEL_23842eddf0c141a7956afe64b8f26745"
          }
        },
        "8628689b503f473ba891afecf9ed55f1": {
          "model_module": "@jupyter-widgets/controls",
          "model_name": "DescriptionStyleModel",
          "model_module_version": "1.5.0",
          "state": {
            "_view_name": "StyleView",
            "_model_name": "DescriptionStyleModel",
            "description_width": "",
            "_view_module": "@jupyter-widgets/base",
            "_model_module_version": "1.5.0",
            "_view_count": null,
            "_view_module_version": "1.2.0",
            "_model_module": "@jupyter-widgets/controls"
          }
        },
        "35cfad8c28914d369d00278750dd7855": {
          "model_module": "@jupyter-widgets/base",
          "model_name": "LayoutModel",
          "model_module_version": "1.2.0",
          "state": {
            "_view_name": "LayoutView",
            "grid_template_rows": null,
            "right": null,
            "justify_content": null,
            "_view_module": "@jupyter-widgets/base",
            "overflow": null,
            "_model_module_version": "1.2.0",
            "_view_count": null,
            "flex_flow": null,
            "width": null,
            "min_width": null,
            "border": null,
            "align_items": null,
            "bottom": null,
            "_model_module": "@jupyter-widgets/base",
            "top": null,
            "grid_column": null,
            "overflow_y": null,
            "overflow_x": null,
            "grid_auto_flow": null,
            "grid_area": null,
            "grid_template_columns": null,
            "flex": null,
            "_model_name": "LayoutModel",
            "justify_items": null,
            "grid_row": null,
            "max_height": null,
            "align_content": null,
            "visibility": null,
            "align_self": null,
            "height": null,
            "min_height": null,
            "padding": null,
            "grid_auto_rows": null,
            "grid_gap": null,
            "max_width": null,
            "order": null,
            "_view_module_version": "1.2.0",
            "grid_template_areas": null,
            "object_position": null,
            "object_fit": null,
            "grid_auto_columns": null,
            "margin": null,
            "display": null,
            "left": null
          }
        },
        "6fb8740470154822ad4b70bfc8b78e9b": {
          "model_module": "@jupyter-widgets/controls",
          "model_name": "ProgressStyleModel",
          "model_module_version": "1.5.0",
          "state": {
            "_view_name": "StyleView",
            "_model_name": "ProgressStyleModel",
            "description_width": "",
            "_view_module": "@jupyter-widgets/base",
            "_model_module_version": "1.5.0",
            "_view_count": null,
            "_view_module_version": "1.2.0",
            "bar_color": null,
            "_model_module": "@jupyter-widgets/controls"
          }
        },
        "7eddc3a2979e4086914210a4a70fb850": {
          "model_module": "@jupyter-widgets/base",
          "model_name": "LayoutModel",
          "model_module_version": "1.2.0",
          "state": {
            "_view_name": "LayoutView",
            "grid_template_rows": null,
            "right": null,
            "justify_content": null,
            "_view_module": "@jupyter-widgets/base",
            "overflow": null,
            "_model_module_version": "1.2.0",
            "_view_count": null,
            "flex_flow": null,
            "width": null,
            "min_width": null,
            "border": null,
            "align_items": null,
            "bottom": null,
            "_model_module": "@jupyter-widgets/base",
            "top": null,
            "grid_column": null,
            "overflow_y": null,
            "overflow_x": null,
            "grid_auto_flow": null,
            "grid_area": null,
            "grid_template_columns": null,
            "flex": null,
            "_model_name": "LayoutModel",
            "justify_items": null,
            "grid_row": null,
            "max_height": null,
            "align_content": null,
            "visibility": null,
            "align_self": null,
            "height": null,
            "min_height": null,
            "padding": null,
            "grid_auto_rows": null,
            "grid_gap": null,
            "max_width": null,
            "order": null,
            "_view_module_version": "1.2.0",
            "grid_template_areas": null,
            "object_position": null,
            "object_fit": null,
            "grid_auto_columns": null,
            "margin": null,
            "display": null,
            "left": null
          }
        },
        "5e3c9c65caa043098a09c2dcb0efd598": {
          "model_module": "@jupyter-widgets/controls",
          "model_name": "DescriptionStyleModel",
          "model_module_version": "1.5.0",
          "state": {
            "_view_name": "StyleView",
            "_model_name": "DescriptionStyleModel",
            "description_width": "",
            "_view_module": "@jupyter-widgets/base",
            "_model_module_version": "1.5.0",
            "_view_count": null,
            "_view_module_version": "1.2.0",
            "_model_module": "@jupyter-widgets/controls"
          }
        },
        "23842eddf0c141a7956afe64b8f26745": {
          "model_module": "@jupyter-widgets/base",
          "model_name": "LayoutModel",
          "model_module_version": "1.2.0",
          "state": {
            "_view_name": "LayoutView",
            "grid_template_rows": null,
            "right": null,
            "justify_content": null,
            "_view_module": "@jupyter-widgets/base",
            "overflow": null,
            "_model_module_version": "1.2.0",
            "_view_count": null,
            "flex_flow": null,
            "width": null,
            "min_width": null,
            "border": null,
            "align_items": null,
            "bottom": null,
            "_model_module": "@jupyter-widgets/base",
            "top": null,
            "grid_column": null,
            "overflow_y": null,
            "overflow_x": null,
            "grid_auto_flow": null,
            "grid_area": null,
            "grid_template_columns": null,
            "flex": null,
            "_model_name": "LayoutModel",
            "justify_items": null,
            "grid_row": null,
            "max_height": null,
            "align_content": null,
            "visibility": null,
            "align_self": null,
            "height": null,
            "min_height": null,
            "padding": null,
            "grid_auto_rows": null,
            "grid_gap": null,
            "max_width": null,
            "order": null,
            "_view_module_version": "1.2.0",
            "grid_template_areas": null,
            "object_position": null,
            "object_fit": null,
            "grid_auto_columns": null,
            "margin": null,
            "display": null,
            "left": null
          }
        },
        "f9d6a399f70a4b0a826f4b65507c258f": {
          "model_module": "@jupyter-widgets/controls",
          "model_name": "HBoxModel",
          "model_module_version": "1.5.0",
          "state": {
            "_view_name": "HBoxView",
            "_dom_classes": [],
            "_model_name": "HBoxModel",
            "_view_module": "@jupyter-widgets/controls",
            "_model_module_version": "1.5.0",
            "_view_count": null,
            "_view_module_version": "1.5.0",
            "box_style": "",
            "layout": "IPY_MODEL_45870726815145df8e13765b649cd019",
            "_model_module": "@jupyter-widgets/controls",
            "children": [
              "IPY_MODEL_fae616e4a8db476fad63cd7a82f99501",
              "IPY_MODEL_a081b1b91f1f4d0188477a14935e66b0",
              "IPY_MODEL_c7b973ad65b0495095226f49d67332b3"
            ]
          }
        },
        "45870726815145df8e13765b649cd019": {
          "model_module": "@jupyter-widgets/base",
          "model_name": "LayoutModel",
          "model_module_version": "1.2.0",
          "state": {
            "_view_name": "LayoutView",
            "grid_template_rows": null,
            "right": null,
            "justify_content": null,
            "_view_module": "@jupyter-widgets/base",
            "overflow": null,
            "_model_module_version": "1.2.0",
            "_view_count": null,
            "flex_flow": null,
            "width": null,
            "min_width": null,
            "border": null,
            "align_items": null,
            "bottom": null,
            "_model_module": "@jupyter-widgets/base",
            "top": null,
            "grid_column": null,
            "overflow_y": null,
            "overflow_x": null,
            "grid_auto_flow": null,
            "grid_area": null,
            "grid_template_columns": null,
            "flex": null,
            "_model_name": "LayoutModel",
            "justify_items": null,
            "grid_row": null,
            "max_height": null,
            "align_content": null,
            "visibility": null,
            "align_self": null,
            "height": null,
            "min_height": null,
            "padding": null,
            "grid_auto_rows": null,
            "grid_gap": null,
            "max_width": null,
            "order": null,
            "_view_module_version": "1.2.0",
            "grid_template_areas": null,
            "object_position": null,
            "object_fit": null,
            "grid_auto_columns": null,
            "margin": null,
            "display": null,
            "left": null
          }
        },
        "fae616e4a8db476fad63cd7a82f99501": {
          "model_module": "@jupyter-widgets/controls",
          "model_name": "HTMLModel",
          "model_module_version": "1.5.0",
          "state": {
            "_view_name": "HTMLView",
            "style": "IPY_MODEL_e9a205aab48b43aea98f3e86120426ec",
            "_dom_classes": [],
            "description": "",
            "_model_name": "HTMLModel",
            "placeholder": "​",
            "_view_module": "@jupyter-widgets/controls",
            "_model_module_version": "1.5.0",
            "value": "Downloading: 100%",
            "_view_count": null,
            "_view_module_version": "1.5.0",
            "description_tooltip": null,
            "_model_module": "@jupyter-widgets/controls",
            "layout": "IPY_MODEL_8a5368c3c01e4d20bd75195abb72022e"
          }
        },
        "a081b1b91f1f4d0188477a14935e66b0": {
          "model_module": "@jupyter-widgets/controls",
          "model_name": "FloatProgressModel",
          "model_module_version": "1.5.0",
          "state": {
            "_view_name": "ProgressView",
            "style": "IPY_MODEL_22c1e46cbe3f4de2a81e7fa337fedaf2",
            "_dom_classes": [],
            "description": "",
            "_model_name": "FloatProgressModel",
            "bar_style": "success",
            "max": 411,
            "_view_module": "@jupyter-widgets/controls",
            "_model_module_version": "1.5.0",
            "value": 411,
            "_view_count": null,
            "_view_module_version": "1.5.0",
            "orientation": "horizontal",
            "min": 0,
            "description_tooltip": null,
            "_model_module": "@jupyter-widgets/controls",
            "layout": "IPY_MODEL_5f2e26ae5308436085c39140e2e641f8"
          }
        },
        "c7b973ad65b0495095226f49d67332b3": {
          "model_module": "@jupyter-widgets/controls",
          "model_name": "HTMLModel",
          "model_module_version": "1.5.0",
          "state": {
            "_view_name": "HTMLView",
            "style": "IPY_MODEL_ea38f219a00445d892e962a5eb69c3c7",
            "_dom_classes": [],
            "description": "",
            "_model_name": "HTMLModel",
            "placeholder": "​",
            "_view_module": "@jupyter-widgets/controls",
            "_model_module_version": "1.5.0",
            "value": " 411/411 [00:00&lt;00:00, 13.6kB/s]",
            "_view_count": null,
            "_view_module_version": "1.5.0",
            "description_tooltip": null,
            "_model_module": "@jupyter-widgets/controls",
            "layout": "IPY_MODEL_bc9e006921ef4fe9a194a853d7c47545"
          }
        },
        "e9a205aab48b43aea98f3e86120426ec": {
          "model_module": "@jupyter-widgets/controls",
          "model_name": "DescriptionStyleModel",
          "model_module_version": "1.5.0",
          "state": {
            "_view_name": "StyleView",
            "_model_name": "DescriptionStyleModel",
            "description_width": "",
            "_view_module": "@jupyter-widgets/base",
            "_model_module_version": "1.5.0",
            "_view_count": null,
            "_view_module_version": "1.2.0",
            "_model_module": "@jupyter-widgets/controls"
          }
        },
        "8a5368c3c01e4d20bd75195abb72022e": {
          "model_module": "@jupyter-widgets/base",
          "model_name": "LayoutModel",
          "model_module_version": "1.2.0",
          "state": {
            "_view_name": "LayoutView",
            "grid_template_rows": null,
            "right": null,
            "justify_content": null,
            "_view_module": "@jupyter-widgets/base",
            "overflow": null,
            "_model_module_version": "1.2.0",
            "_view_count": null,
            "flex_flow": null,
            "width": null,
            "min_width": null,
            "border": null,
            "align_items": null,
            "bottom": null,
            "_model_module": "@jupyter-widgets/base",
            "top": null,
            "grid_column": null,
            "overflow_y": null,
            "overflow_x": null,
            "grid_auto_flow": null,
            "grid_area": null,
            "grid_template_columns": null,
            "flex": null,
            "_model_name": "LayoutModel",
            "justify_items": null,
            "grid_row": null,
            "max_height": null,
            "align_content": null,
            "visibility": null,
            "align_self": null,
            "height": null,
            "min_height": null,
            "padding": null,
            "grid_auto_rows": null,
            "grid_gap": null,
            "max_width": null,
            "order": null,
            "_view_module_version": "1.2.0",
            "grid_template_areas": null,
            "object_position": null,
            "object_fit": null,
            "grid_auto_columns": null,
            "margin": null,
            "display": null,
            "left": null
          }
        },
        "22c1e46cbe3f4de2a81e7fa337fedaf2": {
          "model_module": "@jupyter-widgets/controls",
          "model_name": "ProgressStyleModel",
          "model_module_version": "1.5.0",
          "state": {
            "_view_name": "StyleView",
            "_model_name": "ProgressStyleModel",
            "description_width": "",
            "_view_module": "@jupyter-widgets/base",
            "_model_module_version": "1.5.0",
            "_view_count": null,
            "_view_module_version": "1.2.0",
            "bar_color": null,
            "_model_module": "@jupyter-widgets/controls"
          }
        },
        "5f2e26ae5308436085c39140e2e641f8": {
          "model_module": "@jupyter-widgets/base",
          "model_name": "LayoutModel",
          "model_module_version": "1.2.0",
          "state": {
            "_view_name": "LayoutView",
            "grid_template_rows": null,
            "right": null,
            "justify_content": null,
            "_view_module": "@jupyter-widgets/base",
            "overflow": null,
            "_model_module_version": "1.2.0",
            "_view_count": null,
            "flex_flow": null,
            "width": null,
            "min_width": null,
            "border": null,
            "align_items": null,
            "bottom": null,
            "_model_module": "@jupyter-widgets/base",
            "top": null,
            "grid_column": null,
            "overflow_y": null,
            "overflow_x": null,
            "grid_auto_flow": null,
            "grid_area": null,
            "grid_template_columns": null,
            "flex": null,
            "_model_name": "LayoutModel",
            "justify_items": null,
            "grid_row": null,
            "max_height": null,
            "align_content": null,
            "visibility": null,
            "align_self": null,
            "height": null,
            "min_height": null,
            "padding": null,
            "grid_auto_rows": null,
            "grid_gap": null,
            "max_width": null,
            "order": null,
            "_view_module_version": "1.2.0",
            "grid_template_areas": null,
            "object_position": null,
            "object_fit": null,
            "grid_auto_columns": null,
            "margin": null,
            "display": null,
            "left": null
          }
        },
        "ea38f219a00445d892e962a5eb69c3c7": {
          "model_module": "@jupyter-widgets/controls",
          "model_name": "DescriptionStyleModel",
          "model_module_version": "1.5.0",
          "state": {
            "_view_name": "StyleView",
            "_model_name": "DescriptionStyleModel",
            "description_width": "",
            "_view_module": "@jupyter-widgets/base",
            "_model_module_version": "1.5.0",
            "_view_count": null,
            "_view_module_version": "1.2.0",
            "_model_module": "@jupyter-widgets/controls"
          }
        },
        "bc9e006921ef4fe9a194a853d7c47545": {
          "model_module": "@jupyter-widgets/base",
          "model_name": "LayoutModel",
          "model_module_version": "1.2.0",
          "state": {
            "_view_name": "LayoutView",
            "grid_template_rows": null,
            "right": null,
            "justify_content": null,
            "_view_module": "@jupyter-widgets/base",
            "overflow": null,
            "_model_module_version": "1.2.0",
            "_view_count": null,
            "flex_flow": null,
            "width": null,
            "min_width": null,
            "border": null,
            "align_items": null,
            "bottom": null,
            "_model_module": "@jupyter-widgets/base",
            "top": null,
            "grid_column": null,
            "overflow_y": null,
            "overflow_x": null,
            "grid_auto_flow": null,
            "grid_area": null,
            "grid_template_columns": null,
            "flex": null,
            "_model_name": "LayoutModel",
            "justify_items": null,
            "grid_row": null,
            "max_height": null,
            "align_content": null,
            "visibility": null,
            "align_self": null,
            "height": null,
            "min_height": null,
            "padding": null,
            "grid_auto_rows": null,
            "grid_gap": null,
            "max_width": null,
            "order": null,
            "_view_module_version": "1.2.0",
            "grid_template_areas": null,
            "object_position": null,
            "object_fit": null,
            "grid_auto_columns": null,
            "margin": null,
            "display": null,
            "left": null
          }
        },
        "6f2fdcd315d540e69b54d5edd4bc51ef": {
          "model_module": "@jupyter-widgets/controls",
          "model_name": "HBoxModel",
          "model_module_version": "1.5.0",
          "state": {
            "_view_name": "HBoxView",
            "_dom_classes": [],
            "_model_name": "HBoxModel",
            "_view_module": "@jupyter-widgets/controls",
            "_model_module_version": "1.5.0",
            "_view_count": null,
            "_view_module_version": "1.5.0",
            "box_style": "",
            "layout": "IPY_MODEL_6decdfda8a6f46aeb3a28e408f45ec58",
            "_model_module": "@jupyter-widgets/controls",
            "children": [
              "IPY_MODEL_bec55b33193a4d088747f140386ae595",
              "IPY_MODEL_b6ee590ebd27419bbe04760be230394e",
              "IPY_MODEL_4040439b2b464844bd2276bfc6a63f26"
            ]
          }
        },
        "6decdfda8a6f46aeb3a28e408f45ec58": {
          "model_module": "@jupyter-widgets/base",
          "model_name": "LayoutModel",
          "model_module_version": "1.2.0",
          "state": {
            "_view_name": "LayoutView",
            "grid_template_rows": null,
            "right": null,
            "justify_content": null,
            "_view_module": "@jupyter-widgets/base",
            "overflow": null,
            "_model_module_version": "1.2.0",
            "_view_count": null,
            "flex_flow": null,
            "width": null,
            "min_width": null,
            "border": null,
            "align_items": null,
            "bottom": null,
            "_model_module": "@jupyter-widgets/base",
            "top": null,
            "grid_column": null,
            "overflow_y": null,
            "overflow_x": null,
            "grid_auto_flow": null,
            "grid_area": null,
            "grid_template_columns": null,
            "flex": null,
            "_model_name": "LayoutModel",
            "justify_items": null,
            "grid_row": null,
            "max_height": null,
            "align_content": null,
            "visibility": null,
            "align_self": null,
            "height": null,
            "min_height": null,
            "padding": null,
            "grid_auto_rows": null,
            "grid_gap": null,
            "max_width": null,
            "order": null,
            "_view_module_version": "1.2.0",
            "grid_template_areas": null,
            "object_position": null,
            "object_fit": null,
            "grid_auto_columns": null,
            "margin": null,
            "display": null,
            "left": null
          }
        },
        "bec55b33193a4d088747f140386ae595": {
          "model_module": "@jupyter-widgets/controls",
          "model_name": "HTMLModel",
          "model_module_version": "1.5.0",
          "state": {
            "_view_name": "HTMLView",
            "style": "IPY_MODEL_47136a612f67474399248d908a2032c5",
            "_dom_classes": [],
            "description": "",
            "_model_name": "HTMLModel",
            "placeholder": "​",
            "_view_module": "@jupyter-widgets/controls",
            "_model_module_version": "1.5.0",
            "value": "Downloading: 100%",
            "_view_count": null,
            "_view_module_version": "1.5.0",
            "description_tooltip": null,
            "_model_module": "@jupyter-widgets/controls",
            "layout": "IPY_MODEL_b1d1b0ed98be4fe1b1d23546bd1fbfc9"
          }
        },
        "b6ee590ebd27419bbe04760be230394e": {
          "model_module": "@jupyter-widgets/controls",
          "model_name": "FloatProgressModel",
          "model_module_version": "1.5.0",
          "state": {
            "_view_name": "ProgressView",
            "style": "IPY_MODEL_d3091fb438ea4867ad1315df09c875de",
            "_dom_classes": [],
            "description": "",
            "_model_name": "FloatProgressModel",
            "bar_style": "success",
            "max": 213450,
            "_view_module": "@jupyter-widgets/controls",
            "_model_module_version": "1.5.0",
            "value": 213450,
            "_view_count": null,
            "_view_module_version": "1.5.0",
            "orientation": "horizontal",
            "min": 0,
            "description_tooltip": null,
            "_model_module": "@jupyter-widgets/controls",
            "layout": "IPY_MODEL_ebd2fd6b57e8463db3b98cd3490602f7"
          }
        },
        "4040439b2b464844bd2276bfc6a63f26": {
          "model_module": "@jupyter-widgets/controls",
          "model_name": "HTMLModel",
          "model_module_version": "1.5.0",
          "state": {
            "_view_name": "HTMLView",
            "style": "IPY_MODEL_66e98ac1bf9e428fbd07c30688445537",
            "_dom_classes": [],
            "description": "",
            "_model_name": "HTMLModel",
            "placeholder": "​",
            "_view_module": "@jupyter-widgets/controls",
            "_model_module_version": "1.5.0",
            "value": " 213k/213k [00:00&lt;00:00, 593kB/s]",
            "_view_count": null,
            "_view_module_version": "1.5.0",
            "description_tooltip": null,
            "_model_module": "@jupyter-widgets/controls",
            "layout": "IPY_MODEL_b6544892c29b4fa7ad41ae0e15c25320"
          }
        },
        "47136a612f67474399248d908a2032c5": {
          "model_module": "@jupyter-widgets/controls",
          "model_name": "DescriptionStyleModel",
          "model_module_version": "1.5.0",
          "state": {
            "_view_name": "StyleView",
            "_model_name": "DescriptionStyleModel",
            "description_width": "",
            "_view_module": "@jupyter-widgets/base",
            "_model_module_version": "1.5.0",
            "_view_count": null,
            "_view_module_version": "1.2.0",
            "_model_module": "@jupyter-widgets/controls"
          }
        },
        "b1d1b0ed98be4fe1b1d23546bd1fbfc9": {
          "model_module": "@jupyter-widgets/base",
          "model_name": "LayoutModel",
          "model_module_version": "1.2.0",
          "state": {
            "_view_name": "LayoutView",
            "grid_template_rows": null,
            "right": null,
            "justify_content": null,
            "_view_module": "@jupyter-widgets/base",
            "overflow": null,
            "_model_module_version": "1.2.0",
            "_view_count": null,
            "flex_flow": null,
            "width": null,
            "min_width": null,
            "border": null,
            "align_items": null,
            "bottom": null,
            "_model_module": "@jupyter-widgets/base",
            "top": null,
            "grid_column": null,
            "overflow_y": null,
            "overflow_x": null,
            "grid_auto_flow": null,
            "grid_area": null,
            "grid_template_columns": null,
            "flex": null,
            "_model_name": "LayoutModel",
            "justify_items": null,
            "grid_row": null,
            "max_height": null,
            "align_content": null,
            "visibility": null,
            "align_self": null,
            "height": null,
            "min_height": null,
            "padding": null,
            "grid_auto_rows": null,
            "grid_gap": null,
            "max_width": null,
            "order": null,
            "_view_module_version": "1.2.0",
            "grid_template_areas": null,
            "object_position": null,
            "object_fit": null,
            "grid_auto_columns": null,
            "margin": null,
            "display": null,
            "left": null
          }
        },
        "d3091fb438ea4867ad1315df09c875de": {
          "model_module": "@jupyter-widgets/controls",
          "model_name": "ProgressStyleModel",
          "model_module_version": "1.5.0",
          "state": {
            "_view_name": "StyleView",
            "_model_name": "ProgressStyleModel",
            "description_width": "",
            "_view_module": "@jupyter-widgets/base",
            "_model_module_version": "1.5.0",
            "_view_count": null,
            "_view_module_version": "1.2.0",
            "bar_color": null,
            "_model_module": "@jupyter-widgets/controls"
          }
        },
        "ebd2fd6b57e8463db3b98cd3490602f7": {
          "model_module": "@jupyter-widgets/base",
          "model_name": "LayoutModel",
          "model_module_version": "1.2.0",
          "state": {
            "_view_name": "LayoutView",
            "grid_template_rows": null,
            "right": null,
            "justify_content": null,
            "_view_module": "@jupyter-widgets/base",
            "overflow": null,
            "_model_module_version": "1.2.0",
            "_view_count": null,
            "flex_flow": null,
            "width": null,
            "min_width": null,
            "border": null,
            "align_items": null,
            "bottom": null,
            "_model_module": "@jupyter-widgets/base",
            "top": null,
            "grid_column": null,
            "overflow_y": null,
            "overflow_x": null,
            "grid_auto_flow": null,
            "grid_area": null,
            "grid_template_columns": null,
            "flex": null,
            "_model_name": "LayoutModel",
            "justify_items": null,
            "grid_row": null,
            "max_height": null,
            "align_content": null,
            "visibility": null,
            "align_self": null,
            "height": null,
            "min_height": null,
            "padding": null,
            "grid_auto_rows": null,
            "grid_gap": null,
            "max_width": null,
            "order": null,
            "_view_module_version": "1.2.0",
            "grid_template_areas": null,
            "object_position": null,
            "object_fit": null,
            "grid_auto_columns": null,
            "margin": null,
            "display": null,
            "left": null
          }
        },
        "66e98ac1bf9e428fbd07c30688445537": {
          "model_module": "@jupyter-widgets/controls",
          "model_name": "DescriptionStyleModel",
          "model_module_version": "1.5.0",
          "state": {
            "_view_name": "StyleView",
            "_model_name": "DescriptionStyleModel",
            "description_width": "",
            "_view_module": "@jupyter-widgets/base",
            "_model_module_version": "1.5.0",
            "_view_count": null,
            "_view_module_version": "1.2.0",
            "_model_module": "@jupyter-widgets/controls"
          }
        },
        "b6544892c29b4fa7ad41ae0e15c25320": {
          "model_module": "@jupyter-widgets/base",
          "model_name": "LayoutModel",
          "model_module_version": "1.2.0",
          "state": {
            "_view_name": "LayoutView",
            "grid_template_rows": null,
            "right": null,
            "justify_content": null,
            "_view_module": "@jupyter-widgets/base",
            "overflow": null,
            "_model_module_version": "1.2.0",
            "_view_count": null,
            "flex_flow": null,
            "width": null,
            "min_width": null,
            "border": null,
            "align_items": null,
            "bottom": null,
            "_model_module": "@jupyter-widgets/base",
            "top": null,
            "grid_column": null,
            "overflow_y": null,
            "overflow_x": null,
            "grid_auto_flow": null,
            "grid_area": null,
            "grid_template_columns": null,
            "flex": null,
            "_model_name": "LayoutModel",
            "justify_items": null,
            "grid_row": null,
            "max_height": null,
            "align_content": null,
            "visibility": null,
            "align_self": null,
            "height": null,
            "min_height": null,
            "padding": null,
            "grid_auto_rows": null,
            "grid_gap": null,
            "max_width": null,
            "order": null,
            "_view_module_version": "1.2.0",
            "grid_template_areas": null,
            "object_position": null,
            "object_fit": null,
            "grid_auto_columns": null,
            "margin": null,
            "display": null,
            "left": null
          }
        },
        "fd41e516282d4f6985ea2fb0a1480d25": {
          "model_module": "@jupyter-widgets/controls",
          "model_name": "HBoxModel",
          "model_module_version": "1.5.0",
          "state": {
            "_view_name": "HBoxView",
            "_dom_classes": [],
            "_model_name": "HBoxModel",
            "_view_module": "@jupyter-widgets/controls",
            "_model_module_version": "1.5.0",
            "_view_count": null,
            "_view_module_version": "1.5.0",
            "box_style": "",
            "layout": "IPY_MODEL_556629c4b26c4e5a9c92eda680f08c49",
            "_model_module": "@jupyter-widgets/controls",
            "children": [
              "IPY_MODEL_6c27becc73f4446caec4c46f2eac0ce0",
              "IPY_MODEL_9d9801d103824a5fb933a71cf25c6859",
              "IPY_MODEL_80796e35d9fc4a2e9d352825b399c346"
            ]
          }
        },
        "556629c4b26c4e5a9c92eda680f08c49": {
          "model_module": "@jupyter-widgets/base",
          "model_name": "LayoutModel",
          "model_module_version": "1.2.0",
          "state": {
            "_view_name": "LayoutView",
            "grid_template_rows": null,
            "right": null,
            "justify_content": null,
            "_view_module": "@jupyter-widgets/base",
            "overflow": null,
            "_model_module_version": "1.2.0",
            "_view_count": null,
            "flex_flow": null,
            "width": null,
            "min_width": null,
            "border": null,
            "align_items": null,
            "bottom": null,
            "_model_module": "@jupyter-widgets/base",
            "top": null,
            "grid_column": null,
            "overflow_y": null,
            "overflow_x": null,
            "grid_auto_flow": null,
            "grid_area": null,
            "grid_template_columns": null,
            "flex": null,
            "_model_name": "LayoutModel",
            "justify_items": null,
            "grid_row": null,
            "max_height": null,
            "align_content": null,
            "visibility": null,
            "align_self": null,
            "height": null,
            "min_height": null,
            "padding": null,
            "grid_auto_rows": null,
            "grid_gap": null,
            "max_width": null,
            "order": null,
            "_view_module_version": "1.2.0",
            "grid_template_areas": null,
            "object_position": null,
            "object_fit": null,
            "grid_auto_columns": null,
            "margin": null,
            "display": null,
            "left": null
          }
        },
        "6c27becc73f4446caec4c46f2eac0ce0": {
          "model_module": "@jupyter-widgets/controls",
          "model_name": "HTMLModel",
          "model_module_version": "1.5.0",
          "state": {
            "_view_name": "HTMLView",
            "style": "IPY_MODEL_a89df264c6ed4741be9bcdf760fa2577",
            "_dom_classes": [],
            "description": "",
            "_model_name": "HTMLModel",
            "placeholder": "​",
            "_view_module": "@jupyter-widgets/controls",
            "_model_module_version": "1.5.0",
            "value": "Downloading: 100%",
            "_view_count": null,
            "_view_module_version": "1.5.0",
            "description_tooltip": null,
            "_model_module": "@jupyter-widgets/controls",
            "layout": "IPY_MODEL_65a60876a70c411790c0c1f940a8a79d"
          }
        },
        "9d9801d103824a5fb933a71cf25c6859": {
          "model_module": "@jupyter-widgets/controls",
          "model_name": "FloatProgressModel",
          "model_module_version": "1.5.0",
          "state": {
            "_view_name": "ProgressView",
            "style": "IPY_MODEL_841c8e9a38f042b0b6e931dbaf16eff2",
            "_dom_classes": [],
            "description": "",
            "_model_name": "FloatProgressModel",
            "bar_style": "success",
            "max": 435797,
            "_view_module": "@jupyter-widgets/controls",
            "_model_module_version": "1.5.0",
            "value": 435797,
            "_view_count": null,
            "_view_module_version": "1.5.0",
            "orientation": "horizontal",
            "min": 0,
            "description_tooltip": null,
            "_model_module": "@jupyter-widgets/controls",
            "layout": "IPY_MODEL_cfff52f259664664aab655c9bba21635"
          }
        },
        "80796e35d9fc4a2e9d352825b399c346": {
          "model_module": "@jupyter-widgets/controls",
          "model_name": "HTMLModel",
          "model_module_version": "1.5.0",
          "state": {
            "_view_name": "HTMLView",
            "style": "IPY_MODEL_9bfc3dbc07ed42cbae36973a3ce885a4",
            "_dom_classes": [],
            "description": "",
            "_model_name": "HTMLModel",
            "placeholder": "​",
            "_view_module": "@jupyter-widgets/controls",
            "_model_module_version": "1.5.0",
            "value": " 436k/436k [00:00&lt;00:00, 894kB/s]",
            "_view_count": null,
            "_view_module_version": "1.5.0",
            "description_tooltip": null,
            "_model_module": "@jupyter-widgets/controls",
            "layout": "IPY_MODEL_f8116a00899d4674899a62c4f66818ac"
          }
        },
        "a89df264c6ed4741be9bcdf760fa2577": {
          "model_module": "@jupyter-widgets/controls",
          "model_name": "DescriptionStyleModel",
          "model_module_version": "1.5.0",
          "state": {
            "_view_name": "StyleView",
            "_model_name": "DescriptionStyleModel",
            "description_width": "",
            "_view_module": "@jupyter-widgets/base",
            "_model_module_version": "1.5.0",
            "_view_count": null,
            "_view_module_version": "1.2.0",
            "_model_module": "@jupyter-widgets/controls"
          }
        },
        "65a60876a70c411790c0c1f940a8a79d": {
          "model_module": "@jupyter-widgets/base",
          "model_name": "LayoutModel",
          "model_module_version": "1.2.0",
          "state": {
            "_view_name": "LayoutView",
            "grid_template_rows": null,
            "right": null,
            "justify_content": null,
            "_view_module": "@jupyter-widgets/base",
            "overflow": null,
            "_model_module_version": "1.2.0",
            "_view_count": null,
            "flex_flow": null,
            "width": null,
            "min_width": null,
            "border": null,
            "align_items": null,
            "bottom": null,
            "_model_module": "@jupyter-widgets/base",
            "top": null,
            "grid_column": null,
            "overflow_y": null,
            "overflow_x": null,
            "grid_auto_flow": null,
            "grid_area": null,
            "grid_template_columns": null,
            "flex": null,
            "_model_name": "LayoutModel",
            "justify_items": null,
            "grid_row": null,
            "max_height": null,
            "align_content": null,
            "visibility": null,
            "align_self": null,
            "height": null,
            "min_height": null,
            "padding": null,
            "grid_auto_rows": null,
            "grid_gap": null,
            "max_width": null,
            "order": null,
            "_view_module_version": "1.2.0",
            "grid_template_areas": null,
            "object_position": null,
            "object_fit": null,
            "grid_auto_columns": null,
            "margin": null,
            "display": null,
            "left": null
          }
        },
        "841c8e9a38f042b0b6e931dbaf16eff2": {
          "model_module": "@jupyter-widgets/controls",
          "model_name": "ProgressStyleModel",
          "model_module_version": "1.5.0",
          "state": {
            "_view_name": "StyleView",
            "_model_name": "ProgressStyleModel",
            "description_width": "",
            "_view_module": "@jupyter-widgets/base",
            "_model_module_version": "1.5.0",
            "_view_count": null,
            "_view_module_version": "1.2.0",
            "bar_color": null,
            "_model_module": "@jupyter-widgets/controls"
          }
        },
        "cfff52f259664664aab655c9bba21635": {
          "model_module": "@jupyter-widgets/base",
          "model_name": "LayoutModel",
          "model_module_version": "1.2.0",
          "state": {
            "_view_name": "LayoutView",
            "grid_template_rows": null,
            "right": null,
            "justify_content": null,
            "_view_module": "@jupyter-widgets/base",
            "overflow": null,
            "_model_module_version": "1.2.0",
            "_view_count": null,
            "flex_flow": null,
            "width": null,
            "min_width": null,
            "border": null,
            "align_items": null,
            "bottom": null,
            "_model_module": "@jupyter-widgets/base",
            "top": null,
            "grid_column": null,
            "overflow_y": null,
            "overflow_x": null,
            "grid_auto_flow": null,
            "grid_area": null,
            "grid_template_columns": null,
            "flex": null,
            "_model_name": "LayoutModel",
            "justify_items": null,
            "grid_row": null,
            "max_height": null,
            "align_content": null,
            "visibility": null,
            "align_self": null,
            "height": null,
            "min_height": null,
            "padding": null,
            "grid_auto_rows": null,
            "grid_gap": null,
            "max_width": null,
            "order": null,
            "_view_module_version": "1.2.0",
            "grid_template_areas": null,
            "object_position": null,
            "object_fit": null,
            "grid_auto_columns": null,
            "margin": null,
            "display": null,
            "left": null
          }
        },
        "9bfc3dbc07ed42cbae36973a3ce885a4": {
          "model_module": "@jupyter-widgets/controls",
          "model_name": "DescriptionStyleModel",
          "model_module_version": "1.5.0",
          "state": {
            "_view_name": "StyleView",
            "_model_name": "DescriptionStyleModel",
            "description_width": "",
            "_view_module": "@jupyter-widgets/base",
            "_model_module_version": "1.5.0",
            "_view_count": null,
            "_view_module_version": "1.2.0",
            "_model_module": "@jupyter-widgets/controls"
          }
        },
        "f8116a00899d4674899a62c4f66818ac": {
          "model_module": "@jupyter-widgets/base",
          "model_name": "LayoutModel",
          "model_module_version": "1.2.0",
          "state": {
            "_view_name": "LayoutView",
            "grid_template_rows": null,
            "right": null,
            "justify_content": null,
            "_view_module": "@jupyter-widgets/base",
            "overflow": null,
            "_model_module_version": "1.2.0",
            "_view_count": null,
            "flex_flow": null,
            "width": null,
            "min_width": null,
            "border": null,
            "align_items": null,
            "bottom": null,
            "_model_module": "@jupyter-widgets/base",
            "top": null,
            "grid_column": null,
            "overflow_y": null,
            "overflow_x": null,
            "grid_auto_flow": null,
            "grid_area": null,
            "grid_template_columns": null,
            "flex": null,
            "_model_name": "LayoutModel",
            "justify_items": null,
            "grid_row": null,
            "max_height": null,
            "align_content": null,
            "visibility": null,
            "align_self": null,
            "height": null,
            "min_height": null,
            "padding": null,
            "grid_auto_rows": null,
            "grid_gap": null,
            "max_width": null,
            "order": null,
            "_view_module_version": "1.2.0",
            "grid_template_areas": null,
            "object_position": null,
            "object_fit": null,
            "grid_auto_columns": null,
            "margin": null,
            "display": null,
            "left": null
          }
        },
        "64108c389d66425aa3309c59e0d58f32": {
          "model_module": "@jupyter-widgets/controls",
          "model_name": "HBoxModel",
          "model_module_version": "1.5.0",
          "state": {
            "_view_name": "HBoxView",
            "_dom_classes": [],
            "_model_name": "HBoxModel",
            "_view_module": "@jupyter-widgets/controls",
            "_model_module_version": "1.5.0",
            "_view_count": null,
            "_view_module_version": "1.5.0",
            "box_style": "",
            "layout": "IPY_MODEL_9e304f93daf84f7fa65ebb5317e10bdc",
            "_model_module": "@jupyter-widgets/controls",
            "children": [
              "IPY_MODEL_529974502ea9457698c93220ea0da076",
              "IPY_MODEL_c37189dc81844675ab9f72aa5220e075",
              "IPY_MODEL_585bcd3b21854e0a8c91087294e6d295"
            ]
          }
        },
        "9e304f93daf84f7fa65ebb5317e10bdc": {
          "model_module": "@jupyter-widgets/base",
          "model_name": "LayoutModel",
          "model_module_version": "1.2.0",
          "state": {
            "_view_name": "LayoutView",
            "grid_template_rows": null,
            "right": null,
            "justify_content": null,
            "_view_module": "@jupyter-widgets/base",
            "overflow": null,
            "_model_module_version": "1.2.0",
            "_view_count": null,
            "flex_flow": null,
            "width": null,
            "min_width": null,
            "border": null,
            "align_items": null,
            "bottom": null,
            "_model_module": "@jupyter-widgets/base",
            "top": null,
            "grid_column": null,
            "overflow_y": null,
            "overflow_x": null,
            "grid_auto_flow": null,
            "grid_area": null,
            "grid_template_columns": null,
            "flex": null,
            "_model_name": "LayoutModel",
            "justify_items": null,
            "grid_row": null,
            "max_height": null,
            "align_content": null,
            "visibility": null,
            "align_self": null,
            "height": null,
            "min_height": null,
            "padding": null,
            "grid_auto_rows": null,
            "grid_gap": null,
            "max_width": null,
            "order": null,
            "_view_module_version": "1.2.0",
            "grid_template_areas": null,
            "object_position": null,
            "object_fit": null,
            "grid_auto_columns": null,
            "margin": null,
            "display": null,
            "left": null
          }
        },
        "529974502ea9457698c93220ea0da076": {
          "model_module": "@jupyter-widgets/controls",
          "model_name": "HTMLModel",
          "model_module_version": "1.5.0",
          "state": {
            "_view_name": "HTMLView",
            "style": "IPY_MODEL_e4f17c52c1324bd6ad101dece5ba2be2",
            "_dom_classes": [],
            "description": "",
            "_model_name": "HTMLModel",
            "placeholder": "​",
            "_view_module": "@jupyter-widgets/controls",
            "_model_module_version": "1.5.0",
            "value": "Downloading: 100%",
            "_view_count": null,
            "_view_module_version": "1.5.0",
            "description_tooltip": null,
            "_model_module": "@jupyter-widgets/controls",
            "layout": "IPY_MODEL_173dd83076ff46f58928f4405f10a4f3"
          }
        },
        "c37189dc81844675ab9f72aa5220e075": {
          "model_module": "@jupyter-widgets/controls",
          "model_name": "FloatProgressModel",
          "model_module_version": "1.5.0",
          "state": {
            "_view_name": "ProgressView",
            "style": "IPY_MODEL_600dce384da8426d9f7246ffa4aeaed3",
            "_dom_classes": [],
            "description": "",
            "_model_name": "FloatProgressModel",
            "bar_style": "success",
            "max": 29,
            "_view_module": "@jupyter-widgets/controls",
            "_model_module_version": "1.5.0",
            "value": 29,
            "_view_count": null,
            "_view_module_version": "1.5.0",
            "orientation": "horizontal",
            "min": 0,
            "description_tooltip": null,
            "_model_module": "@jupyter-widgets/controls",
            "layout": "IPY_MODEL_2333e9fe1f254e75befcd188b9c82efc"
          }
        },
        "585bcd3b21854e0a8c91087294e6d295": {
          "model_module": "@jupyter-widgets/controls",
          "model_name": "HTMLModel",
          "model_module_version": "1.5.0",
          "state": {
            "_view_name": "HTMLView",
            "style": "IPY_MODEL_f95595cc2e2b423c9b7d2db291f048bd",
            "_dom_classes": [],
            "description": "",
            "_model_name": "HTMLModel",
            "placeholder": "​",
            "_view_module": "@jupyter-widgets/controls",
            "_model_module_version": "1.5.0",
            "value": " 29.0/29.0 [00:00&lt;00:00, 730B/s]",
            "_view_count": null,
            "_view_module_version": "1.5.0",
            "description_tooltip": null,
            "_model_module": "@jupyter-widgets/controls",
            "layout": "IPY_MODEL_9a1aacd1eba84d2dbabfeaa334680245"
          }
        },
        "e4f17c52c1324bd6ad101dece5ba2be2": {
          "model_module": "@jupyter-widgets/controls",
          "model_name": "DescriptionStyleModel",
          "model_module_version": "1.5.0",
          "state": {
            "_view_name": "StyleView",
            "_model_name": "DescriptionStyleModel",
            "description_width": "",
            "_view_module": "@jupyter-widgets/base",
            "_model_module_version": "1.5.0",
            "_view_count": null,
            "_view_module_version": "1.2.0",
            "_model_module": "@jupyter-widgets/controls"
          }
        },
        "173dd83076ff46f58928f4405f10a4f3": {
          "model_module": "@jupyter-widgets/base",
          "model_name": "LayoutModel",
          "model_module_version": "1.2.0",
          "state": {
            "_view_name": "LayoutView",
            "grid_template_rows": null,
            "right": null,
            "justify_content": null,
            "_view_module": "@jupyter-widgets/base",
            "overflow": null,
            "_model_module_version": "1.2.0",
            "_view_count": null,
            "flex_flow": null,
            "width": null,
            "min_width": null,
            "border": null,
            "align_items": null,
            "bottom": null,
            "_model_module": "@jupyter-widgets/base",
            "top": null,
            "grid_column": null,
            "overflow_y": null,
            "overflow_x": null,
            "grid_auto_flow": null,
            "grid_area": null,
            "grid_template_columns": null,
            "flex": null,
            "_model_name": "LayoutModel",
            "justify_items": null,
            "grid_row": null,
            "max_height": null,
            "align_content": null,
            "visibility": null,
            "align_self": null,
            "height": null,
            "min_height": null,
            "padding": null,
            "grid_auto_rows": null,
            "grid_gap": null,
            "max_width": null,
            "order": null,
            "_view_module_version": "1.2.0",
            "grid_template_areas": null,
            "object_position": null,
            "object_fit": null,
            "grid_auto_columns": null,
            "margin": null,
            "display": null,
            "left": null
          }
        },
        "600dce384da8426d9f7246ffa4aeaed3": {
          "model_module": "@jupyter-widgets/controls",
          "model_name": "ProgressStyleModel",
          "model_module_version": "1.5.0",
          "state": {
            "_view_name": "StyleView",
            "_model_name": "ProgressStyleModel",
            "description_width": "",
            "_view_module": "@jupyter-widgets/base",
            "_model_module_version": "1.5.0",
            "_view_count": null,
            "_view_module_version": "1.2.0",
            "bar_color": null,
            "_model_module": "@jupyter-widgets/controls"
          }
        },
        "2333e9fe1f254e75befcd188b9c82efc": {
          "model_module": "@jupyter-widgets/base",
          "model_name": "LayoutModel",
          "model_module_version": "1.2.0",
          "state": {
            "_view_name": "LayoutView",
            "grid_template_rows": null,
            "right": null,
            "justify_content": null,
            "_view_module": "@jupyter-widgets/base",
            "overflow": null,
            "_model_module_version": "1.2.0",
            "_view_count": null,
            "flex_flow": null,
            "width": null,
            "min_width": null,
            "border": null,
            "align_items": null,
            "bottom": null,
            "_model_module": "@jupyter-widgets/base",
            "top": null,
            "grid_column": null,
            "overflow_y": null,
            "overflow_x": null,
            "grid_auto_flow": null,
            "grid_area": null,
            "grid_template_columns": null,
            "flex": null,
            "_model_name": "LayoutModel",
            "justify_items": null,
            "grid_row": null,
            "max_height": null,
            "align_content": null,
            "visibility": null,
            "align_self": null,
            "height": null,
            "min_height": null,
            "padding": null,
            "grid_auto_rows": null,
            "grid_gap": null,
            "max_width": null,
            "order": null,
            "_view_module_version": "1.2.0",
            "grid_template_areas": null,
            "object_position": null,
            "object_fit": null,
            "grid_auto_columns": null,
            "margin": null,
            "display": null,
            "left": null
          }
        },
        "f95595cc2e2b423c9b7d2db291f048bd": {
          "model_module": "@jupyter-widgets/controls",
          "model_name": "DescriptionStyleModel",
          "model_module_version": "1.5.0",
          "state": {
            "_view_name": "StyleView",
            "_model_name": "DescriptionStyleModel",
            "description_width": "",
            "_view_module": "@jupyter-widgets/base",
            "_model_module_version": "1.5.0",
            "_view_count": null,
            "_view_module_version": "1.2.0",
            "_model_module": "@jupyter-widgets/controls"
          }
        },
        "9a1aacd1eba84d2dbabfeaa334680245": {
          "model_module": "@jupyter-widgets/base",
          "model_name": "LayoutModel",
          "model_module_version": "1.2.0",
          "state": {
            "_view_name": "LayoutView",
            "grid_template_rows": null,
            "right": null,
            "justify_content": null,
            "_view_module": "@jupyter-widgets/base",
            "overflow": null,
            "_model_module_version": "1.2.0",
            "_view_count": null,
            "flex_flow": null,
            "width": null,
            "min_width": null,
            "border": null,
            "align_items": null,
            "bottom": null,
            "_model_module": "@jupyter-widgets/base",
            "top": null,
            "grid_column": null,
            "overflow_y": null,
            "overflow_x": null,
            "grid_auto_flow": null,
            "grid_area": null,
            "grid_template_columns": null,
            "flex": null,
            "_model_name": "LayoutModel",
            "justify_items": null,
            "grid_row": null,
            "max_height": null,
            "align_content": null,
            "visibility": null,
            "align_self": null,
            "height": null,
            "min_height": null,
            "padding": null,
            "grid_auto_rows": null,
            "grid_gap": null,
            "max_width": null,
            "order": null,
            "_view_module_version": "1.2.0",
            "grid_template_areas": null,
            "object_position": null,
            "object_fit": null,
            "grid_auto_columns": null,
            "margin": null,
            "display": null,
            "left": null
          }
        },
        "831d4aa5d48946da8b60a20ce2afaa3e": {
          "model_module": "@jupyter-widgets/controls",
          "model_name": "HBoxModel",
          "model_module_version": "1.5.0",
          "state": {
            "_view_name": "HBoxView",
            "_dom_classes": [],
            "_model_name": "HBoxModel",
            "_view_module": "@jupyter-widgets/controls",
            "_model_module_version": "1.5.0",
            "_view_count": null,
            "_view_module_version": "1.5.0",
            "box_style": "",
            "layout": "IPY_MODEL_f8b73f83774a464891d4b2b091c60546",
            "_model_module": "@jupyter-widgets/controls",
            "children": [
              "IPY_MODEL_e25b1e24e89545f0894bb7cd1dcaed15",
              "IPY_MODEL_d4f5683042784c4f91d64511c1db9652",
              "IPY_MODEL_ef11f6ad127f442cbb56a61122c53db0"
            ]
          }
        },
        "f8b73f83774a464891d4b2b091c60546": {
          "model_module": "@jupyter-widgets/base",
          "model_name": "LayoutModel",
          "model_module_version": "1.2.0",
          "state": {
            "_view_name": "LayoutView",
            "grid_template_rows": null,
            "right": null,
            "justify_content": null,
            "_view_module": "@jupyter-widgets/base",
            "overflow": null,
            "_model_module_version": "1.2.0",
            "_view_count": null,
            "flex_flow": null,
            "width": null,
            "min_width": null,
            "border": null,
            "align_items": null,
            "bottom": null,
            "_model_module": "@jupyter-widgets/base",
            "top": null,
            "grid_column": null,
            "overflow_y": null,
            "overflow_x": null,
            "grid_auto_flow": null,
            "grid_area": null,
            "grid_template_columns": null,
            "flex": null,
            "_model_name": "LayoutModel",
            "justify_items": null,
            "grid_row": null,
            "max_height": null,
            "align_content": null,
            "visibility": null,
            "align_self": null,
            "height": null,
            "min_height": null,
            "padding": null,
            "grid_auto_rows": null,
            "grid_gap": null,
            "max_width": null,
            "order": null,
            "_view_module_version": "1.2.0",
            "grid_template_areas": null,
            "object_position": null,
            "object_fit": null,
            "grid_auto_columns": null,
            "margin": null,
            "display": null,
            "left": null
          }
        },
        "e25b1e24e89545f0894bb7cd1dcaed15": {
          "model_module": "@jupyter-widgets/controls",
          "model_name": "HTMLModel",
          "model_module_version": "1.5.0",
          "state": {
            "_view_name": "HTMLView",
            "style": "IPY_MODEL_de33709853e54866b50baed32fd4784f",
            "_dom_classes": [],
            "description": "",
            "_model_name": "HTMLModel",
            "placeholder": "​",
            "_view_module": "@jupyter-widgets/controls",
            "_model_module_version": "1.5.0",
            "value": "Downloading: 100%",
            "_view_count": null,
            "_view_module_version": "1.5.0",
            "description_tooltip": null,
            "_model_module": "@jupyter-widgets/controls",
            "layout": "IPY_MODEL_c8c2f46ca1c94af68525b4a629fceaf0"
          }
        },
        "d4f5683042784c4f91d64511c1db9652": {
          "model_module": "@jupyter-widgets/controls",
          "model_name": "FloatProgressModel",
          "model_module_version": "1.5.0",
          "state": {
            "_view_name": "ProgressView",
            "style": "IPY_MODEL_31bc731da93543b9aaf3055979277e28",
            "_dom_classes": [],
            "description": "",
            "_model_name": "FloatProgressModel",
            "bar_style": "success",
            "max": 411,
            "_view_module": "@jupyter-widgets/controls",
            "_model_module_version": "1.5.0",
            "value": 411,
            "_view_count": null,
            "_view_module_version": "1.5.0",
            "orientation": "horizontal",
            "min": 0,
            "description_tooltip": null,
            "_model_module": "@jupyter-widgets/controls",
            "layout": "IPY_MODEL_f60d9acb7580499e91a14ffafb08fe04"
          }
        },
        "ef11f6ad127f442cbb56a61122c53db0": {
          "model_module": "@jupyter-widgets/controls",
          "model_name": "HTMLModel",
          "model_module_version": "1.5.0",
          "state": {
            "_view_name": "HTMLView",
            "style": "IPY_MODEL_dd66820e0534409782426c4dc6735273",
            "_dom_classes": [],
            "description": "",
            "_model_name": "HTMLModel",
            "placeholder": "​",
            "_view_module": "@jupyter-widgets/controls",
            "_model_module_version": "1.5.0",
            "value": " 411/411 [00:00&lt;00:00, 12.1kB/s]",
            "_view_count": null,
            "_view_module_version": "1.5.0",
            "description_tooltip": null,
            "_model_module": "@jupyter-widgets/controls",
            "layout": "IPY_MODEL_d63cc832908b45a897308f858e700a00"
          }
        },
        "de33709853e54866b50baed32fd4784f": {
          "model_module": "@jupyter-widgets/controls",
          "model_name": "DescriptionStyleModel",
          "model_module_version": "1.5.0",
          "state": {
            "_view_name": "StyleView",
            "_model_name": "DescriptionStyleModel",
            "description_width": "",
            "_view_module": "@jupyter-widgets/base",
            "_model_module_version": "1.5.0",
            "_view_count": null,
            "_view_module_version": "1.2.0",
            "_model_module": "@jupyter-widgets/controls"
          }
        },
        "c8c2f46ca1c94af68525b4a629fceaf0": {
          "model_module": "@jupyter-widgets/base",
          "model_name": "LayoutModel",
          "model_module_version": "1.2.0",
          "state": {
            "_view_name": "LayoutView",
            "grid_template_rows": null,
            "right": null,
            "justify_content": null,
            "_view_module": "@jupyter-widgets/base",
            "overflow": null,
            "_model_module_version": "1.2.0",
            "_view_count": null,
            "flex_flow": null,
            "width": null,
            "min_width": null,
            "border": null,
            "align_items": null,
            "bottom": null,
            "_model_module": "@jupyter-widgets/base",
            "top": null,
            "grid_column": null,
            "overflow_y": null,
            "overflow_x": null,
            "grid_auto_flow": null,
            "grid_area": null,
            "grid_template_columns": null,
            "flex": null,
            "_model_name": "LayoutModel",
            "justify_items": null,
            "grid_row": null,
            "max_height": null,
            "align_content": null,
            "visibility": null,
            "align_self": null,
            "height": null,
            "min_height": null,
            "padding": null,
            "grid_auto_rows": null,
            "grid_gap": null,
            "max_width": null,
            "order": null,
            "_view_module_version": "1.2.0",
            "grid_template_areas": null,
            "object_position": null,
            "object_fit": null,
            "grid_auto_columns": null,
            "margin": null,
            "display": null,
            "left": null
          }
        },
        "31bc731da93543b9aaf3055979277e28": {
          "model_module": "@jupyter-widgets/controls",
          "model_name": "ProgressStyleModel",
          "model_module_version": "1.5.0",
          "state": {
            "_view_name": "StyleView",
            "_model_name": "ProgressStyleModel",
            "description_width": "",
            "_view_module": "@jupyter-widgets/base",
            "_model_module_version": "1.5.0",
            "_view_count": null,
            "_view_module_version": "1.2.0",
            "bar_color": null,
            "_model_module": "@jupyter-widgets/controls"
          }
        },
        "f60d9acb7580499e91a14ffafb08fe04": {
          "model_module": "@jupyter-widgets/base",
          "model_name": "LayoutModel",
          "model_module_version": "1.2.0",
          "state": {
            "_view_name": "LayoutView",
            "grid_template_rows": null,
            "right": null,
            "justify_content": null,
            "_view_module": "@jupyter-widgets/base",
            "overflow": null,
            "_model_module_version": "1.2.0",
            "_view_count": null,
            "flex_flow": null,
            "width": null,
            "min_width": null,
            "border": null,
            "align_items": null,
            "bottom": null,
            "_model_module": "@jupyter-widgets/base",
            "top": null,
            "grid_column": null,
            "overflow_y": null,
            "overflow_x": null,
            "grid_auto_flow": null,
            "grid_area": null,
            "grid_template_columns": null,
            "flex": null,
            "_model_name": "LayoutModel",
            "justify_items": null,
            "grid_row": null,
            "max_height": null,
            "align_content": null,
            "visibility": null,
            "align_self": null,
            "height": null,
            "min_height": null,
            "padding": null,
            "grid_auto_rows": null,
            "grid_gap": null,
            "max_width": null,
            "order": null,
            "_view_module_version": "1.2.0",
            "grid_template_areas": null,
            "object_position": null,
            "object_fit": null,
            "grid_auto_columns": null,
            "margin": null,
            "display": null,
            "left": null
          }
        },
        "dd66820e0534409782426c4dc6735273": {
          "model_module": "@jupyter-widgets/controls",
          "model_name": "DescriptionStyleModel",
          "model_module_version": "1.5.0",
          "state": {
            "_view_name": "StyleView",
            "_model_name": "DescriptionStyleModel",
            "description_width": "",
            "_view_module": "@jupyter-widgets/base",
            "_model_module_version": "1.5.0",
            "_view_count": null,
            "_view_module_version": "1.2.0",
            "_model_module": "@jupyter-widgets/controls"
          }
        },
        "d63cc832908b45a897308f858e700a00": {
          "model_module": "@jupyter-widgets/base",
          "model_name": "LayoutModel",
          "model_module_version": "1.2.0",
          "state": {
            "_view_name": "LayoutView",
            "grid_template_rows": null,
            "right": null,
            "justify_content": null,
            "_view_module": "@jupyter-widgets/base",
            "overflow": null,
            "_model_module_version": "1.2.0",
            "_view_count": null,
            "flex_flow": null,
            "width": null,
            "min_width": null,
            "border": null,
            "align_items": null,
            "bottom": null,
            "_model_module": "@jupyter-widgets/base",
            "top": null,
            "grid_column": null,
            "overflow_y": null,
            "overflow_x": null,
            "grid_auto_flow": null,
            "grid_area": null,
            "grid_template_columns": null,
            "flex": null,
            "_model_name": "LayoutModel",
            "justify_items": null,
            "grid_row": null,
            "max_height": null,
            "align_content": null,
            "visibility": null,
            "align_self": null,
            "height": null,
            "min_height": null,
            "padding": null,
            "grid_auto_rows": null,
            "grid_gap": null,
            "max_width": null,
            "order": null,
            "_view_module_version": "1.2.0",
            "grid_template_areas": null,
            "object_position": null,
            "object_fit": null,
            "grid_auto_columns": null,
            "margin": null,
            "display": null,
            "left": null
          }
        }
      }
    }
  },
  "cells": [
    {
      "cell_type": "markdown",
      "metadata": {
        "id": "xymgOqVfM5L6"
      },
      "source": [
        "#  NER Básico\n",
        "Treinamento de dois modelos Bert para reconhecimento de entidades (NER). Nesse notebook foram estudados os seguintes problemas em tarefas de reconhecimento de entidades:\n",
        "\n",
        "\n",
        "*   Alinhamento de Labels com os *wordpieces* gerados na tokenização.\n",
        "*   Preparação dos tokens com anotações em *spans* (inicio e fim de uma entidade no texto).\n",
        "*   Preparação dos tokens com arquivos tokenizados com a respectiva *tag*.\n",
        "*   Métricas para avaliação do modelo após treinamento com validação.\n",
        "*   Construção de classes e funções genéricas para uso em outras atividades de reconhecimento de entidade.\n",
        "\n"
      ]
    },
    {
      "cell_type": "markdown",
      "metadata": {
        "id": "hhWPLw8FMoBt"
      },
      "source": [
        "##### Instalação de bibliotecas e Configurações iniciais"
      ]
    },
    {
      "cell_type": "code",
      "metadata": {
        "id": "CVZVilHZLipJ",
        "colab": {
          "base_uri": "https://localhost:8080/"
        },
        "outputId": "ce3b0b3c-fdad-47b2-ab48-f868eb6b95c5"
      },
      "source": [
        "pip install transformers"
      ],
      "execution_count": null,
      "outputs": [
        {
          "output_type": "stream",
          "name": "stdout",
          "text": [
            "Collecting transformers\n",
            "  Downloading transformers-4.10.2-py3-none-any.whl (2.8 MB)\n",
            "\u001b[K     |████████████████████████████████| 2.8 MB 7.0 MB/s \n",
            "\u001b[?25hRequirement already satisfied: numpy>=1.17 in /usr/local/lib/python3.7/dist-packages (from transformers) (1.19.5)\n",
            "Requirement already satisfied: regex!=2019.12.17 in /usr/local/lib/python3.7/dist-packages (from transformers) (2019.12.20)\n",
            "Collecting pyyaml>=5.1\n",
            "  Downloading PyYAML-5.4.1-cp37-cp37m-manylinux1_x86_64.whl (636 kB)\n",
            "\u001b[K     |████████████████████████████████| 636 kB 69.1 MB/s \n",
            "\u001b[?25hRequirement already satisfied: importlib-metadata in /usr/local/lib/python3.7/dist-packages (from transformers) (4.6.4)\n",
            "Requirement already satisfied: tqdm>=4.27 in /usr/local/lib/python3.7/dist-packages (from transformers) (4.62.0)\n",
            "Requirement already satisfied: requests in /usr/local/lib/python3.7/dist-packages (from transformers) (2.23.0)\n",
            "Collecting huggingface-hub>=0.0.12\n",
            "  Downloading huggingface_hub-0.0.17-py3-none-any.whl (52 kB)\n",
            "\u001b[K     |████████████████████████████████| 52 kB 2.2 MB/s \n",
            "\u001b[?25hCollecting sacremoses\n",
            "  Downloading sacremoses-0.0.45-py3-none-any.whl (895 kB)\n",
            "\u001b[K     |████████████████████████████████| 895 kB 63.3 MB/s \n",
            "\u001b[?25hCollecting tokenizers<0.11,>=0.10.1\n",
            "  Downloading tokenizers-0.10.3-cp37-cp37m-manylinux_2_5_x86_64.manylinux1_x86_64.manylinux_2_12_x86_64.manylinux2010_x86_64.whl (3.3 MB)\n",
            "\u001b[K     |████████████████████████████████| 3.3 MB 51.7 MB/s \n",
            "\u001b[?25hRequirement already satisfied: filelock in /usr/local/lib/python3.7/dist-packages (from transformers) (3.0.12)\n",
            "Requirement already satisfied: packaging in /usr/local/lib/python3.7/dist-packages (from transformers) (21.0)\n",
            "Requirement already satisfied: typing-extensions in /usr/local/lib/python3.7/dist-packages (from huggingface-hub>=0.0.12->transformers) (3.7.4.3)\n",
            "Requirement already satisfied: pyparsing>=2.0.2 in /usr/local/lib/python3.7/dist-packages (from packaging->transformers) (2.4.7)\n",
            "Requirement already satisfied: zipp>=0.5 in /usr/local/lib/python3.7/dist-packages (from importlib-metadata->transformers) (3.5.0)\n",
            "Requirement already satisfied: urllib3!=1.25.0,!=1.25.1,<1.26,>=1.21.1 in /usr/local/lib/python3.7/dist-packages (from requests->transformers) (1.24.3)\n",
            "Requirement already satisfied: idna<3,>=2.5 in /usr/local/lib/python3.7/dist-packages (from requests->transformers) (2.10)\n",
            "Requirement already satisfied: certifi>=2017.4.17 in /usr/local/lib/python3.7/dist-packages (from requests->transformers) (2021.5.30)\n",
            "Requirement already satisfied: chardet<4,>=3.0.2 in /usr/local/lib/python3.7/dist-packages (from requests->transformers) (3.0.4)\n",
            "Requirement already satisfied: joblib in /usr/local/lib/python3.7/dist-packages (from sacremoses->transformers) (1.0.1)\n",
            "Requirement already satisfied: click in /usr/local/lib/python3.7/dist-packages (from sacremoses->transformers) (7.1.2)\n",
            "Requirement already satisfied: six in /usr/local/lib/python3.7/dist-packages (from sacremoses->transformers) (1.15.0)\n",
            "Installing collected packages: tokenizers, sacremoses, pyyaml, huggingface-hub, transformers\n",
            "  Attempting uninstall: pyyaml\n",
            "    Found existing installation: PyYAML 3.13\n",
            "    Uninstalling PyYAML-3.13:\n",
            "      Successfully uninstalled PyYAML-3.13\n",
            "Successfully installed huggingface-hub-0.0.17 pyyaml-5.4.1 sacremoses-0.0.45 tokenizers-0.10.3 transformers-4.10.2\n"
          ]
        }
      ]
    },
    {
      "cell_type": "code",
      "metadata": {
        "id": "MKwufMy4VbJV"
      },
      "source": [
        "from transformers import BertTokenizerFast, DistilBertTokenizerFast, BatchEncoding, PreTrainedTokenizerFast, TrainingArguments, Trainer\n",
        "from transformers import BertForTokenClassification, DistilBertForTokenClassification\n",
        "from tokenizers import Encoding\n",
        "\n",
        "import itertools\n",
        "from typing import List, Any, Dict, Union, Set\n",
        "import json\n",
        "from pprint import pprint\n",
        "import os\n",
        "import gc\n",
        "from dataclasses import dataclass\n",
        "from tqdm import tqdm\n",
        "from pathlib import Path\n",
        "from pathlib import Path\n",
        "import re\n",
        "\n",
        "import torch\n",
        "from torch.utils.data import Dataset\n",
        "\n",
        "from sklearn.model_selection import train_test_split\n",
        "from sklearn.metrics import f1_score\n",
        "\n",
        "import pandas as pd\n",
        "import matplotlib.pyplot as plt\n",
        "%matplotlib inline\n",
        "import seaborn as sns\n",
        "import numpy as np\n",
        "import numpy"
      ],
      "execution_count": null,
      "outputs": []
    },
    {
      "cell_type": "code",
      "metadata": {
        "colab": {
          "base_uri": "https://localhost:8080/"
        },
        "id": "9nFK6lQpbHUU",
        "outputId": "2f4b691c-6ba1-4d5b-fd7a-671dbf3e34e6"
      },
      "source": [
        "from google.colab import drive\n",
        "drive.mount('/content/drive')"
      ],
      "execution_count": null,
      "outputs": [
        {
          "output_type": "stream",
          "name": "stdout",
          "text": [
            "Mounted at /content/drive\n"
          ]
        }
      ]
    },
    {
      "cell_type": "markdown",
      "metadata": {
        "id": "XM7qzLv2Mmtn"
      },
      "source": [
        "##### Constantes"
      ]
    },
    {
      "cell_type": "code",
      "metadata": {
        "id": "F58fCuz0M2ST"
      },
      "source": [
        "FORMATO_NER_IOB: str = 'IOB'\n",
        "FORMATO_NER_BILOU: str = 'BILOU'\n",
        "IGNORE_LABEL_MODEL_ID: int=-100\n",
        "IGNORE_LABEL: str='[IGNORE]'\n",
        "\n",
        "GDRIVE_PATH:str = '/content/drive/MyDrive'\n",
        "DATASET_DDI_TRAIN:str = os.path.join(GDRIVE_PATH, 'dataset', 'po-ner', 'ddi_train.json')\n",
        "DATASET_DDI_TEST:str = os.path.join(GDRIVE_PATH, 'dataset', 'po-ner', 'ddi_test.json')\n",
        "DATASET_WNUT:str = os.path.join(GDRIVE_PATH, 'dataset', 'po-ner', 'wnut17train.conll')\n",
        "\n",
        "\n",
        "MODEL_BASE: str = 'distilbert-base-cased'\n",
        "MODEL_TRAINED_PATH: str = os.path.join(GDRIVE_PATH, 'model', 'PO-NER', 'base-ner')\n",
        "MODEL_TRAINED_LOG: str = os.path.join(MODEL_TRAINED_PATH, 'trainer.log')\n",
        "LABEL_OUTPUT_PATH: str = os.path.join(MODEL_TRAINED_PATH, 'labelset.txt') \n",
        "MODEL_TRAINED_WNUT_PATH: str = os.path.join(GDRIVE_PATH, 'model', 'PO-NER', 'base-ner-wnut')\n",
        "MODEL_TRAINED_WNUT_LOG: str = os.path.join(MODEL_TRAINED_WNUT_PATH, 'trainer.log')\n",
        "LABEL_OUTPUT_WNUT_PATH: str = os.path.join(MODEL_TRAINED_WNUT_PATH, 'labelset.txt') \n",
        "\n",
        "PUNCTUATION_LIST = [ ',','.',':',';']\n",
        "\n",
        "CONTROL_TOKENS = ['[PAD]', '[SEP]', '[CLS]' ]\n"
      ],
      "execution_count": null,
      "outputs": []
    },
    {
      "cell_type": "markdown",
      "metadata": {
        "id": "3R2lsWyEM3Ml"
      },
      "source": [
        "Carregamento dos tokens com diversas origens e formatos:  \n",
        "*   Palavra/Label - txt\n",
        "*   Texto/Span/Label - json\n",
        "\n",
        "Formato de classificação dos Tokens  \n",
        "* IOB - (I) Inside (O)utside (B)eginning \n",
        "* BILOU - (B)eginning (I)nside (L)ast (O)utside (U)nit\n",
        "\n",
        "Cada tokenizador BERT vai separar os tokens utilizando worpieces com seu respectivo vocabulário, dessa forma a preparação dos labels para métricas/resultados deverá levar em conta a separação de tokens. Por exemplo ao separa os tokens de Starbucks o tokenizador poderia resultar nos tokens: Star, ##bu, ##cks. O alinhamento dos labels com os tokens gerados pelo tokenizador é tarefa preparatória para o treinamento e também inferência do modelo.\n",
        "\n",
        "Além do alinhamento também será necessário decidir como será a identificação de cada wordpiece, ou seja, ela deve ser ignorada ou deverá seguir o formato de classificação do token, recebendo I para o formato IOB e I ou L para o formato BILOU."
      ]
    },
    {
      "cell_type": "markdown",
      "metadata": {
        "id": "tj2l5IdEUupf"
      },
      "source": [
        "##### Classes"
      ]
    },
    {
      "cell_type": "code",
      "metadata": {
        "id": "PFxX-q1GNm7Y"
      },
      "source": [
        "@dataclass\n",
        "class TrainingBatchExample:\n",
        "    batch_encoding: BatchEncoding\n",
        "    labels: List[List[int]]"
      ],
      "execution_count": null,
      "outputs": []
    },
    {
      "cell_type": "code",
      "metadata": {
        "id": "SkeG29JH4Jgq"
      },
      "source": [
        "class NERDataset(torch.utils.data.Dataset):\n",
        "    def __init__(self, batch: Union[BatchEncoding, TrainingBatchExample], labels: List[List[int]]=None):\n",
        "        _encodings: BatchEncoding = None\n",
        "        _labels: List[List[int]] = []\n",
        "\n",
        "        if isinstance(batch, TrainingBatchExample):\n",
        "            _encodings = batch.batch_encoding\n",
        "            _labels = batch.labels\n",
        "        else:\n",
        "            _encodings = batch\n",
        "            _labels = labels\n",
        "\n",
        "        if (\"offset_mapping\" in _encodings):\n",
        "            _encoding.pop(\"offset_mapping\")\n",
        "        self.encodings = _encodings\n",
        "        self.labels = _labels\n",
        "\n",
        "    def __getitem__(self, idx):\n",
        "        item = {key: torch.tensor(val[idx]) for key, val in self.encodings.items()}\n",
        "        item['labels'] = torch.tensor(self.labels[idx])\n",
        "        return item\n",
        "\n",
        "    def __len__(self):\n",
        "        return len(self.labels)"
      ],
      "execution_count": null,
      "outputs": []
    },
    {
      "cell_type": "code",
      "metadata": {
        "id": "lQ9Mgm7CHorI"
      },
      "source": [
        "class LabelNER:\n",
        "    \"\"\"\n",
        "        Classe preparada para conter os labels de um treinamento/predição de NER.\n",
        "        Os labels podem vir sem preparação, ou seja, anotações onde somente o nome do label é informado e não estão presentes os prefixos (IOB ou BILOU).\n",
        "\n",
        "        load_from_list e load_from_annotations devem ser utilizados no treinamento e o label set deve ser gravado utilizando save().\n",
        "        No caso de predição ou carga para teste utilizar o load para carregar um label set previamente utilizado.\n",
        "     \n",
        "    \"\"\"\n",
        "\n",
        "    def __str__(self):\n",
        "            return f\"{len(self.labels_to_id)} labels {str(self.labels_to_id)}\"\n",
        "\n",
        "    def __len__(self):\n",
        "        return len(self.labels_to_id)\n",
        "\n",
        "    def __init__(self):\n",
        "        self.labels_to_id = {}\n",
        "        self.ids_to_label = {}\n",
        "        \n",
        "    def get_label_list(self):\n",
        "        return self.labels_to_id.keys()\n",
        "\n",
        "    def get_id_list(self):\n",
        "        return self.ids_to_label.keys()\n",
        "\n",
        "    def load_from_complete_list(self, labels: List[str]) -> None:\n",
        "        '''\n",
        "            Args: \n",
        "                labels(:obj:`List[str]`):\n",
        "                Lista de labels completa, esperado conter O(utside) e os prefixos de cada entidade.\n",
        "            \n",
        "            Carrega a lista de labels \"as is\" sem tratamento.\n",
        "        '''\n",
        "        self.labels_to_id: Dict = {label: id for id, label in enumerate(labels)}\n",
        "        self.ids_to_label:Dict = {id: label for label, id in self.labels_to_id.items()}\n",
        "        self._finaliza_carga_labels()\n",
        "\n",
        "    def load_from_simple_list(self, labels: List[str], ner_label_format: str=FORMATO_NER_IOB) -> None:\n",
        "        '''\n",
        "            Args: \n",
        "                labels(:obj:`List[str]`):\n",
        "                    Lista de labels sem prefixo e não contendo o tipo O(utside).\n",
        "                ner_label_format(:obj:`str`, `optional`, defaults to `\"IOB\"`):\n",
        "                    Formato para classificação dos tokens de uma entidade - IOB ou BILOU\n",
        "            \n",
        "            Inclui o tipo O(utside) e faz a permutação entre labels e os prefixos do formato informado\n",
        "        '''\n",
        "        self.labels_to_id[\"O\"] = 0\n",
        "        self.ids_to_label[0] = \"O\"\n",
        "        num = 0  # in case there are no labels\n",
        "        prefix_list: str = \"BI\" if ner_label_format == FORMATO_NER_IOB else \"BILU\"\n",
        "\n",
        "        for _num, (label, s) in enumerate(itertools.product(labels, prefix_list)):\n",
        "            num = _num + 1  # skip 0\n",
        "            l = f\"{s}-{label}\"\n",
        "            self.labels_to_id[l] = num\n",
        "            self.ids_to_label[num] = l\n",
        "        \n",
        "        self._finaliza_carga_labels()\n",
        "\n",
        "    def load_from_file(self, input_file_path:str) -> None:\n",
        "        '''\n",
        "            Args: \n",
        "                labelset_file(:obj:`str`):\n",
        "                    Nome do arquivo contendo a lista de labels previamente gravado. Muito importante ter sido gravado por essa classe ou ter a garantia que o arquivo está com os labels na ordem correta.\n",
        "            \n",
        "            Carrega o arquivo com os labels ordenados. O arquivo pode ser construido manualmente, mas deve conter um label por linha, na ordem utilizada para treinar o modelo, já que essa ordem foi criada na \n",
        "            extração ou carga dos labels para o treinamento do modelo.\n",
        "        '''\n",
        "        with open(input_file_path, 'r' ) as label_file:\n",
        "            for ind, label in enumerate(label_file):\n",
        "                label = label.strip('\\n')\n",
        "                self.labels_to_id[label] = ind\n",
        "                self.ids_to_label[ind] = label\n",
        "\n",
        "    def _finaliza_carga_labels(self) -> None:\n",
        "        ''' \n",
        "            Adicionar o label de ignorar wordpiece para os casos em que o modelo será treinado nesse formato\n",
        "        '''\n",
        "        self.labels_to_id[IGNORE_LABEL] = IGNORE_LABEL_MODEL_ID\n",
        "        self.ids_to_label[IGNORE_LABEL_MODEL_ID] = IGNORE_LABEL\n",
        "\n",
        "    def save(self, output_file_path: str):\n",
        "        with open(output_file_path, 'w' ) as label_file:\n",
        "            for label in self.labels_to_id:\n",
        "                label_file.write(label)\n",
        "                label_file.write('\\n')    \n",
        "\n",
        "\n",
        "    def convert_label_list_to_id_list(self, lista: List[str]) -> List[int]:\n",
        "        \"\"\"\n",
        "            Converte uma lista de labels nos respectivos id`s. Para processamento no modelo essa conversão precisará ser realizada\n",
        "        \"\"\"\n",
        "        return list(map(self.labels_to_id.get, lista))\n",
        "\n",
        "    def convert_id_list_to_label_list(self, lista: List[int]) -> List[str]:\n",
        "        \"\"\"\n",
        "            Converte uma lista de id`s nos respectivos labels. Para compreensão do resultado retornado pelo modelo essa conversão será necessária.\n",
        "        \"\"\"\n",
        "        return list(map(self.ids_to_label.get, lista))  \n"
      ],
      "execution_count": null,
      "outputs": []
    },
    {
      "cell_type": "markdown",
      "metadata": {
        "id": "u05INeEBCIJg"
      },
      "source": [
        "##### Funções de Serviço"
      ]
    },
    {
      "cell_type": "code",
      "metadata": {
        "id": "JWbhLmOUHpUY"
      },
      "source": [
        "def align_tokens(batch_encoding :BatchEncoding, \n",
        "                list_annotations: Union[List[List[Dict]],List[List[str]]], \n",
        "                is_span_annotations: bool=True, \n",
        "                ignore_word_piece: bool = False,\n",
        "                ner_label_format: str=FORMATO_NER_IOB,\n",
        "                label_ner: LabelNER=None) -> TrainingBatchExample:\n",
        "\n",
        "    \"\"\"\n",
        "\n",
        "    Alinhamento dos tokens e respectivos labels para tratar a disparidade gerada pelos Tokenizadores Bert quando geram Worpieces.\n",
        "    As anotações foram criadas levando em conta palavras, mas os tokenizadores incluem partes de palavras (wordpieces), exemplo:\n",
        "    Starbucks --> Star, ##bu, ##cks. A anotação está mapeada para uma entrada de B-Location, contudo três entradas deverão ser tratadas.\n",
        "\n",
        "    Args:\n",
        "        batch_encoding (:obj:`BatchEncoding`):\n",
        "            Batch encoding previamente tokenizado (input_ids, attention_mask). \n",
        "            Contém lista de Encodings, ou seja, cada sentença é um encoding e o BatchEncoding contém todos eles.\n",
        "            O modelo é preparado para receber esse tipo de dado, por isso sua estrutura será preservada.\n",
        "        \n",
        "        is_span_annotations(:obj:`bool`, `optional`, defaults to `True`):\n",
        "            Informa se a lista de anotações está no formato span ou se cada token já está classificado com seu respectivo label.\n",
        "            Se for span então o parametro list_annotations será do tipo List[List[Dict]]\n",
        "            Os spans são entradas com inicio e fim de uma faixa de caracteres onde classificados com a entidadade informada. A classificação nesse caso é somente da entidade, não é esperado prefixo IOB ou BILOU.\n",
        "                \n",
        "            Se NÃO for span então o parametro list_annotations será do tipo List[List[int]]\n",
        "            No caso de tokens já classificados (lista de string) espera-se receber os prefixos IOB ou BILOU.\n",
        "\n",
        "            Ambos os casos a classificação existente está por token, o alinhamento resolverá o problema de alinhamento token --> wordpiece.\n",
        "\n",
        "        ignore_word_piece(:obj:`bool`, `optional`, defaults to `False`):\n",
        "            Informa o que fazer com os tokens wordpiece. Se eles forem ignorados então serão treinados com o label -100 (ignorados), caso contrário serão tratados como tokens normais,\n",
        "            podendo receber I-<label> ou L-<label> (formato BILOU)\n",
        "\n",
        "        ner_label_format(:obj:`bool`, `optional`, defaults to `\"IOB\"`):\n",
        "            Formato de classificação de labels, espera o formato IOB ou BILOU\n",
        "\n",
        "        label_ner(:obj:`LabelNER`):\n",
        "            Objeto da classe LabelNER que contém os labels e seus respectivos id's. Será utilizada para converter os labels de string para seus respectivos identificadores.\n",
        "\n",
        "        Returns:\n",
        "            :obj:`TrainingBatchExamples`:\n",
        "                TrainingBatchExamples contendo o BatchEncoding passado e os labels alinhados\n",
        "\n",
        "    \"\"\"\n",
        "\n",
        "    list_aligned_labels: List[List[int]] = []\n",
        "\n",
        "    for ind_encoding in range(len(batch_encoding.encodings)):\n",
        "        encoding: Encoding = batch_encoding[ind_encoding]\n",
        "        annotations = list_annotations[ind_encoding]\n",
        "\n",
        "        if is_span_annotations:\n",
        "            aligned_labels_str: List[str] = align_tokens_from_span_annotations(encoding,\n",
        "                                                                               annotations,\n",
        "                                                                               ignore_word_piece,\n",
        "                                                                               ner_label_format)\n",
        "        else:\n",
        "           aligned_labels_str: List[str] = align_tokens_from_token_tags(encoding,\n",
        "                                                                        annotations,\n",
        "                                                                        ignore_word_piece)     \n",
        "           \n",
        "        list_aligned_labels.append(label_ner.convert_label_list_to_id_list(aligned_labels_str))\n",
        "\n",
        "    training_batch = TrainingBatchExample(batch_encoding, list_aligned_labels)\n",
        "    \n",
        "    return training_batch\n"
      ],
      "execution_count": null,
      "outputs": []
    },
    {
      "cell_type": "code",
      "metadata": {
        "id": "VUfAWTWNTYkZ"
      },
      "source": [
        "def align_tokens_from_span_annotations(encoding: Encoding, \n",
        "                                       annotations: List[Dict],                                     \n",
        "                                       ignore_word_piece: bool = False,\n",
        "                                       ner_label_format: str=FORMATO_NER_IOB):\n",
        "    \"\"\"\n",
        "\n",
        "    Construção do array de labels de acordo com as anotações por span, tratando alinhamento de tokens com wordpieces.\n",
        "    \n",
        "    Args:\n",
        "        encoding (:obj:`Encoding`):\n",
        "            Enconding da sentença previamente tokenizada (input_ids, attention_mask)            \n",
        "        \n",
        "        annotations(:obj:`List[Dict]`)\n",
        "            Lista de spans das entidades, ou seja, cada entrada do dicionário contém o inicio e fim de uma entidade que pode conter uma ou mais palavras.\n",
        "            A função espera receber anotações com as seguintes entradas:\n",
        "                - start - inicio do span\n",
        "                - end - fim do span\n",
        "                - label - label do span. Não é esperado que o label contenha os prefixos IOB ou BILOU, somente o nome do label.\n",
        "\n",
        "        ignore_word_piece(:obj:`bool`, `optional`, defaults to `False`):\n",
        "            Informa o que fazer com os tokens wordpiece. Se eles forem ignorados então serão treinados com o label -100 (ignorados), caso contrário serão tratados como tokens normais,\n",
        "            podendo receber I-<label> ou L-<label> (formato BILOU)\n",
        "\n",
        "        ner_label_format(:obj:`bool`, `optional`, defaults to `\"IOB\"`):\n",
        "            Formato de classificação de labels, espera o formato IOB ou BILOU\n",
        "\n",
        "        Returns:\n",
        "            :obj:`List[str]`:\n",
        "                labels alinhados com os tokens, ignorando ou incluindo nos wordpieces na classificação (parametro ignore_word_piece).\n",
        "\n",
        "    \"\"\"\n",
        "\n",
        "    \n",
        "    # Inicialização com BILOU e ajusta caso necessário\n",
        "    unique_prefix: str='U'\n",
        "    begin_prefix: str='B'\n",
        "    inside_prefix: str='I'\n",
        "    last_prefix: str='L'\n",
        "\n",
        "    if ner_label_format == FORMATO_NER_IOB:\n",
        "        unique_prefix = 'B'\n",
        "        last_prefix = 'I'\n",
        "\n",
        "    tokens = encoding.tokens\n",
        "    #print(tokens)\n",
        "    aligned_labels: List[str] = [\"O\"] * len(tokens)  # Make a list to store our labels the same length as our tokens\n",
        "    for anno in annotations:\n",
        "        annotation_token_ix_set = (set())  # A set that stores the token indices of the annotation\n",
        "        for char_ix in range(anno[\"start\"], anno[\"end\"]):\n",
        "            token_ix = encoding.char_to_token(char_ix)\n",
        "            if token_ix is not None:\n",
        "                if not tokens[token_ix] in PUNCTUATION_LIST: # alguns datasets incluem caracteres de pontuação na entidade por falha nas anotações\n",
        "                    annotation_token_ix_set.add(token_ix)\n",
        "\n",
        "        if len(annotation_token_ix_set) == 1:\n",
        "            # If there is only one token\n",
        "            token_ix = annotation_token_ix_set.pop()\n",
        "            aligned_labels[token_ix] = f\"{unique_prefix}-{anno['label']}\"\n",
        "\n",
        "        else:\n",
        "            last_token_in_anno_ix = len(annotation_token_ix_set) - 1\n",
        "            for num, token_ix in enumerate(sorted(annotation_token_ix_set)):\n",
        "                ignorar_token: bool=False\n",
        "\n",
        "                #tratamento worpiece\n",
        "                if ignore_word_piece:\n",
        "                    if token_ix > 1: #[CLS] e o primeiro token não serão wordpieces com certeza e o offets deles compromete a lógica [CLS] (0,0) [1o token] (0,1)\n",
        "                        offset_ini = encoding.offsets[token_ix][0]\n",
        "                        offset_end_anterior = encoding.offsets[token_ix-1][1]\n",
        "                        if offset_ini == offset_end_anterior:\n",
        "                            ignorar_token = True\n",
        "                            aligned_labels[token_ix] = IGNORE_LABEL        \n",
        "\n",
        "                if not ignorar_token:\n",
        "                    if num == 0:\n",
        "                        prefix = begin_prefix\n",
        "                    elif num == last_token_in_anno_ix:\n",
        "                        prefix = last_prefix\n",
        "                    else:\n",
        "                        prefix = inside_prefix\n",
        "                    aligned_labels[token_ix] = f\"{prefix}-{anno['label']}\"\n",
        "    return aligned_labels"
      ],
      "execution_count": null,
      "outputs": []
    },
    {
      "cell_type": "code",
      "metadata": {
        "id": "t1FDJ_q3IkE7"
      },
      "source": [
        "def align_tokens_from_token_tags(encoding: Encoding, tag_list: List[str], ignore_word_piece: bool = False):\n",
        "    \"\"\"\n",
        "        Anotações por tokens são feitas em arquivos já tokenizados, não são strings, são linhas de tokens e classificação. O offset para identificação de wordpiece \n",
        "        deve ser tratado diferente das strings com anotações por span. Tokens que possuem o primeiro item do offset > 0 e o segundo item diferente de zero são wordpiece \n",
        "        (a segunda parte da crítica seria para o [CLS] ou [SEP]).\n",
        "        Somente o formato IOB será tratado nessa função de alinhamento.\n",
        "\n",
        "        Args:\n",
        "        encoding (:obj:`Encoding`):\n",
        "            Enconding da sentença previamente tokenizada (input_ids, attention_mask)            \n",
        "        \n",
        "        tag_list(:obj:`List[str]`)\n",
        "            Lista com os labels por token. Não possui o tratamento do worpiece. len(label_list) <= len(enconding.tokens)\n",
        "\n",
        "        ignore_word_piece(:obj:`bool`, `optional`, defaults to `False`):\n",
        "            Informa o que fazer com os tokens wordpiece. Se eles forem ignorados então serão treinados com o label -100 (ignorados), caso contrário serão tratados como tokens normais,\n",
        "            podendo receber I-<label> ou L-<label> (formato BILOU)\n",
        "        \n",
        "        Returns:\n",
        "            :obj:`List[str]`:\n",
        "                labels alinhados com os tokens, ignorando ou incluindo nos wordpieces na classificação (parametro ignore_word_piece).\n",
        "    \"\"\"\n",
        "\n",
        "    aligned_labels: List[str] = [\"O\"] * len(encoding.tokens)\n",
        "    ind_label: int = 0\n",
        "    last_token_label: str = None\n",
        "\n",
        "    for ind_token, token_input_id in enumerate(encoding.ids):\n",
        "        offsets = encoding.offsets\n",
        "        if ind_token == 0: #ignora o [CLS]\n",
        "            continue\n",
        "        if (offsets[ind_token][0] > 0):\n",
        "            if last_token_label is not None:\n",
        "                if ignore_word_piece:\n",
        "                    aligned_labels[ind_token] = IGNORE_LABEL\n",
        "                else:\n",
        "                    aligned_labels[ind_token] = last_token_label.replace(\"B-\",\"I-\") \n",
        "        else:\n",
        "            # tratamento dos [PAD]`s que vão além da lista de labels\n",
        "            label: str = tag_list[ind_label] if ind_label < len(tag_list) else \"O\"\n",
        "            aligned_labels[ind_token] = label\n",
        "            last_token_label = label if label != \"O\" else None                    \n",
        "            ind_label = ind_label + 1\n",
        "    \n",
        "    return aligned_labels"
      ],
      "execution_count": null,
      "outputs": []
    },
    {
      "cell_type": "code",
      "metadata": {
        "id": "0K2FUujvmaF8"
      },
      "source": [
        "# Liberar Recursos da GPU\n",
        "def destroy_model(model: Union[DistilBertForTokenClassification,BertForTokenClassification]):\n",
        "    del model\n",
        "    gc.collect()\n",
        "    torch.cuda.empty_cache()\n",
        "\n",
        "def destroy_tokenizer(tokenizer: Union[BertTokenizerFast, DistilBertTokenizerFast]):\n",
        "    del tokenizer\n",
        "    gc.collect()\n",
        "    torch.cuda.empty_cache()"
      ],
      "execution_count": null,
      "outputs": []
    },
    {
      "cell_type": "code",
      "metadata": {
        "id": "e9uPUhhSkZCI"
      },
      "source": [
        "def prepara_NER_prediction_for_metrics(tokenizer: Union[BertTokenizerFast, DistilBertTokenizerFast], \n",
        "                                       batch_encoding: BatchEncoding, \n",
        "                                       test_labels: numpy.ndarray, \n",
        "                                       pred_labels: numpy.ndarray,\n",
        "                                       ignorar_wordpiece: bool):\n",
        "    \"\"\"\n",
        "        Ajusta da predição realizada pelo NER para avaliação das métricas, tratando wordpieces caso necessário.\n",
        "        Os seguintes tokens de controle devem ser ignorados: [PAD], [SEP], [CLS]. Ignorar representa atribuir o valor correto à predição, \n",
        "        já que a predição que eventualmente foi predita será ignorada na métrica do teste e no uso ordinário.\n",
        "\n",
        "        Args:\n",
        "            tokenizer (:obj:`Union[BertTokenizerFast,DistilBertTokenizerFast]`):\n",
        "                Tokenizer utiilzado no modelo e que tokenizou o batch_encoding.\n",
        "\n",
        "            batch_encoding (:obj:`BatchEncoding`):\n",
        "                Batch enconding das sentenças tokenizadas utilizando o tokenizer passado por parametro. Será usado caso os wordpieces sejam ignorados.\n",
        "            \n",
        "            test_labels (:obj:`numpy.ndarray(int)`):\n",
        "                Array com os valores corretos dos labels.\n",
        "            \n",
        "            pred_labels (:obj:`numpy.ndarray(int)`):\n",
        "                Array com os valores inferido pelo modelo.\n",
        "\n",
        "            ignorar_wordpiece (:obj:`bool`):\n",
        "                Caso afirmativo os wordpieces serão ignorados e receberão o valor correto, já que o importante seria sua primeira parte, que identifica o token\n",
        "\n",
        "            \n",
        "        Returns:\n",
        "            :obj:`numpy.ndarray(int)`:\n",
        "                Vetor de predição preparado para aplicação de métricas.\n",
        "    \"\"\"\n",
        "    control_encodings:BatchEncoding = tokenizer(CONTROL_TOKENS)\n",
        "    # [CLS] e [SEP] são adicionados pelo tokenizador gerando 3 * numero de tokens de controle, por isso foi gerado um set\n",
        "    ignored_tokens = set([token_id for control_sent in control_encodings.input_ids for token_id in control_sent])\n",
        "    \n",
        "    for ind_encoding in range(len(batch_encoding.encodings)):\n",
        "        encoding:Encoding = batch_encoding[ind_encoding]\n",
        "        \n",
        "        for ind_token,input_id in enumerate(encoding.ids):\n",
        "            if input_id in ignored_tokens:\n",
        "                if pred_labels[ind_encoding][ind_token] != test_labels[ind_encoding][ind_token]:\n",
        "                    #print(input_id,' [', ind_encoding, ',', ind_token, '] -', pred_labels[ind_encoding][ind_token], '--> ', test_labels[ind_encoding][ind_token] )\n",
        "                    pred_labels[ind_encoding][ind_token] = test_labels[ind_encoding][ind_token]\n",
        "\n",
        "\n",
        "        if ignorar_wordpiece:\n",
        "            for ind_token, offset in enumerate(encoding.offsets):\n",
        "                if ind_token <=1:\n",
        "                    continue\n",
        "                offset_ini = encoding.offsets[ind_token][0]\n",
        "                offset_end_anterior = encoding.offsets[ind_token-1][1]\n",
        "                if offset_ini == offset_end_anterior:\n",
        "                    pred_labels[ind_encoding,ind_token] = test_labels[ind_encoding,ind_token]\n",
        "\n",
        "    return pred_labels"
      ],
      "execution_count": null,
      "outputs": []
    },
    {
      "cell_type": "markdown",
      "metadata": {
        "id": "FQL7tGHfJIo2"
      },
      "source": [
        ""
      ]
    },
    {
      "cell_type": "code",
      "metadata": {
        "id": "80m7Tug_L8BW"
      },
      "source": [
        "# Retorna os tensores que estão em uso na memória da GPU\n",
        "\n",
        "def get_gpu_memory_status():\n",
        "    total = (torch.cuda.get_device_properties(0).total_memory)/(1024 **2)\n",
        "    reserved = (torch.cuda.memory_reserved(0))/(1024 **2)\n",
        "    allocated = (torch.cuda.memory_allocated(0))/(1024 **2)\n",
        "    return f\"Total: {total:.2f} | Reserved: {reserved:.2f} | Allocated: {allocated:.2f}\"\n",
        "\n",
        "def print_gpu_use():\n",
        "    result = []\n",
        "    for tracked_object in gc.get_objects():\n",
        "        if torch.is_tensor(tracked_object):\n",
        "            shape = tracked_object.shape\n",
        "            result.append({\n",
        "                'name': type(tracked_object).__name__,\n",
        "                '1d': len(shape)==1,\n",
        "                '2d': len(shape)==2,\n",
        "                'nrows': shape[0] if (len(shape) > 0) else None,\n",
        "                'ncols': shape[1] if (len(shape) > 1) else None,\n",
        "                'gpu': tracked_object.is_cuda,\n",
        "                'pinned': tracked_object.is_pinned()\n",
        "            })\n",
        "        \n",
        "    d = pd.DataFrame(result)\n",
        "    d.groupby('name')['gpu', 'pinned', '1d', '2d'].sum()\n",
        "    print(d)\n",
        "\n"
      ],
      "execution_count": null,
      "outputs": []
    },
    {
      "cell_type": "code",
      "metadata": {
        "id": "_y0Tpj1zhLrH"
      },
      "source": [
        "def plot_grafico_trainer_loss(trainer_loss: numpy.ndarray, validation_loss: numpy.ndarray):\n",
        "    # Use plot styling from seaborn.\n",
        "    sns.set(style='darkgrid')\n",
        "\n",
        "    # Increase the plot size and font size.\n",
        "    sns.set(font_scale=1.5)\n",
        "    plt.rcParams[\"figure.figsize\"] = (12,6)\n",
        "\n",
        "    # Plot the learning curve.\n",
        "    plt.plot(trainer_loss[:,0],trainer_loss[:,1] , label=\"training loss\")\n",
        "    plt.plot(validation_loss[:,0], validation_loss[:,1] , label=\"validation loss\")\n",
        "\n",
        "    # Label the plot.\n",
        "    plt.title(\"Learning curve\")\n",
        "    plt.xlabel(\"Epoch\")\n",
        "    plt.ylabel(\"Loss\")\n",
        "    plt.legend()\n",
        "\n",
        "    plt.show()"
      ],
      "execution_count": null,
      "outputs": []
    },
    {
      "cell_type": "markdown",
      "metadata": {
        "id": "ZuBSabpoay0W"
      },
      "source": [
        "        \n",
        "---\n",
        "       \n",
        "## 1 -  Treinamento com Anotações"
      ]
    },
    {
      "cell_type": "code",
      "metadata": {
        "id": "qCO0hhEGax8Z"
      },
      "source": [
        "# carregamento e alteração do campo para ficar similar ao esperado pela função que faz os alinhamentos\n",
        "label_set: Set[str] = set()\n",
        "with open(DATASET_DDI_TRAIN) as json_ds_file:\n",
        "    raw = json.load(json_ds_file)\n",
        "    for example in raw:\n",
        "        # our simple implementation expects the label to be called label, so we adjust the original data\n",
        "        for anno in example[\"annotations\"]:\n",
        "            anno[\"label\"] = anno[\"tag\"]\n",
        "            label_set.add(anno[\"label\"])\n",
        "\n",
        "label_list: List[str] = list(label_set)"
      ],
      "execution_count": null,
      "outputs": []
    },
    {
      "cell_type": "code",
      "metadata": {
        "id": "KQ9xOoVIhNBa"
      },
      "source": [
        "# instancia e carrega os valores para a classe que vai gerenciar os labels e seus id`s\n",
        "label_ner: LabelNER = LabelNER() \n",
        "label_ner.load_from_simple_list(label_list, ner_label_format=FORMATO_NER_IOB)"
      ],
      "execution_count": null,
      "outputs": []
    },
    {
      "cell_type": "code",
      "metadata": {
        "id": "PTS23v6vb-qH"
      },
      "source": [
        "tokenizer = DistilBertTokenizerFast.from_pretrained(MODEL_BASE) # Load a pre-trained tokenizer\n",
        "tokenized_batch : BatchEncoding = None\n"
      ],
      "execution_count": null,
      "outputs": []
    },
    {
      "cell_type": "code",
      "metadata": {
        "id": "i4ksc9fDcW_A"
      },
      "source": [
        "text_list: List[str] = []\n",
        "annotations_list: List[List[dict]] = []\n",
        "\n",
        "for example in raw:\n",
        "    sentenca = example[\"content\"]\n",
        "    text_list.append(sentenca)\n",
        "    annotations_list.append(example[\"annotations\"])"
      ],
      "execution_count": null,
      "outputs": []
    },
    {
      "cell_type": "code",
      "metadata": {
        "colab": {
          "base_uri": "https://localhost:8080/"
        },
        "id": "06Fnpq1MqRh4",
        "outputId": "b36e52da-0161-4f6e-901c-da07c3a5c733"
      },
      "source": [
        "print(len(text_list))"
      ],
      "execution_count": null,
      "outputs": [
        {
          "output_type": "stream",
          "name": "stdout",
          "text": [
            "5806\n"
          ]
        }
      ]
    },
    {
      "cell_type": "code",
      "metadata": {
        "id": "68yLOsJHqX5q"
      },
      "source": [
        "# separação em train e validation\n",
        "train_text_list, val_text_list,train_annotations_list, val_annotations_list = train_test_split(text_list, annotations_list, test_size=0.1, random_state=42)"
      ],
      "execution_count": null,
      "outputs": []
    },
    {
      "cell_type": "code",
      "metadata": {
        "id": "r16F3W9ZhKxI"
      },
      "source": [
        "train_batch_encoding = tokenizer(train_text_list, max_length=512, padding=\"max_length\", truncation=True)\n",
        "val_batch_encoding = tokenizer(val_text_list, max_length=512, padding=\"max_length\", truncation=True)"
      ],
      "execution_count": null,
      "outputs": []
    },
    {
      "cell_type": "code",
      "metadata": {
        "id": "2Ksmvziknvxr"
      },
      "source": [
        "train_batch_example:TrainingBatchExample = align_tokens(train_batch_encoding, \n",
        "                                                        train_annotations_list,                  \n",
        "                                                        is_span_annotations=True, \n",
        "                                                        ignore_word_piece=False, \n",
        "                                                        ner_label_format=FORMATO_NER_IOB, \n",
        "                                                        label_ner=label_ner)\n",
        "\n",
        "val_batch_example:TrainingBatchExample = align_tokens(val_batch_encoding, \n",
        "                                                    val_annotations_list,\n",
        "                                                    is_span_annotations=True, \n",
        "                                                    ignore_word_piece=False, \n",
        "                                                    ner_label_format=FORMATO_NER_IOB, \n",
        "                                                    label_ner=label_ner)"
      ],
      "execution_count": null,
      "outputs": []
    },
    {
      "cell_type": "code",
      "metadata": {
        "id": "9iVEwJ97r2Kw",
        "colab": {
          "base_uri": "https://localhost:8080/"
        },
        "outputId": "8ac3e5fe-ba2e-48d4-949c-5694625048b1"
      },
      "source": [
        "print(train_text_list[766])\n",
        "print(train_batch_example.batch_encoding.encodings[766].tokens)\n",
        "print(train_batch_example.batch_encoding.encodings[766].offsets)\n",
        "print(label_ner.convert_id_list_to_label_list(train_batch_example.labels[766]))"
      ],
      "execution_count": null,
      "outputs": [
        {
          "output_type": "stream",
          "name": "stdout",
          "text": [
            "Etonogestrel may interact with the following medications: acetaminophen (Tylenol), antibiotics such as ampicillin and tetracycline, anticonvulsants (Dilantin, Phenobarbital, Tegretol, Trileptal, Topamax, Felbatol), antifungals (Gris-PEG, Nizoral, Sporanox), atorvastatin (Lipitor), clofibrate (Atromid-S), cyclosporine (Neoral, Sandimmune), HIV drugs classified as protease inhibitors (Agenerase, Crixivan, Fortovase, Invirase, Kaletra, Norvir, Viracept), morphine (Astramorph, Kadian, MS Contin), phenylbutazone, prednisolone (Prelone), rifadin (rifampin), St. Johns wort, temazepam, theophylline (Theo-Dur), and vitamin C.\n",
            "['[CLS]', 'Eton', '##og', '##est', '##rel', 'may', 'interact', 'with', 'the', 'following', 'medications', ':', 'ace', '##tam', '##ino', '##phe', '##n', '(', 'Ty', '##len', '##ol', ')', ',', 'anti', '##biotics', 'such', 'as', 'am', '##pic', '##ill', '##in', 'and', 'te', '##tra', '##cy', '##cline', ',', 'anti', '##con', '##vu', '##ls', '##ants', '(', 'Di', '##lant', '##in', ',', 'Ph', '##eno', '##bar', '##bit', '##al', ',', 'Te', '##g', '##ret', '##ol', ',', 'Tri', '##le', '##pta', '##l', ',', 'Top', '##ama', '##x', ',', 'Fe', '##l', '##bat', '##ol', ')', ',', 'anti', '##fu', '##nga', '##ls', '(', 'G', '##ris', '-', 'P', '##EG', ',', 'Ni', '##zor', '##al', ',', 'S', '##por', '##ano', '##x', ')', ',', 'at', '##or', '##vas', '##tat', '##in', '(', 'Li', '##pit', '##or', ')', ',', 'c', '##lo', '##fi', '##bra', '##te', '(', 'At', '##rom', '##id', '-', 'S', ')', ',', 'c', '##y', '##c', '##los', '##por', '##ine', '(', 'Neo', '##ral', ',', 'Sand', '##im', '##mu', '##ne', ')', ',', 'HIV', 'drugs', 'classified', 'as', 'pro', '##te', '##ase', 'inhibitor', '##s', '(', 'Age', '##ner', '##ase', ',', 'C', '##rix', '##iva', '##n', ',', 'Fort', '##ova', '##se', ',', 'In', '##vir', '##ase', ',', 'Ka', '##let', '##ra', ',', 'Nor', '##vir', ',', 'V', '##ira', '##ce', '##pt', ')', ',', 'm', '##or', '##phine', '(', 'As', '##tra', '##mor', '##ph', ',', 'Ka', '##dian', ',', 'MS', 'Con', '##tin', ')', ',', 'p', '##hen', '##yl', '##but', '##az', '##one', ',', 'pre', '##dn', '##is', '##olo', '##ne', '(', 'Pre', '##lone', ')', ',', 'r', '##if', '##adi', '##n', '(', 'r', '##if', '##amp', '##in', ')', ',', 'St', '.', 'Johns', 'w', '##ort', ',', 'te', '##ma', '##ze', '##pa', '##m', ',', 'the', '##op', '##hyl', '##line', '(', 'Theo', '-', 'Du', '##r', ')', ',', 'and', 'vitamin', 'C', '.', '[SEP]', '[PAD]', '[PAD]', '[PAD]', '[PAD]', '[PAD]', '[PAD]', '[PAD]', '[PAD]', '[PAD]', '[PAD]', '[PAD]', '[PAD]', '[PAD]', '[PAD]', '[PAD]', '[PAD]', '[PAD]', '[PAD]', '[PAD]', '[PAD]', '[PAD]', '[PAD]', '[PAD]', '[PAD]', '[PAD]', '[PAD]', '[PAD]', '[PAD]', '[PAD]', '[PAD]', '[PAD]', '[PAD]', '[PAD]', '[PAD]', '[PAD]', '[PAD]', '[PAD]', '[PAD]', '[PAD]', '[PAD]', '[PAD]', '[PAD]', '[PAD]', '[PAD]', '[PAD]', '[PAD]', '[PAD]', '[PAD]', '[PAD]', '[PAD]', '[PAD]', '[PAD]', '[PAD]', '[PAD]', '[PAD]', '[PAD]', '[PAD]', '[PAD]', '[PAD]', '[PAD]', '[PAD]', '[PAD]', '[PAD]', '[PAD]', '[PAD]', '[PAD]', '[PAD]', '[PAD]', '[PAD]', '[PAD]', '[PAD]', '[PAD]', '[PAD]', '[PAD]', '[PAD]', '[PAD]', '[PAD]', '[PAD]', '[PAD]', '[PAD]', '[PAD]', '[PAD]', '[PAD]', '[PAD]', '[PAD]', '[PAD]', '[PAD]', '[PAD]', '[PAD]', '[PAD]', '[PAD]', '[PAD]', '[PAD]', '[PAD]', '[PAD]', '[PAD]', '[PAD]', '[PAD]', '[PAD]', '[PAD]', '[PAD]', '[PAD]', '[PAD]', '[PAD]', '[PAD]', '[PAD]', '[PAD]', '[PAD]', '[PAD]', '[PAD]', '[PAD]', '[PAD]', '[PAD]', '[PAD]', '[PAD]', '[PAD]', '[PAD]', '[PAD]', '[PAD]', '[PAD]', '[PAD]', '[PAD]', '[PAD]', '[PAD]', '[PAD]', '[PAD]', '[PAD]', '[PAD]', '[PAD]', '[PAD]', '[PAD]', '[PAD]', '[PAD]', '[PAD]', '[PAD]', '[PAD]', '[PAD]', '[PAD]', '[PAD]', '[PAD]', '[PAD]', '[PAD]', '[PAD]', '[PAD]', '[PAD]', '[PAD]', '[PAD]', '[PAD]', '[PAD]', '[PAD]', '[PAD]', '[PAD]', '[PAD]', '[PAD]', '[PAD]', '[PAD]', '[PAD]', '[PAD]', '[PAD]', '[PAD]', '[PAD]', '[PAD]', '[PAD]', '[PAD]', '[PAD]', '[PAD]', '[PAD]', '[PAD]', '[PAD]', '[PAD]', '[PAD]', '[PAD]', '[PAD]', '[PAD]', '[PAD]', '[PAD]', '[PAD]', '[PAD]', '[PAD]', '[PAD]', '[PAD]', '[PAD]', '[PAD]', '[PAD]', '[PAD]', '[PAD]', '[PAD]', '[PAD]', '[PAD]', '[PAD]', '[PAD]', '[PAD]', '[PAD]', '[PAD]', '[PAD]', '[PAD]', '[PAD]', '[PAD]', '[PAD]', '[PAD]', '[PAD]', '[PAD]', '[PAD]', '[PAD]', '[PAD]', '[PAD]', '[PAD]', '[PAD]', '[PAD]', '[PAD]', '[PAD]', '[PAD]', '[PAD]', '[PAD]', '[PAD]', '[PAD]', '[PAD]', '[PAD]', '[PAD]', '[PAD]', '[PAD]', '[PAD]', '[PAD]', '[PAD]', '[PAD]', '[PAD]', '[PAD]', '[PAD]', '[PAD]', '[PAD]', '[PAD]', '[PAD]', '[PAD]', '[PAD]', '[PAD]', '[PAD]', '[PAD]', '[PAD]', '[PAD]', '[PAD]', '[PAD]', '[PAD]', '[PAD]', '[PAD]', '[PAD]', '[PAD]', '[PAD]', '[PAD]', '[PAD]', '[PAD]', '[PAD]', '[PAD]', '[PAD]', '[PAD]', '[PAD]', '[PAD]', '[PAD]', '[PAD]', '[PAD]', '[PAD]', '[PAD]', '[PAD]', '[PAD]', '[PAD]', '[PAD]']\n",
            "[(0, 0), (0, 4), (4, 6), (6, 9), (9, 12), (13, 16), (17, 25), (26, 30), (31, 34), (35, 44), (45, 56), (56, 57), (58, 61), (61, 64), (64, 67), (67, 70), (70, 71), (72, 73), (73, 75), (75, 78), (78, 80), (80, 81), (81, 82), (83, 87), (87, 94), (95, 99), (100, 102), (103, 105), (105, 108), (108, 111), (111, 113), (114, 117), (118, 120), (120, 123), (123, 125), (125, 130), (130, 131), (132, 136), (136, 139), (139, 141), (141, 143), (143, 147), (148, 149), (149, 151), (151, 155), (155, 157), (157, 158), (159, 161), (161, 164), (164, 167), (167, 170), (170, 172), (172, 173), (174, 176), (176, 177), (177, 180), (180, 182), (182, 183), (184, 187), (187, 189), (189, 192), (192, 193), (193, 194), (195, 198), (198, 201), (201, 202), (202, 203), (204, 206), (206, 207), (207, 210), (210, 212), (212, 213), (213, 214), (215, 219), (219, 221), (221, 224), (224, 226), (227, 228), (228, 229), (229, 232), (232, 233), (233, 234), (234, 236), (236, 237), (238, 240), (240, 243), (243, 245), (245, 246), (247, 248), (248, 251), (251, 254), (254, 255), (255, 256), (256, 257), (258, 260), (260, 262), (262, 265), (265, 268), (268, 270), (271, 272), (272, 274), (274, 277), (277, 279), (279, 280), (280, 281), (282, 283), (283, 285), (285, 287), (287, 290), (290, 292), (293, 294), (294, 296), (296, 299), (299, 301), (301, 302), (302, 303), (303, 304), (304, 305), (306, 307), (307, 308), (308, 309), (309, 312), (312, 315), (315, 318), (319, 320), (320, 323), (323, 326), (326, 327), (328, 332), (332, 334), (334, 336), (336, 338), (338, 339), (339, 340), (341, 344), (345, 350), (351, 361), (362, 364), (365, 368), (368, 370), (370, 373), (374, 383), (383, 384), (385, 386), (386, 389), (389, 392), (392, 395), (395, 396), (397, 398), (398, 401), (401, 404), (404, 405), (405, 406), (407, 411), (411, 414), (414, 416), (416, 417), (418, 420), (420, 423), (423, 426), (426, 427), (428, 430), (430, 433), (433, 435), (435, 436), (437, 440), (440, 443), (443, 444), (445, 446), (446, 449), (449, 451), (451, 453), (453, 454), (454, 455), (456, 457), (457, 459), (459, 464), (465, 466), (466, 468), (468, 471), (471, 474), (474, 476), (476, 477), (478, 480), (480, 484), (484, 485), (486, 488), (489, 492), (492, 495), (495, 496), (496, 497), (498, 499), (499, 502), (502, 504), (504, 507), (507, 509), (509, 512), (512, 513), (514, 517), (517, 519), (519, 521), (521, 524), (524, 526), (527, 528), (528, 531), (531, 535), (535, 536), (536, 537), (538, 539), (539, 541), (541, 544), (544, 545), (546, 547), (547, 548), (548, 550), (550, 553), (553, 555), (555, 556), (556, 557), (558, 560), (560, 561), (562, 567), (568, 569), (569, 572), (572, 573), (574, 576), (576, 578), (578, 580), (580, 582), (582, 583), (583, 584), (585, 588), (588, 590), (590, 593), (593, 597), (598, 599), (599, 603), (603, 604), (604, 606), (606, 607), (607, 608), (608, 609), (610, 613), (614, 621), (622, 623), (623, 624), (0, 0), (0, 0), (0, 0), (0, 0), (0, 0), (0, 0), (0, 0), (0, 0), (0, 0), (0, 0), (0, 0), (0, 0), (0, 0), (0, 0), (0, 0), (0, 0), (0, 0), (0, 0), (0, 0), (0, 0), (0, 0), (0, 0), (0, 0), (0, 0), (0, 0), (0, 0), (0, 0), (0, 0), (0, 0), (0, 0), (0, 0), (0, 0), (0, 0), (0, 0), (0, 0), (0, 0), (0, 0), (0, 0), (0, 0), (0, 0), (0, 0), (0, 0), (0, 0), (0, 0), (0, 0), (0, 0), (0, 0), (0, 0), (0, 0), (0, 0), (0, 0), (0, 0), (0, 0), (0, 0), (0, 0), (0, 0), (0, 0), (0, 0), (0, 0), (0, 0), (0, 0), (0, 0), (0, 0), (0, 0), (0, 0), (0, 0), (0, 0), (0, 0), (0, 0), (0, 0), (0, 0), (0, 0), (0, 0), (0, 0), (0, 0), (0, 0), (0, 0), (0, 0), (0, 0), (0, 0), (0, 0), (0, 0), (0, 0), (0, 0), (0, 0), (0, 0), (0, 0), (0, 0), (0, 0), (0, 0), (0, 0), (0, 0), (0, 0), (0, 0), (0, 0), (0, 0), (0, 0), (0, 0), (0, 0), (0, 0), (0, 0), (0, 0), (0, 0), (0, 0), (0, 0), (0, 0), (0, 0), (0, 0), (0, 0), (0, 0), (0, 0), (0, 0), (0, 0), (0, 0), (0, 0), (0, 0), (0, 0), (0, 0), (0, 0), (0, 0), (0, 0), (0, 0), (0, 0), (0, 0), (0, 0), (0, 0), (0, 0), (0, 0), (0, 0), (0, 0), (0, 0), (0, 0), (0, 0), (0, 0), (0, 0), (0, 0), (0, 0), (0, 0), (0, 0), (0, 0), (0, 0), (0, 0), (0, 0), (0, 0), (0, 0), (0, 0), (0, 0), (0, 0), (0, 0), (0, 0), (0, 0), (0, 0), (0, 0), (0, 0), (0, 0), (0, 0), (0, 0), (0, 0), (0, 0), (0, 0), (0, 0), (0, 0), (0, 0), (0, 0), (0, 0), (0, 0), (0, 0), (0, 0), (0, 0), (0, 0), (0, 0), (0, 0), (0, 0), (0, 0), (0, 0), (0, 0), (0, 0), (0, 0), (0, 0), (0, 0), (0, 0), (0, 0), (0, 0), (0, 0), (0, 0), (0, 0), (0, 0), (0, 0), (0, 0), (0, 0), (0, 0), (0, 0), (0, 0), (0, 0), (0, 0), (0, 0), (0, 0), (0, 0), (0, 0), (0, 0), (0, 0), (0, 0), (0, 0), (0, 0), (0, 0), (0, 0), (0, 0), (0, 0), (0, 0), (0, 0), (0, 0), (0, 0), (0, 0), (0, 0), (0, 0), (0, 0), (0, 0), (0, 0), (0, 0), (0, 0), (0, 0), (0, 0), (0, 0), (0, 0), (0, 0), (0, 0), (0, 0), (0, 0), (0, 0), (0, 0), (0, 0), (0, 0), (0, 0), (0, 0), (0, 0), (0, 0), (0, 0), (0, 0), (0, 0), (0, 0), (0, 0), (0, 0), (0, 0), (0, 0), (0, 0), (0, 0), (0, 0), (0, 0), (0, 0), (0, 0), (0, 0), (0, 0), (0, 0), (0, 0), (0, 0), (0, 0), (0, 0), (0, 0), (0, 0), (0, 0), (0, 0), (0, 0), (0, 0), (0, 0), (0, 0), (0, 0)]\n",
            "['O', 'B-drug', 'I-drug', 'I-drug', 'I-drug', 'O', 'O', 'O', 'O', 'O', 'B-drug', 'O', 'B-drug', 'I-drug', 'I-drug', 'I-drug', 'I-drug', 'O', 'B-drug', 'I-drug', 'I-drug', 'I-drug', 'O', 'B-drug', 'I-drug', 'O', 'O', 'B-drug', 'I-drug', 'I-drug', 'I-drug', 'O', 'B-drug', 'I-drug', 'I-drug', 'I-drug', 'O', 'B-drug', 'I-drug', 'I-drug', 'I-drug', 'I-drug', 'O', 'B-drug', 'I-drug', 'I-drug', 'O', 'B-drug', 'I-drug', 'I-drug', 'I-drug', 'I-drug', 'O', 'B-drug', 'I-drug', 'I-drug', 'I-drug', 'O', 'B-drug', 'I-drug', 'I-drug', 'I-drug', 'O', 'B-drug', 'I-drug', 'I-drug', 'O', 'B-drug', 'I-drug', 'I-drug', 'I-drug', 'I-drug', 'O', 'B-drug', 'I-drug', 'I-drug', 'I-drug', 'O', 'B-drug', 'I-drug', 'I-drug', 'I-drug', 'I-drug', 'O', 'B-drug', 'I-drug', 'I-drug', 'O', 'B-drug', 'I-drug', 'I-drug', 'I-drug', 'I-drug', 'O', 'B-drug', 'I-drug', 'I-drug', 'I-drug', 'I-drug', 'O', 'B-drug', 'I-drug', 'I-drug', 'I-drug', 'O', 'B-drug', 'I-drug', 'I-drug', 'I-drug', 'I-drug', 'O', 'B-drug', 'I-drug', 'I-drug', 'I-drug', 'I-drug', 'I-drug', 'O', 'B-drug', 'I-drug', 'I-drug', 'I-drug', 'I-drug', 'I-drug', 'O', 'B-drug', 'I-drug', 'O', 'B-drug', 'I-drug', 'I-drug', 'I-drug', 'I-drug', 'O', 'O', 'B-drug', 'O', 'O', 'B-drug', 'I-drug', 'I-drug', 'I-drug', 'I-drug', 'O', 'B-drug', 'I-drug', 'I-drug', 'O', 'B-drug', 'I-drug', 'I-drug', 'I-drug', 'O', 'B-drug', 'I-drug', 'I-drug', 'O', 'B-drug', 'I-drug', 'I-drug', 'O', 'B-drug', 'I-drug', 'I-drug', 'O', 'B-drug', 'I-drug', 'O', 'B-drug', 'I-drug', 'I-drug', 'I-drug', 'I-drug', 'O', 'B-drug', 'I-drug', 'I-drug', 'O', 'B-drug', 'I-drug', 'I-drug', 'I-drug', 'O', 'B-drug', 'I-drug', 'O', 'B-drug', 'I-drug', 'I-drug', 'I-drug', 'O', 'B-drug', 'I-drug', 'I-drug', 'I-drug', 'I-drug', 'I-drug', 'O', 'B-drug', 'I-drug', 'I-drug', 'I-drug', 'I-drug', 'O', 'B-drug', 'I-drug', 'I-drug', 'O', 'B-drug', 'I-drug', 'I-drug', 'I-drug', 'O', 'B-drug', 'I-drug', 'I-drug', 'I-drug', 'I-drug', 'O', 'B-drug', 'O', 'I-drug', 'I-drug', 'I-drug', 'O', 'B-drug', 'I-drug', 'I-drug', 'I-drug', 'I-drug', 'O', 'B-drug', 'I-drug', 'I-drug', 'I-drug', 'O', 'B-drug', 'I-drug', 'I-drug', 'I-drug', 'I-drug', 'O', 'O', 'B-drug', 'I-drug', 'O', 'O', 'O', 'O', 'O', 'O', 'O', 'O', 'O', 'O', 'O', 'O', 'O', 'O', 'O', 'O', 'O', 'O', 'O', 'O', 'O', 'O', 'O', 'O', 'O', 'O', 'O', 'O', 'O', 'O', 'O', 'O', 'O', 'O', 'O', 'O', 'O', 'O', 'O', 'O', 'O', 'O', 'O', 'O', 'O', 'O', 'O', 'O', 'O', 'O', 'O', 'O', 'O', 'O', 'O', 'O', 'O', 'O', 'O', 'O', 'O', 'O', 'O', 'O', 'O', 'O', 'O', 'O', 'O', 'O', 'O', 'O', 'O', 'O', 'O', 'O', 'O', 'O', 'O', 'O', 'O', 'O', 'O', 'O', 'O', 'O', 'O', 'O', 'O', 'O', 'O', 'O', 'O', 'O', 'O', 'O', 'O', 'O', 'O', 'O', 'O', 'O', 'O', 'O', 'O', 'O', 'O', 'O', 'O', 'O', 'O', 'O', 'O', 'O', 'O', 'O', 'O', 'O', 'O', 'O', 'O', 'O', 'O', 'O', 'O', 'O', 'O', 'O', 'O', 'O', 'O', 'O', 'O', 'O', 'O', 'O', 'O', 'O', 'O', 'O', 'O', 'O', 'O', 'O', 'O', 'O', 'O', 'O', 'O', 'O', 'O', 'O', 'O', 'O', 'O', 'O', 'O', 'O', 'O', 'O', 'O', 'O', 'O', 'O', 'O', 'O', 'O', 'O', 'O', 'O', 'O', 'O', 'O', 'O', 'O', 'O', 'O', 'O', 'O', 'O', 'O', 'O', 'O', 'O', 'O', 'O', 'O', 'O', 'O', 'O', 'O', 'O', 'O', 'O', 'O', 'O', 'O', 'O', 'O', 'O', 'O', 'O', 'O', 'O', 'O', 'O', 'O', 'O', 'O', 'O', 'O', 'O', 'O', 'O', 'O', 'O', 'O', 'O', 'O', 'O', 'O', 'O', 'O', 'O', 'O', 'O', 'O', 'O', 'O', 'O', 'O', 'O', 'O', 'O', 'O', 'O', 'O', 'O', 'O', 'O', 'O', 'O', 'O', 'O', 'O', 'O', 'O', 'O', 'O', 'O', 'O', 'O', 'O', 'O', 'O', 'O', 'O', 'O', 'O', 'O', 'O', 'O', 'O', 'O', 'O', 'O', 'O']\n"
          ]
        }
      ]
    },
    {
      "cell_type": "code",
      "metadata": {
        "colab": {
          "base_uri": "https://localhost:8080/"
        },
        "id": "H0chhlIKsWKH",
        "outputId": "555f7308-9e58-404b-b306-98926fa4f999"
      },
      "source": [
        "print(train_batch_encoding[766])"
      ],
      "execution_count": null,
      "outputs": [
        {
          "output_type": "stream",
          "name": "stdout",
          "text": [
            "Encoding(num_tokens=512, attributes=[ids, type_ids, tokens, offsets, attention_mask, special_tokens_mask, overflowing])\n"
          ]
        }
      ]
    },
    {
      "cell_type": "markdown",
      "metadata": {
        "id": "156pmFO_skD9"
      },
      "source": [
        "##### Treino"
      ]
    },
    {
      "cell_type": "code",
      "metadata": {
        "id": "y_uVsljs_97A"
      },
      "source": [
        "train_dataset = NERDataset(train_batch_example)\n",
        "val_dataset = NERDataset(val_batch_example)"
      ],
      "execution_count": null,
      "outputs": []
    },
    {
      "cell_type": "code",
      "metadata": {
        "id": "lZsRNI2A6hIP",
        "colab": {
          "base_uri": "https://localhost:8080/",
          "referenced_widgets": [
            "417562df6d4d40b785dc86a7d91d4523",
            "0e8950d190d546eaa1c80f4f053549ff",
            "54e2c1a2b9cf4e3a8a95405d001397a8",
            "b87e3c1d7791458cb0e41d34baa0e978",
            "33291d4079d248bea9d8581b41d6bec5",
            "1557c30c20cc462f94a62c899581aedd",
            "2efda02eb1e94f3cbbdd507ef7e57e45",
            "1832f8288bea44d0818633e8903b0e12",
            "3364f3e49b3c45eeb91873627ec41fd6",
            "dd617d64c68f4200b452064c100202e6",
            "ab9ce9821db0422c984b4730afcd5e46"
          ]
        },
        "outputId": "c88b88d5-5da6-4d5b-dbb5-d9d16045abce"
      },
      "source": [
        "model = DistilBertForTokenClassification.from_pretrained(MODEL_BASE, num_labels=len(label_ner))"
      ],
      "execution_count": null,
      "outputs": [
        {
          "output_type": "display_data",
          "data": {
            "application/vnd.jupyter.widget-view+json": {
              "model_id": "417562df6d4d40b785dc86a7d91d4523",
              "version_minor": 0,
              "version_major": 2
            },
            "text/plain": [
              "Downloading:   0%|          | 0.00/263M [00:00<?, ?B/s]"
            ]
          },
          "metadata": {}
        },
        {
          "output_type": "stream",
          "text": [
            "Some weights of the model checkpoint at distilbert-base-cased were not used when initializing DistilBertForTokenClassification: ['vocab_transform.weight', 'vocab_layer_norm.bias', 'vocab_transform.bias', 'vocab_layer_norm.weight', 'vocab_projector.bias', 'vocab_projector.weight']\n",
            "- This IS expected if you are initializing DistilBertForTokenClassification from the checkpoint of a model trained on another task or with another architecture (e.g. initializing a BertForSequenceClassification model from a BertForPreTraining model).\n",
            "- This IS NOT expected if you are initializing DistilBertForTokenClassification from the checkpoint of a model that you expect to be exactly identical (initializing a BertForSequenceClassification model from a BertForSequenceClassification model).\n",
            "Some weights of DistilBertForTokenClassification were not initialized from the model checkpoint at distilbert-base-cased and are newly initialized: ['classifier.weight', 'classifier.bias']\n",
            "You should probably TRAIN this model on a down-stream task to be able to use it for predictions and inference.\n"
          ],
          "name": "stderr"
        }
      ]
    },
    {
      "cell_type": "code",
      "metadata": {
        "id": "G45A-WvG7mt5"
      },
      "source": [
        "training_args = TrainingArguments(\n",
        "    output_dir='./results',          # output directory\n",
        "    num_train_epochs=3,              # total number of training epochs\n",
        "    per_device_train_batch_size=16,  # batch size per device during training\n",
        "    per_device_eval_batch_size=16,   # batch size for evaluation\n",
        "    warmup_steps=500,                # number of warmup steps for learning rate scheduler\n",
        "    weight_decay=0.01,               # strength of weight decay\n",
        "    logging_dir='./logs',            # directory for storing logs\n",
        "    logging_steps=50,\n",
        "    evaluation_strategy='steps',\n",
        "    save_strategy='steps',\n",
        "    load_best_model_at_end=True\n",
        "\n",
        ")"
      ],
      "execution_count": null,
      "outputs": []
    },
    {
      "cell_type": "code",
      "metadata": {
        "id": "7U2d1eYr7yhK"
      },
      "source": [
        "trainer = Trainer(\n",
        "    model=model,                         # the instantiated 🤗 Transformers model to be trained\n",
        "    args=training_args,                  # training arguments, defined above\n",
        "    train_dataset=train_dataset,         # training dataset\n",
        "    eval_dataset=val_dataset             # evaluation dataset\n",
        ")"
      ],
      "execution_count": null,
      "outputs": []
    },
    {
      "cell_type": "code",
      "metadata": {
        "id": "zWUD9Hi0-ZKW",
        "colab": {
          "base_uri": "https://localhost:8080/",
          "height": 1000
        },
        "outputId": "9079f282-0eb6-4436-c74b-e2a1c015eacb"
      },
      "source": [
        "trainer.train()"
      ],
      "execution_count": null,
      "outputs": [
        {
          "output_type": "stream",
          "text": [
            "***** Running training *****\n",
            "  Num examples = 5225\n",
            "  Num Epochs = 3\n",
            "  Instantaneous batch size per device = 16\n",
            "  Total train batch size (w. parallel, distributed & accumulation) = 16\n",
            "  Gradient Accumulation steps = 1\n",
            "  Total optimization steps = 981\n"
          ],
          "name": "stderr"
        },
        {
          "output_type": "display_data",
          "data": {
            "text/html": [
              "\n",
              "    <div>\n",
              "      \n",
              "      <progress value='981' max='981' style='width:300px; height:20px; vertical-align: middle;'></progress>\n",
              "      [981/981 09:35, Epoch 3/3]\n",
              "    </div>\n",
              "    <table border=\"1\" class=\"dataframe\">\n",
              "  <thead>\n",
              "    <tr style=\"text-align: left;\">\n",
              "      <th>Step</th>\n",
              "      <th>Training Loss</th>\n",
              "      <th>Validation Loss</th>\n",
              "    </tr>\n",
              "  </thead>\n",
              "  <tbody>\n",
              "    <tr>\n",
              "      <td>50</td>\n",
              "      <td>1.248600</td>\n",
              "      <td>0.854282</td>\n",
              "    </tr>\n",
              "    <tr>\n",
              "      <td>100</td>\n",
              "      <td>0.471200</td>\n",
              "      <td>0.250659</td>\n",
              "    </tr>\n",
              "    <tr>\n",
              "      <td>150</td>\n",
              "      <td>0.203400</td>\n",
              "      <td>0.188431</td>\n",
              "    </tr>\n",
              "    <tr>\n",
              "      <td>200</td>\n",
              "      <td>0.176100</td>\n",
              "      <td>0.172515</td>\n",
              "    </tr>\n",
              "    <tr>\n",
              "      <td>250</td>\n",
              "      <td>0.155600</td>\n",
              "      <td>0.147593</td>\n",
              "    </tr>\n",
              "    <tr>\n",
              "      <td>300</td>\n",
              "      <td>0.140600</td>\n",
              "      <td>0.136630</td>\n",
              "    </tr>\n",
              "    <tr>\n",
              "      <td>350</td>\n",
              "      <td>0.124800</td>\n",
              "      <td>0.145590</td>\n",
              "    </tr>\n",
              "    <tr>\n",
              "      <td>400</td>\n",
              "      <td>0.116300</td>\n",
              "      <td>0.124872</td>\n",
              "    </tr>\n",
              "    <tr>\n",
              "      <td>450</td>\n",
              "      <td>0.113400</td>\n",
              "      <td>0.126587</td>\n",
              "    </tr>\n",
              "    <tr>\n",
              "      <td>500</td>\n",
              "      <td>0.107400</td>\n",
              "      <td>0.132496</td>\n",
              "    </tr>\n",
              "    <tr>\n",
              "      <td>550</td>\n",
              "      <td>0.119100</td>\n",
              "      <td>0.113892</td>\n",
              "    </tr>\n",
              "    <tr>\n",
              "      <td>600</td>\n",
              "      <td>0.102900</td>\n",
              "      <td>0.104340</td>\n",
              "    </tr>\n",
              "    <tr>\n",
              "      <td>650</td>\n",
              "      <td>0.085000</td>\n",
              "      <td>0.107991</td>\n",
              "    </tr>\n",
              "    <tr>\n",
              "      <td>700</td>\n",
              "      <td>0.062100</td>\n",
              "      <td>0.100114</td>\n",
              "    </tr>\n",
              "    <tr>\n",
              "      <td>750</td>\n",
              "      <td>0.058400</td>\n",
              "      <td>0.106181</td>\n",
              "    </tr>\n",
              "    <tr>\n",
              "      <td>800</td>\n",
              "      <td>0.050100</td>\n",
              "      <td>0.096577</td>\n",
              "    </tr>\n",
              "    <tr>\n",
              "      <td>850</td>\n",
              "      <td>0.047600</td>\n",
              "      <td>0.098750</td>\n",
              "    </tr>\n",
              "    <tr>\n",
              "      <td>900</td>\n",
              "      <td>0.060100</td>\n",
              "      <td>0.091334</td>\n",
              "    </tr>\n",
              "    <tr>\n",
              "      <td>950</td>\n",
              "      <td>0.050600</td>\n",
              "      <td>0.094447</td>\n",
              "    </tr>\n",
              "  </tbody>\n",
              "</table><p>"
            ],
            "text/plain": [
              "<IPython.core.display.HTML object>"
            ]
          },
          "metadata": {}
        },
        {
          "output_type": "stream",
          "text": [
            "***** Running Evaluation *****\n",
            "  Num examples = 581\n",
            "  Batch size = 16\n",
            "Saving model checkpoint to ./results/checkpoint-50\n",
            "Configuration saved in ./results/checkpoint-50/config.json\n",
            "Model weights saved in ./results/checkpoint-50/pytorch_model.bin\n",
            "***** Running Evaluation *****\n",
            "  Num examples = 581\n",
            "  Batch size = 16\n",
            "Saving model checkpoint to ./results/checkpoint-100\n",
            "Configuration saved in ./results/checkpoint-100/config.json\n",
            "Model weights saved in ./results/checkpoint-100/pytorch_model.bin\n",
            "***** Running Evaluation *****\n",
            "  Num examples = 581\n",
            "  Batch size = 16\n",
            "Saving model checkpoint to ./results/checkpoint-150\n",
            "Configuration saved in ./results/checkpoint-150/config.json\n",
            "Model weights saved in ./results/checkpoint-150/pytorch_model.bin\n",
            "***** Running Evaluation *****\n",
            "  Num examples = 581\n",
            "  Batch size = 16\n",
            "Saving model checkpoint to ./results/checkpoint-200\n",
            "Configuration saved in ./results/checkpoint-200/config.json\n",
            "Model weights saved in ./results/checkpoint-200/pytorch_model.bin\n",
            "***** Running Evaluation *****\n",
            "  Num examples = 581\n",
            "  Batch size = 16\n",
            "Saving model checkpoint to ./results/checkpoint-250\n",
            "Configuration saved in ./results/checkpoint-250/config.json\n",
            "Model weights saved in ./results/checkpoint-250/pytorch_model.bin\n",
            "***** Running Evaluation *****\n",
            "  Num examples = 581\n",
            "  Batch size = 16\n",
            "Saving model checkpoint to ./results/checkpoint-300\n",
            "Configuration saved in ./results/checkpoint-300/config.json\n",
            "Model weights saved in ./results/checkpoint-300/pytorch_model.bin\n",
            "***** Running Evaluation *****\n",
            "  Num examples = 581\n",
            "  Batch size = 16\n",
            "Saving model checkpoint to ./results/checkpoint-350\n",
            "Configuration saved in ./results/checkpoint-350/config.json\n",
            "Model weights saved in ./results/checkpoint-350/pytorch_model.bin\n",
            "***** Running Evaluation *****\n",
            "  Num examples = 581\n",
            "  Batch size = 16\n",
            "Saving model checkpoint to ./results/checkpoint-400\n",
            "Configuration saved in ./results/checkpoint-400/config.json\n",
            "Model weights saved in ./results/checkpoint-400/pytorch_model.bin\n",
            "***** Running Evaluation *****\n",
            "  Num examples = 581\n",
            "  Batch size = 16\n",
            "Saving model checkpoint to ./results/checkpoint-450\n",
            "Configuration saved in ./results/checkpoint-450/config.json\n",
            "Model weights saved in ./results/checkpoint-450/pytorch_model.bin\n",
            "***** Running Evaluation *****\n",
            "  Num examples = 581\n",
            "  Batch size = 16\n",
            "Saving model checkpoint to ./results/checkpoint-500\n",
            "Configuration saved in ./results/checkpoint-500/config.json\n",
            "Model weights saved in ./results/checkpoint-500/pytorch_model.bin\n",
            "***** Running Evaluation *****\n",
            "  Num examples = 581\n",
            "  Batch size = 16\n",
            "Saving model checkpoint to ./results/checkpoint-550\n",
            "Configuration saved in ./results/checkpoint-550/config.json\n",
            "Model weights saved in ./results/checkpoint-550/pytorch_model.bin\n",
            "***** Running Evaluation *****\n",
            "  Num examples = 581\n",
            "  Batch size = 16\n",
            "Saving model checkpoint to ./results/checkpoint-600\n",
            "Configuration saved in ./results/checkpoint-600/config.json\n",
            "Model weights saved in ./results/checkpoint-600/pytorch_model.bin\n",
            "***** Running Evaluation *****\n",
            "  Num examples = 581\n",
            "  Batch size = 16\n",
            "Saving model checkpoint to ./results/checkpoint-650\n",
            "Configuration saved in ./results/checkpoint-650/config.json\n",
            "Model weights saved in ./results/checkpoint-650/pytorch_model.bin\n",
            "***** Running Evaluation *****\n",
            "  Num examples = 581\n",
            "  Batch size = 16\n",
            "Saving model checkpoint to ./results/checkpoint-700\n",
            "Configuration saved in ./results/checkpoint-700/config.json\n",
            "Model weights saved in ./results/checkpoint-700/pytorch_model.bin\n",
            "***** Running Evaluation *****\n",
            "  Num examples = 581\n",
            "  Batch size = 16\n",
            "Saving model checkpoint to ./results/checkpoint-750\n",
            "Configuration saved in ./results/checkpoint-750/config.json\n",
            "Model weights saved in ./results/checkpoint-750/pytorch_model.bin\n",
            "***** Running Evaluation *****\n",
            "  Num examples = 581\n",
            "  Batch size = 16\n",
            "Saving model checkpoint to ./results/checkpoint-800\n",
            "Configuration saved in ./results/checkpoint-800/config.json\n",
            "Model weights saved in ./results/checkpoint-800/pytorch_model.bin\n",
            "***** Running Evaluation *****\n",
            "  Num examples = 581\n",
            "  Batch size = 16\n",
            "Saving model checkpoint to ./results/checkpoint-850\n",
            "Configuration saved in ./results/checkpoint-850/config.json\n",
            "Model weights saved in ./results/checkpoint-850/pytorch_model.bin\n",
            "***** Running Evaluation *****\n",
            "  Num examples = 581\n",
            "  Batch size = 16\n",
            "Saving model checkpoint to ./results/checkpoint-900\n",
            "Configuration saved in ./results/checkpoint-900/config.json\n",
            "Model weights saved in ./results/checkpoint-900/pytorch_model.bin\n",
            "***** Running Evaluation *****\n",
            "  Num examples = 581\n",
            "  Batch size = 16\n",
            "Saving model checkpoint to ./results/checkpoint-950\n",
            "Configuration saved in ./results/checkpoint-950/config.json\n",
            "Model weights saved in ./results/checkpoint-950/pytorch_model.bin\n",
            "\n",
            "\n",
            "Training completed. Do not forget to share your model on huggingface.co/models =)\n",
            "\n",
            "\n",
            "Loading best model from ./results/checkpoint-900 (score: 0.09133390337228775).\n"
          ],
          "name": "stderr"
        },
        {
          "output_type": "execute_result",
          "data": {
            "text/plain": [
              "TrainOutput(global_step=981, training_loss=0.1798032482100554, metrics={'train_runtime': 575.6306, 'train_samples_per_second': 27.231, 'train_steps_per_second': 1.704, 'total_flos': 2048061403238400.0, 'train_loss': 0.1798032482100554, 'epoch': 3.0})"
            ]
          },
          "metadata": {},
          "execution_count": 54
        }
      ]
    },
    {
      "cell_type": "code",
      "metadata": {
        "id": "3gxe2EcR-aiX"
      },
      "source": [
        "trainer.save_model(MODEL_TRAINED_PATH)\n",
        "label_ner.save(LABEL_OUTPUT_PATH)\n",
        "# o log é gravado manualmente em arquivo txt. O custo para gravar o loss do treino não era pequeno"
      ],
      "execution_count": null,
      "outputs": []
    },
    {
      "cell_type": "code",
      "metadata": {
        "id": "jamYCevcmWTr",
        "colab": {
          "base_uri": "https://localhost:8080/"
        },
        "outputId": "34d256e7-8d02-4df4-9653-17dd97fde35e"
      },
      "source": [
        "destroy_model(model)\n",
        "print(get_gpu_memory_status())\n",
        "destroy_tokenizer(tokenizer)\n",
        "print(get_gpu_memory_status())"
      ],
      "execution_count": null,
      "outputs": [
        {
          "output_type": "stream",
          "text": [
            "Total: 16280.88 | Reserved: 1072.00 | Allocated: 996.03\n",
            "Total: 16280.88 | Reserved: 1072.00 | Allocated: 996.03\n"
          ],
          "name": "stdout"
        }
      ]
    },
    {
      "cell_type": "code",
      "metadata": {
        "colab": {
          "base_uri": "https://localhost:8080/"
        },
        "id": "-MKKmQYXghb5",
        "outputId": "458a3988-faa6-4569-ee38-fe0308e33dd2"
      },
      "source": [
        "#grafico sobre train e evaluation loss\n",
        "df = pd.read_csv(MODEL_TRAINED_LOG,sep='\\t')\n",
        "df['Epoch'] = round((df.Step * training_args.per_device_train_batch_size) / len(train_dataset), 2)\n",
        "df.tail(10)\n",
        "\n",
        "train_loss = df[['Epoch', 'Training Loss']].to_numpy()\n",
        "validation_loss = df[['Epoch', 'Validation Loss']].to_numpy()\n",
        "\n",
        "plot_grafico_trainer_loss(train_loss, validation_loss)\n"
      ],
      "execution_count": null,
      "outputs": [
        {
          "output_type": "display_data",
          "data": {
            "image/png": "[encoded data removed]",
            "text/plain": [
              "<Figure size 864x432 with 1 Axes>"
            ]
          },
          "metadata": {}
        }
      ]
    },
    {
      "cell_type": "markdown",
      "metadata": {
        "id": "HUptHrg-DvpQ"
      },
      "source": [
        "## 2 - Execução do Modelo para Teste e Métricas (Anotações)"
      ]
    },
    {
      "cell_type": "code",
      "metadata": {
        "id": "cZ1KgMv8FonM",
        "colab": {
          "base_uri": "https://localhost:8080/",
          "height": 145,
          "referenced_widgets": [
            "b4973c0590854ffb95ddbe19c0147a80",
            "cac7f1cafd264eeaa4d04e0329e4d941",
            "9c600c0fcc3549418644a5b63d2db077",
            "e17b3de2eea94e2281211aa8c4dbdf3c",
            "9ca1473738c146a2af602fc6451d4cc6",
            "e47c8c78a51e4df2a9142057cb415b2b",
            "4c53f08f53384e9b9c8cc194b49faddc",
            "5ca25687e548449194a59299d5ecfa68",
            "1787ef54b5b341c5aa5b5d2b1b096687",
            "73288109561c46059ba0414a5ede0672",
            "ab595118e09846bda8d8aa6c35f7eede",
            "d9a2b39d5ff246e4a40ef32c480946c2",
            "7ab3cb1ecf8b42548953cd7a4386d0b4",
            "fd39aa933755417383456edaad7fb7d6",
            "9e0e2d59fd774c4788294542ab4f4883",
            "98f50e3a195e462e8329c23a61750501",
            "1953cb4d48d54c7893791adf5674b90a",
            "a39806eef97f4131a1b9cf4310bda1c7",
            "632cf0c13e4640e3a7ec09cbf300ede0",
            "a0e2e1f0e27b40c4add3064d8558e477",
            "33468aea1c624fbba4471db32517945c",
            "e81e62e4a8a14bec95a334f95823f4a5",
            "0956c70bce3040eaae929c80c77459c7",
            "27526f3f229d4d258d22dbe803d1411e",
            "9ac7b75537f94aeea82a890190979481",
            "e0cf5af076ce410f91420057e086d7dc",
            "1ee2626f84644950b7fc36777ebf75e8",
            "8628689b503f473ba891afecf9ed55f1",
            "35cfad8c28914d369d00278750dd7855",
            "6fb8740470154822ad4b70bfc8b78e9b",
            "7eddc3a2979e4086914210a4a70fb850",
            "5e3c9c65caa043098a09c2dcb0efd598",
            "23842eddf0c141a7956afe64b8f26745",
            "f9d6a399f70a4b0a826f4b65507c258f",
            "45870726815145df8e13765b649cd019",
            "fae616e4a8db476fad63cd7a82f99501",
            "a081b1b91f1f4d0188477a14935e66b0",
            "c7b973ad65b0495095226f49d67332b3",
            "e9a205aab48b43aea98f3e86120426ec",
            "8a5368c3c01e4d20bd75195abb72022e",
            "22c1e46cbe3f4de2a81e7fa337fedaf2",
            "5f2e26ae5308436085c39140e2e641f8",
            "ea38f219a00445d892e962a5eb69c3c7",
            "bc9e006921ef4fe9a194a853d7c47545"
          ]
        },
        "outputId": "23bf46f5-39ae-45e8-fde6-d30734e9396b"
      },
      "source": [
        "model = DistilBertForTokenClassification.from_pretrained(MODEL_TRAINED_PATH)\n",
        "model.to('cuda')\n",
        "\n",
        "tokenizer = DistilBertTokenizerFast.from_pretrained(MODEL_BASE) # Load a pre-trained tokenizer"
      ],
      "execution_count": null,
      "outputs": [
        {
          "output_type": "display_data",
          "data": {
            "application/vnd.jupyter.widget-view+json": {
              "model_id": "b4973c0590854ffb95ddbe19c0147a80",
              "version_minor": 0,
              "version_major": 2
            },
            "text/plain": [
              "Downloading:   0%|          | 0.00/213k [00:00<?, ?B/s]"
            ]
          },
          "metadata": {}
        },
        {
          "output_type": "display_data",
          "data": {
            "application/vnd.jupyter.widget-view+json": {
              "model_id": "d9a2b39d5ff246e4a40ef32c480946c2",
              "version_minor": 0,
              "version_major": 2
            },
            "text/plain": [
              "Downloading:   0%|          | 0.00/436k [00:00<?, ?B/s]"
            ]
          },
          "metadata": {}
        },
        {
          "output_type": "display_data",
          "data": {
            "application/vnd.jupyter.widget-view+json": {
              "model_id": "0956c70bce3040eaae929c80c77459c7",
              "version_minor": 0,
              "version_major": 2
            },
            "text/plain": [
              "Downloading:   0%|          | 0.00/29.0 [00:00<?, ?B/s]"
            ]
          },
          "metadata": {}
        },
        {
          "output_type": "display_data",
          "data": {
            "application/vnd.jupyter.widget-view+json": {
              "model_id": "f9d6a399f70a4b0a826f4b65507c258f",
              "version_minor": 0,
              "version_major": 2
            },
            "text/plain": [
              "Downloading:   0%|          | 0.00/411 [00:00<?, ?B/s]"
            ]
          },
          "metadata": {}
        }
      ]
    },
    {
      "cell_type": "code",
      "metadata": {
        "id": "HuDVPbgP6DzU"
      },
      "source": [
        "label_ner = LabelNER()\n",
        "label_ner.load_from_file(LABEL_OUTPUT_PATH)"
      ],
      "execution_count": null,
      "outputs": []
    },
    {
      "cell_type": "code",
      "metadata": {
        "id": "DdII3bhBDSGR"
      },
      "source": [
        "# carrega o arquivo com o dataset de teste\n",
        "with open(DATASET_DDI_TEST) as json_ds_file:\n",
        "    raw_test = json.load(json_ds_file)\n",
        "    for example in raw_test:\n",
        "        # our simple implementation expects the label to be called label, so we adjust the original data\n",
        "        for anno in example[\"annotations\"]:\n",
        "            anno[\"label\"] = anno[\"tag\"]\n",
        "\n",
        "test_text_list: List[str] = []\n",
        "test_annotations_list: List[List[dict]] = []\n",
        "\n",
        "for example in raw_test:\n",
        "    sentenca = example[\"content\"]\n",
        "    test_text_list.append(sentenca)\n",
        "    test_annotations_list.append(example[\"annotations\"])            "
      ],
      "execution_count": null,
      "outputs": []
    },
    {
      "cell_type": "code",
      "metadata": {
        "id": "8HcFk4VrGZa3"
      },
      "source": [
        "test_batch_encoding:BatchEncoding = tokenizer(test_text_list, \n",
        "                                            max_length=512, \n",
        "                                            padding=\"max_length\", \n",
        "                                            truncation=True,\n",
        "                                            return_tensors= 'pt')\n",
        "test_batch_example:TrainingBatchExample = align_tokens(test_batch_encoding, \n",
        "                                                        test_annotations_list,                  \n",
        "                                                        is_span_annotations=True, \n",
        "                                                        ignore_word_piece=False, \n",
        "                                                        ner_label_format=FORMATO_NER_IOB, \n",
        "                                                        label_ner=label_ner)\n",
        "test_dataset = NERDataset(test_batch_example)"
      ],
      "execution_count": null,
      "outputs": []
    },
    {
      "cell_type": "code",
      "metadata": {
        "id": "BR_prfi7GdFx",
        "colab": {
          "base_uri": "https://localhost:8080/"
        },
        "outputId": "5d8e2dde-e520-4415-9fe1-828d77309a05"
      },
      "source": [
        "print(test_batch_encoding.encodings[1].tokens)\n",
        "print(test_batch_example.labels[2])"
      ],
      "execution_count": null,
      "outputs": [
        {
          "output_type": "stream",
          "name": "stdout",
          "text": [
            "['[CLS]', 'H', '##yper', '##tensive', 'c', '##rises', 'have', 'resulted', 'when', 's', '##ym', '##path', '##omi', '##met', '##ic', 'am', '##ines', 'have', 'been', 'used', 'con', '##com', '##ita', '##ntly', 'within', '##14', 'days', 'following', 'use', 'of', 'mon', '##oam', '##ine', 'o', '##xi', '##das', '##e', 'inhibitor', '##s', '.', '[SEP]', '[PAD]', '[PAD]', '[PAD]', '[PAD]', '[PAD]', '[PAD]', '[PAD]', '[PAD]', '[PAD]', '[PAD]', '[PAD]', '[PAD]', '[PAD]', '[PAD]', '[PAD]', '[PAD]', '[PAD]', '[PAD]', '[PAD]', '[PAD]', '[PAD]', '[PAD]', '[PAD]', '[PAD]', '[PAD]', '[PAD]', '[PAD]', '[PAD]', '[PAD]', '[PAD]', '[PAD]', '[PAD]', '[PAD]', '[PAD]', '[PAD]', '[PAD]', '[PAD]', '[PAD]', '[PAD]', '[PAD]', '[PAD]', '[PAD]', '[PAD]', '[PAD]', '[PAD]', '[PAD]', '[PAD]', '[PAD]', '[PAD]', '[PAD]', '[PAD]', '[PAD]', '[PAD]', '[PAD]', '[PAD]', '[PAD]', '[PAD]', '[PAD]', '[PAD]', '[PAD]', '[PAD]', '[PAD]', '[PAD]', '[PAD]', '[PAD]', '[PAD]', '[PAD]', '[PAD]', '[PAD]', '[PAD]', '[PAD]', '[PAD]', '[PAD]', '[PAD]', '[PAD]', '[PAD]', '[PAD]', '[PAD]', '[PAD]', '[PAD]', '[PAD]', '[PAD]', '[PAD]', '[PAD]', '[PAD]', '[PAD]', '[PAD]', '[PAD]', '[PAD]', '[PAD]', '[PAD]', '[PAD]', '[PAD]', '[PAD]', '[PAD]', '[PAD]', '[PAD]', '[PAD]', '[PAD]', '[PAD]', '[PAD]', '[PAD]', '[PAD]', '[PAD]', '[PAD]', '[PAD]', '[PAD]', '[PAD]', '[PAD]', '[PAD]', '[PAD]', '[PAD]', '[PAD]', '[PAD]', '[PAD]', '[PAD]', '[PAD]', '[PAD]', '[PAD]', '[PAD]', '[PAD]', '[PAD]', '[PAD]', '[PAD]', '[PAD]', '[PAD]', '[PAD]', '[PAD]', '[PAD]', '[PAD]', '[PAD]', '[PAD]', '[PAD]', '[PAD]', '[PAD]', '[PAD]', '[PAD]', '[PAD]', '[PAD]', '[PAD]', '[PAD]', '[PAD]', '[PAD]', '[PAD]', '[PAD]', '[PAD]', '[PAD]', '[PAD]', '[PAD]', '[PAD]', '[PAD]', '[PAD]', '[PAD]', '[PAD]', '[PAD]', '[PAD]', '[PAD]', '[PAD]', '[PAD]', '[PAD]', '[PAD]', '[PAD]', '[PAD]', '[PAD]', '[PAD]', '[PAD]', '[PAD]', '[PAD]', '[PAD]', '[PAD]', '[PAD]', '[PAD]', '[PAD]', '[PAD]', '[PAD]', '[PAD]', '[PAD]', '[PAD]', '[PAD]', '[PAD]', '[PAD]', '[PAD]', '[PAD]', '[PAD]', '[PAD]', '[PAD]', '[PAD]', '[PAD]', '[PAD]', '[PAD]', '[PAD]', '[PAD]', '[PAD]', '[PAD]', '[PAD]', '[PAD]', '[PAD]', '[PAD]', '[PAD]', '[PAD]', '[PAD]', '[PAD]', '[PAD]', '[PAD]', '[PAD]', '[PAD]', '[PAD]', '[PAD]', '[PAD]', '[PAD]', '[PAD]', '[PAD]', '[PAD]', '[PAD]', '[PAD]', '[PAD]', '[PAD]', '[PAD]', '[PAD]', '[PAD]', '[PAD]', '[PAD]', '[PAD]', '[PAD]', '[PAD]', '[PAD]', '[PAD]', '[PAD]', '[PAD]', '[PAD]', '[PAD]', '[PAD]', '[PAD]', '[PAD]', '[PAD]', '[PAD]', '[PAD]', '[PAD]', '[PAD]', '[PAD]', '[PAD]', '[PAD]', '[PAD]', '[PAD]', '[PAD]', '[PAD]', '[PAD]', '[PAD]', '[PAD]', '[PAD]', '[PAD]', '[PAD]', '[PAD]', '[PAD]', '[PAD]', '[PAD]', '[PAD]', '[PAD]', '[PAD]', '[PAD]', '[PAD]', '[PAD]', '[PAD]', '[PAD]', '[PAD]', '[PAD]', '[PAD]', '[PAD]', '[PAD]', '[PAD]', '[PAD]', '[PAD]', '[PAD]', '[PAD]', '[PAD]', '[PAD]', '[PAD]', '[PAD]', '[PAD]', '[PAD]', '[PAD]', '[PAD]', '[PAD]', '[PAD]', '[PAD]', '[PAD]', '[PAD]', '[PAD]', '[PAD]', '[PAD]', '[PAD]', '[PAD]', '[PAD]', '[PAD]', '[PAD]', '[PAD]', '[PAD]', '[PAD]', '[PAD]', '[PAD]', '[PAD]', '[PAD]', '[PAD]', '[PAD]', '[PAD]', '[PAD]', '[PAD]', '[PAD]', '[PAD]', '[PAD]', '[PAD]', '[PAD]', '[PAD]', '[PAD]', '[PAD]', '[PAD]', '[PAD]', '[PAD]', '[PAD]', '[PAD]', '[PAD]', '[PAD]', '[PAD]', '[PAD]', '[PAD]', '[PAD]', '[PAD]', '[PAD]', '[PAD]', '[PAD]', '[PAD]', '[PAD]', '[PAD]', '[PAD]', '[PAD]', '[PAD]', '[PAD]', '[PAD]', '[PAD]', '[PAD]', '[PAD]', '[PAD]', '[PAD]', '[PAD]', '[PAD]', '[PAD]', '[PAD]', '[PAD]', '[PAD]', '[PAD]', '[PAD]', '[PAD]', '[PAD]', '[PAD]', '[PAD]', '[PAD]', '[PAD]', '[PAD]', '[PAD]', '[PAD]', '[PAD]', '[PAD]', '[PAD]', '[PAD]', '[PAD]', '[PAD]', '[PAD]', '[PAD]', '[PAD]', '[PAD]', '[PAD]', '[PAD]', '[PAD]', '[PAD]', '[PAD]', '[PAD]', '[PAD]', '[PAD]', '[PAD]', '[PAD]', '[PAD]', '[PAD]', '[PAD]', '[PAD]', '[PAD]', '[PAD]', '[PAD]', '[PAD]', '[PAD]', '[PAD]', '[PAD]', '[PAD]', '[PAD]', '[PAD]', '[PAD]', '[PAD]', '[PAD]', '[PAD]', '[PAD]', '[PAD]', '[PAD]', '[PAD]', '[PAD]', '[PAD]', '[PAD]', '[PAD]', '[PAD]', '[PAD]', '[PAD]', '[PAD]', '[PAD]', '[PAD]', '[PAD]', '[PAD]', '[PAD]', '[PAD]', '[PAD]', '[PAD]', '[PAD]', '[PAD]', '[PAD]', '[PAD]', '[PAD]', '[PAD]', '[PAD]', '[PAD]', '[PAD]', '[PAD]', '[PAD]', '[PAD]', '[PAD]', '[PAD]', '[PAD]', '[PAD]', '[PAD]', '[PAD]', '[PAD]', '[PAD]', '[PAD]', '[PAD]', '[PAD]', '[PAD]', '[PAD]', '[PAD]', '[PAD]', '[PAD]', '[PAD]', '[PAD]', '[PAD]', '[PAD]', '[PAD]', '[PAD]', '[PAD]', '[PAD]', '[PAD]', '[PAD]', '[PAD]', '[PAD]', '[PAD]', '[PAD]', '[PAD]', '[PAD]', '[PAD]', '[PAD]', '[PAD]', '[PAD]', '[PAD]', '[PAD]', '[PAD]', '[PAD]', '[PAD]']\n",
            "[0, 1, 2, 2, 2, 0, 0, 0, 0, 0, 0, 0, 0, 0, 0, 1, 2, 2, 2, 2, 2, 0, 0, 0, 0, 0, 0, 0, 0, 0, 0, 0, 0, 0, 0, 0, 0, 0, 0, 0, 0, 0, 0, 0, 0, 0, 0, 0, 0, 0, 0, 0, 0, 0, 0, 0, 0, 0, 0, 0, 0, 0, 0, 0, 0, 0, 0, 0, 0, 0, 0, 0, 0, 0, 0, 0, 0, 0, 0, 0, 0, 0, 0, 0, 0, 0, 0, 0, 0, 0, 0, 0, 0, 0, 0, 0, 0, 0, 0, 0, 0, 0, 0, 0, 0, 0, 0, 0, 0, 0, 0, 0, 0, 0, 0, 0, 0, 0, 0, 0, 0, 0, 0, 0, 0, 0, 0, 0, 0, 0, 0, 0, 0, 0, 0, 0, 0, 0, 0, 0, 0, 0, 0, 0, 0, 0, 0, 0, 0, 0, 0, 0, 0, 0, 0, 0, 0, 0, 0, 0, 0, 0, 0, 0, 0, 0, 0, 0, 0, 0, 0, 0, 0, 0, 0, 0, 0, 0, 0, 0, 0, 0, 0, 0, 0, 0, 0, 0, 0, 0, 0, 0, 0, 0, 0, 0, 0, 0, 0, 0, 0, 0, 0, 0, 0, 0, 0, 0, 0, 0, 0, 0, 0, 0, 0, 0, 0, 0, 0, 0, 0, 0, 0, 0, 0, 0, 0, 0, 0, 0, 0, 0, 0, 0, 0, 0, 0, 0, 0, 0, 0, 0, 0, 0, 0, 0, 0, 0, 0, 0, 0, 0, 0, 0, 0, 0, 0, 0, 0, 0, 0, 0, 0, 0, 0, 0, 0, 0, 0, 0, 0, 0, 0, 0, 0, 0, 0, 0, 0, 0, 0, 0, 0, 0, 0, 0, 0, 0, 0, 0, 0, 0, 0, 0, 0, 0, 0, 0, 0, 0, 0, 0, 0, 0, 0, 0, 0, 0, 0, 0, 0, 0, 0, 0, 0, 0, 0, 0, 0, 0, 0, 0, 0, 0, 0, 0, 0, 0, 0, 0, 0, 0, 0, 0, 0, 0, 0, 0, 0, 0, 0, 0, 0, 0, 0, 0, 0, 0, 0, 0, 0, 0, 0, 0, 0, 0, 0, 0, 0, 0, 0, 0, 0, 0, 0, 0, 0, 0, 0, 0, 0, 0, 0, 0, 0, 0, 0, 0, 0, 0, 0, 0, 0, 0, 0, 0, 0, 0, 0, 0, 0, 0, 0, 0, 0, 0, 0, 0, 0, 0, 0, 0, 0, 0, 0, 0, 0, 0, 0, 0, 0, 0, 0, 0, 0, 0, 0, 0, 0, 0, 0, 0, 0, 0, 0, 0, 0, 0, 0, 0, 0, 0, 0, 0, 0, 0, 0, 0, 0, 0, 0, 0, 0, 0, 0, 0, 0, 0, 0, 0, 0, 0, 0, 0, 0, 0, 0, 0, 0, 0, 0, 0, 0, 0, 0, 0, 0, 0, 0, 0, 0, 0, 0, 0, 0, 0, 0, 0, 0, 0, 0, 0, 0, 0, 0, 0, 0, 0, 0, 0, 0, 0, 0, 0, 0, 0, 0, 0, 0, 0, 0, 0, 0, 0, 0, 0, 0, 0, 0, 0, 0, 0]\n"
          ]
        }
      ]
    },
    {
      "cell_type": "code",
      "metadata": {
        "id": "cTiOQdMJF_1s"
      },
      "source": [
        "# Dataloader para separar o processamento em batchs, não será possível executar a predição em todo dataset de teste de uma vez só\n",
        "loader = torch.utils.data.DataLoader(test_dataset, batch_size=16, shuffle=False)"
      ],
      "execution_count": null,
      "outputs": []
    },
    {
      "cell_type": "code",
      "metadata": {
        "id": "zpYZGeYhHMHi",
        "colab": {
          "base_uri": "https://localhost:8080/"
        },
        "outputId": "ea618b36-576f-4536-a4bc-59108b48889f"
      },
      "source": [
        "loop = tqdm(loader, leave=True)\n",
        "final_output_loss = []\n",
        "final_output_logits = []\n",
        "\n",
        "for it, batch in enumerate(loop):\n",
        "\n",
        "    input_ids = batch['input_ids'].to('cuda')\n",
        "    attention_mask = batch['attention_mask'].to('cuda')\n",
        "    labels = batch['labels'].to('cuda')\n",
        "\n",
        "    outputs = model(input_ids=input_ids, \n",
        "                    attention_mask=attention_mask, \n",
        "                    labels=labels)\n",
        "    \n",
        "    final_output_loss.append(outputs.loss.detach().to('cpu').numpy())\n",
        "    final_output_logits.append(outputs.logits.detach().to('cpu').numpy())\n"
      ],
      "execution_count": null,
      "outputs": [
        {
          "output_type": "stream",
          "name": "stderr",
          "text": [
            "  0%|          | 0/97 [00:00<?, ?it/s]/usr/local/lib/python3.7/dist-packages/ipykernel_launcher.py:19: UserWarning: To copy construct from a tensor, it is recommended to use sourceTensor.clone().detach() or sourceTensor.clone().detach().requires_grad_(True), rather than torch.tensor(sourceTensor).\n",
            "100%|██████████| 97/97 [00:23<00:00,  4.17it/s]\n"
          ]
        }
      ]
    },
    {
      "cell_type": "code",
      "metadata": {
        "colab": {
          "base_uri": "https://localhost:8080/"
        },
        "id": "RgeRgidqX0Uv",
        "outputId": "be072f29-8025-44bf-b549-420df453011b"
      },
      "source": [
        "print (len(final_output_logits))\n",
        "print (final_output_logits[0].shape)"
      ],
      "execution_count": null,
      "outputs": [
        {
          "output_type": "stream",
          "name": "stdout",
          "text": [
            "97\n",
            "(16, 512, 4)\n"
          ]
        }
      ]
    },
    {
      "cell_type": "code",
      "metadata": {
        "id": "j38wd7L4Vda6"
      },
      "source": [
        "test_preds = np.vstack(final_output_logits)\n",
        "test_preds = np.argmax(test_preds, axis=-1)\n",
        "test_preds = prepara_NER_prediction_for_metrics(tokenizer=tokenizer, \n",
        "                                                batch_encoding=test_dataset.encodings,\n",
        "                                                test_labels=test_dataset.labels, \n",
        "                                                pred_labels=test_preds,\n",
        "                                                ignorar_wordpiece=False)"
      ],
      "execution_count": null,
      "outputs": []
    },
    {
      "cell_type": "code",
      "metadata": {
        "id": "9lRLxocBE12L",
        "colab": {
          "base_uri": "https://localhost:8080/"
        },
        "outputId": "d9435745-8688-4db1-a0d2-ae832665465a"
      },
      "source": [
        "y_true = np.array(test_dataset.labels).ravel()\n",
        "y_pred = test_preds.ravel()\n",
        "\n",
        "\n",
        "score = f1_score(y_true=y_true, y_pred=y_pred, average='weighted')\n",
        "print('Weighted - ', score)\n",
        "score = f1_score(y_true=y_true, y_pred=y_pred, average='micro')\n",
        "print('Micro - ', score)\n",
        "score = f1_score(y_true=y_true, y_pred=y_pred, average='macro')\n",
        "print('Macro - ', score)"
      ],
      "execution_count": null,
      "outputs": [
        {
          "output_type": "stream",
          "name": "stdout",
          "text": [
            "Weighted -  0.9991854361366738\n",
            "Micro -  0.9991852461013645\n",
            "Macro -  0.9854489117390001\n"
          ]
        }
      ]
    },
    {
      "cell_type": "code",
      "metadata": {
        "colab": {
          "base_uri": "https://localhost:8080/"
        },
        "id": "-QDeQL-TVQ4g",
        "outputId": "85932d04-88db-4cbd-f7ed-4ff598eec359"
      },
      "source": [
        "y_true = np.array([[0,2], [1, 2], [0, 1], [2,4]])\n",
        "y_pred = np.array([[0,2], [1, 2], [0, 3], [2,4]])\n",
        "\n",
        "y_true = y_true.ravel()\n",
        "y_pred = y_pred.ravel()\n",
        "\n",
        "print (y_true)\n",
        "print (y_pred)\n",
        "\n",
        "f1_score(y_true, y_pred, average='macro')"
      ],
      "execution_count": null,
      "outputs": [
        {
          "output_type": "stream",
          "name": "stdout",
          "text": [
            "[0 2 1 2 0 1 2 4]\n",
            "[0 2 1 2 0 3 2 4]\n"
          ]
        },
        {
          "output_type": "execute_result",
          "data": {
            "text/plain": [
              "0.7333333333333333"
            ]
          },
          "metadata": {},
          "execution_count": 81
        }
      ]
    },
    {
      "cell_type": "code",
      "metadata": {
        "id": "JceWtM4daPwC"
      },
      "source": [
        "y_true = np.array(test_dataset.labels).ravel()"
      ],
      "execution_count": null,
      "outputs": []
    },
    {
      "cell_type": "code",
      "metadata": {
        "colab": {
          "base_uri": "https://localhost:8080/"
        },
        "id": "lLZRSlFzeTUd",
        "outputId": "45606272-c75e-4092-e242-de7782212a6e"
      },
      "source": [
        "print(score)"
      ],
      "execution_count": null,
      "outputs": [
        {
          "output_type": "stream",
          "name": "stdout",
          "text": [
            "0.9854489117390001\n"
          ]
        }
      ]
    },
    {
      "cell_type": "code",
      "metadata": {
        "colab": {
          "base_uri": "https://localhost:8080/"
        },
        "id": "_60DvBPdeaPW",
        "outputId": "db606b5f-09a6-40d5-a70f-00d31751e915"
      },
      "source": [
        "type(test_preds)"
      ],
      "execution_count": null,
      "outputs": [
        {
          "output_type": "execute_result",
          "data": {
            "text/plain": [
              "numpy.ndarray"
            ]
          },
          "metadata": {},
          "execution_count": 88
        }
      ]
    },
    {
      "cell_type": "code",
      "metadata": {
        "id": "aA-W8E4ae3Wy"
      },
      "source": [
        ""
      ],
      "execution_count": null,
      "outputs": []
    },
    {
      "cell_type": "markdown",
      "metadata": {
        "id": "Y9nT3qfMGv5E"
      },
      "source": [
        ""
      ]
    },
    {
      "cell_type": "markdown",
      "metadata": {
        "id": "pl9ZrAhUG0pj"
      },
      "source": [
        "## 3 - Treinamento com Dataset Tokens/Label"
      ]
    },
    {
      "cell_type": "code",
      "metadata": {
        "id": "ATRuDzs0G19Y"
      },
      "source": [
        "def read_wnut(file_path):\n",
        "    file_path = Path(file_path)\n",
        "\n",
        "    raw_text = file_path.read_text().strip()\n",
        "    raw_docs = re.split(r'\\n\\t?\\n', raw_text)\n",
        "    token_docs = []\n",
        "    tag_docs = []\n",
        "    for doc in raw_docs:\n",
        "        tokens = []\n",
        "        tags = []\n",
        "        for line in doc.split('\\n'):\n",
        "            token, tag = line.split('\\t')\n",
        "            tokens.append(token)\n",
        "            tags.append(tag)\n",
        "        token_docs.append(tokens)\n",
        "        tag_docs.append(tags)\n",
        "\n",
        "    return token_docs, tag_docs\n",
        "\n",
        "texts, tags = read_wnut(DATASET_WNUT)"
      ],
      "execution_count": null,
      "outputs": []
    },
    {
      "cell_type": "code",
      "metadata": {
        "id": "M__BhwTAMJBc"
      },
      "source": [
        "train_text_wnut, val_text_wnut, train_tags_wnut, val_tags_wnut = train_test_split(texts, tags, test_size=.2, random_state=42)"
      ],
      "execution_count": null,
      "outputs": []
    },
    {
      "cell_type": "code",
      "metadata": {
        "id": "CPMCcdoSMJpM"
      },
      "source": [
        "label_set_wnut = set(np.concatenate([np.array(i) for i in tags]))\n",
        "label_list_wnut = list(label_set_wnut)\n",
        "# instancia e carrega os valores para a classe que vai gerenciar os labels e seus id`s\n",
        "label_ner_wnut: LabelNER = LabelNER() \n",
        "label_ner_wnut.load_from_complete_list(label_list_wnut)"
      ],
      "execution_count": null,
      "outputs": []
    },
    {
      "cell_type": "code",
      "metadata": {
        "id": "we3caSW0nCHP",
        "colab": {
          "base_uri": "https://localhost:8080/",
          "height": 145,
          "referenced_widgets": [
            "6f2fdcd315d540e69b54d5edd4bc51ef",
            "6decdfda8a6f46aeb3a28e408f45ec58",
            "bec55b33193a4d088747f140386ae595",
            "b6ee590ebd27419bbe04760be230394e",
            "4040439b2b464844bd2276bfc6a63f26",
            "47136a612f67474399248d908a2032c5",
            "b1d1b0ed98be4fe1b1d23546bd1fbfc9",
            "d3091fb438ea4867ad1315df09c875de",
            "ebd2fd6b57e8463db3b98cd3490602f7",
            "66e98ac1bf9e428fbd07c30688445537",
            "b6544892c29b4fa7ad41ae0e15c25320",
            "fd41e516282d4f6985ea2fb0a1480d25",
            "556629c4b26c4e5a9c92eda680f08c49",
            "6c27becc73f4446caec4c46f2eac0ce0",
            "9d9801d103824a5fb933a71cf25c6859",
            "80796e35d9fc4a2e9d352825b399c346",
            "a89df264c6ed4741be9bcdf760fa2577",
            "65a60876a70c411790c0c1f940a8a79d",
            "841c8e9a38f042b0b6e931dbaf16eff2",
            "cfff52f259664664aab655c9bba21635",
            "9bfc3dbc07ed42cbae36973a3ce885a4",
            "f8116a00899d4674899a62c4f66818ac",
            "64108c389d66425aa3309c59e0d58f32",
            "9e304f93daf84f7fa65ebb5317e10bdc",
            "529974502ea9457698c93220ea0da076",
            "c37189dc81844675ab9f72aa5220e075",
            "585bcd3b21854e0a8c91087294e6d295",
            "e4f17c52c1324bd6ad101dece5ba2be2",
            "173dd83076ff46f58928f4405f10a4f3",
            "600dce384da8426d9f7246ffa4aeaed3",
            "2333e9fe1f254e75befcd188b9c82efc",
            "f95595cc2e2b423c9b7d2db291f048bd",
            "9a1aacd1eba84d2dbabfeaa334680245",
            "831d4aa5d48946da8b60a20ce2afaa3e",
            "f8b73f83774a464891d4b2b091c60546",
            "e25b1e24e89545f0894bb7cd1dcaed15",
            "d4f5683042784c4f91d64511c1db9652",
            "ef11f6ad127f442cbb56a61122c53db0",
            "de33709853e54866b50baed32fd4784f",
            "c8c2f46ca1c94af68525b4a629fceaf0",
            "31bc731da93543b9aaf3055979277e28",
            "f60d9acb7580499e91a14ffafb08fe04",
            "dd66820e0534409782426c4dc6735273",
            "d63cc832908b45a897308f858e700a00"
          ]
        },
        "outputId": "4d4dc7aa-bd57-4fad-dfa0-2a2866ddb68a"
      },
      "source": [
        "tokenizer_wnut = DistilBertTokenizerFast.from_pretrained(MODEL_BASE) # Load a pre-trained tokenizer\n",
        "tokenized_batch : BatchEncoding = None"
      ],
      "execution_count": null,
      "outputs": [
        {
          "output_type": "display_data",
          "data": {
            "application/vnd.jupyter.widget-view+json": {
              "model_id": "6f2fdcd315d540e69b54d5edd4bc51ef",
              "version_minor": 0,
              "version_major": 2
            },
            "text/plain": [
              "Downloading:   0%|          | 0.00/213k [00:00<?, ?B/s]"
            ]
          },
          "metadata": {}
        },
        {
          "output_type": "display_data",
          "data": {
            "application/vnd.jupyter.widget-view+json": {
              "model_id": "fd41e516282d4f6985ea2fb0a1480d25",
              "version_minor": 0,
              "version_major": 2
            },
            "text/plain": [
              "Downloading:   0%|          | 0.00/436k [00:00<?, ?B/s]"
            ]
          },
          "metadata": {}
        },
        {
          "output_type": "display_data",
          "data": {
            "application/vnd.jupyter.widget-view+json": {
              "model_id": "64108c389d66425aa3309c59e0d58f32",
              "version_minor": 0,
              "version_major": 2
            },
            "text/plain": [
              "Downloading:   0%|          | 0.00/29.0 [00:00<?, ?B/s]"
            ]
          },
          "metadata": {}
        },
        {
          "output_type": "display_data",
          "data": {
            "application/vnd.jupyter.widget-view+json": {
              "model_id": "831d4aa5d48946da8b60a20ce2afaa3e",
              "version_minor": 0,
              "version_major": 2
            },
            "text/plain": [
              "Downloading:   0%|          | 0.00/411 [00:00<?, ?B/s]"
            ]
          },
          "metadata": {}
        }
      ]
    },
    {
      "cell_type": "code",
      "metadata": {
        "id": "AbS5qpzInGDy"
      },
      "source": [
        "train_batch_encoding_wnut = tokenizer_wnut(train_text_wnut, is_split_into_words=True, max_length=512, padding=\"max_length\", truncation=True)\n",
        "val_batch_encoding_wnut = tokenizer_wnut(val_text_wnut, is_split_into_words=True, max_length=512, padding=\"max_length\", truncation=True)"
      ],
      "execution_count": null,
      "outputs": []
    },
    {
      "cell_type": "code",
      "metadata": {
        "id": "PsbNNX4tnJXb"
      },
      "source": [
        "train_batch_wnut: TrainingBatchExample = align_tokens(train_batch_encoding_wnut, \n",
        "                                                        train_tags_wnut,                  \n",
        "                                                        is_span_annotations=False, \n",
        "                                                        ignore_word_piece=False, \n",
        "                                                        ner_label_format=FORMATO_NER_IOB, \n",
        "                                                        label_ner=label_ner_wnut)\n",
        "\n",
        "val_batch_wnut: TrainingBatchExample = align_tokens(val_batch_encoding_wnut, \n",
        "                                                    val_tags_wnut,\n",
        "                                                    is_span_annotations=False, \n",
        "                                                    ignore_word_piece=False, \n",
        "                                                    ner_label_format=FORMATO_NER_IOB, \n",
        "                                                    label_ner=label_ner_wnut)"
      ],
      "execution_count": null,
      "outputs": []
    },
    {
      "cell_type": "code",
      "metadata": {
        "colab": {
          "base_uri": "https://localhost:8080/"
        },
        "id": "D8oDpumzwQ_Q",
        "outputId": "946911cf-09de-49cf-fee4-529ee71f9a60"
      },
      "source": [
        "ind = ind+1\n",
        "print (train_text_wnut[ind])\n",
        "print (train_batch_encoding_wnut[ind].tokens)\n",
        "print (train_batch_encoding_wnut[ind].offsets)\n",
        "print(label_ner_wnut.convert_id_list_to_label_list(train_batch_wnut.labels[ind]))"
      ],
      "execution_count": null,
      "outputs": [
        {
          "output_type": "stream",
          "name": "stdout",
          "text": [
            "['H.E', 'Museveni', 'says', 'we', 'should', 'not', 'plan', 'politics', 'but', 'continue', 'doing', 'our', 'usual', 'activities', '.', 'He', 'wants', 'to', 'adress', 'issues', 'of', 'today', 'not', \"tomorrow's.\"]\n",
            "['[CLS]', 'H', '.', 'E', 'Muse', '##ven', '##i', 'says', 'we', 'should', 'not', 'plan', 'politics', 'but', 'continue', 'doing', 'our', 'usual', 'activities', '.', 'He', 'wants', 'to', 'ad', '##ress', 'issues', 'of', 'today', 'not', 'tomorrow', \"'\", 's', '.', '[SEP]', '[PAD]', '[PAD]', '[PAD]', '[PAD]', '[PAD]', '[PAD]', '[PAD]', '[PAD]', '[PAD]', '[PAD]', '[PAD]', '[PAD]', '[PAD]', '[PAD]', '[PAD]', '[PAD]', '[PAD]', '[PAD]', '[PAD]', '[PAD]', '[PAD]', '[PAD]', '[PAD]', '[PAD]', '[PAD]', '[PAD]', '[PAD]', '[PAD]', '[PAD]', '[PAD]', '[PAD]', '[PAD]', '[PAD]', '[PAD]', '[PAD]', '[PAD]', '[PAD]', '[PAD]', '[PAD]', '[PAD]', '[PAD]', '[PAD]', '[PAD]', '[PAD]', '[PAD]', '[PAD]', '[PAD]', '[PAD]', '[PAD]', '[PAD]', '[PAD]', '[PAD]', '[PAD]', '[PAD]', '[PAD]', '[PAD]', '[PAD]', '[PAD]', '[PAD]', '[PAD]', '[PAD]', '[PAD]', '[PAD]', '[PAD]', '[PAD]', '[PAD]', '[PAD]', '[PAD]', '[PAD]', '[PAD]', '[PAD]', '[PAD]', '[PAD]', '[PAD]', '[PAD]', '[PAD]', '[PAD]', '[PAD]', '[PAD]', '[PAD]', '[PAD]', '[PAD]', '[PAD]', '[PAD]', '[PAD]', '[PAD]', '[PAD]', '[PAD]', '[PAD]', '[PAD]', '[PAD]', '[PAD]', '[PAD]', '[PAD]', '[PAD]', '[PAD]', '[PAD]', '[PAD]', '[PAD]', '[PAD]', '[PAD]', '[PAD]', '[PAD]', '[PAD]', '[PAD]', '[PAD]', '[PAD]', '[PAD]', '[PAD]', '[PAD]', '[PAD]', '[PAD]', '[PAD]', '[PAD]', '[PAD]', '[PAD]', '[PAD]', '[PAD]', '[PAD]', '[PAD]', '[PAD]', '[PAD]', '[PAD]', '[PAD]', '[PAD]', '[PAD]', '[PAD]', '[PAD]', '[PAD]', '[PAD]', '[PAD]', '[PAD]', '[PAD]', '[PAD]', '[PAD]', '[PAD]', '[PAD]', '[PAD]', '[PAD]', '[PAD]', '[PAD]', '[PAD]', '[PAD]', '[PAD]', '[PAD]', '[PAD]', '[PAD]', '[PAD]', '[PAD]', '[PAD]', '[PAD]', '[PAD]', '[PAD]', '[PAD]', '[PAD]', '[PAD]', '[PAD]', '[PAD]', '[PAD]', '[PAD]', '[PAD]', '[PAD]', '[PAD]', '[PAD]', '[PAD]', '[PAD]', '[PAD]', '[PAD]', '[PAD]', '[PAD]', '[PAD]', '[PAD]', '[PAD]', '[PAD]', '[PAD]', '[PAD]', '[PAD]', '[PAD]', '[PAD]', '[PAD]', '[PAD]', '[PAD]', '[PAD]', '[PAD]', '[PAD]', '[PAD]', '[PAD]', '[PAD]', '[PAD]', '[PAD]', '[PAD]', '[PAD]', '[PAD]', '[PAD]', '[PAD]', '[PAD]', '[PAD]', '[PAD]', '[PAD]', '[PAD]', '[PAD]', '[PAD]', '[PAD]', '[PAD]', '[PAD]', '[PAD]', '[PAD]', '[PAD]', '[PAD]', '[PAD]', '[PAD]', '[PAD]', '[PAD]', '[PAD]', '[PAD]', '[PAD]', '[PAD]', '[PAD]', '[PAD]', '[PAD]', '[PAD]', '[PAD]', '[PAD]', '[PAD]', '[PAD]', '[PAD]', '[PAD]', '[PAD]', '[PAD]', '[PAD]', '[PAD]', '[PAD]', '[PAD]', '[PAD]', '[PAD]', '[PAD]', '[PAD]', '[PAD]', '[PAD]', '[PAD]', '[PAD]', '[PAD]', '[PAD]', '[PAD]', '[PAD]', '[PAD]', '[PAD]', '[PAD]', '[PAD]', '[PAD]', '[PAD]', '[PAD]', '[PAD]', '[PAD]', '[PAD]', '[PAD]', '[PAD]', '[PAD]', '[PAD]', '[PAD]', '[PAD]', '[PAD]', '[PAD]', '[PAD]', '[PAD]', '[PAD]', '[PAD]', '[PAD]', '[PAD]', '[PAD]', '[PAD]', '[PAD]', '[PAD]', '[PAD]', '[PAD]', '[PAD]', '[PAD]', '[PAD]', '[PAD]', '[PAD]', '[PAD]', '[PAD]', '[PAD]', '[PAD]', '[PAD]', '[PAD]', '[PAD]', '[PAD]', '[PAD]', '[PAD]', '[PAD]', '[PAD]', '[PAD]', '[PAD]', '[PAD]', '[PAD]', '[PAD]', '[PAD]', '[PAD]', '[PAD]', '[PAD]', '[PAD]', '[PAD]', '[PAD]', '[PAD]', '[PAD]', '[PAD]', '[PAD]', '[PAD]', '[PAD]', '[PAD]', '[PAD]', '[PAD]', '[PAD]', '[PAD]', '[PAD]', '[PAD]', '[PAD]', '[PAD]', '[PAD]', '[PAD]', '[PAD]', '[PAD]', '[PAD]', '[PAD]', '[PAD]', '[PAD]', '[PAD]', '[PAD]', '[PAD]', '[PAD]', '[PAD]', '[PAD]', '[PAD]', '[PAD]', '[PAD]', '[PAD]', '[PAD]', '[PAD]', '[PAD]', '[PAD]', '[PAD]', '[PAD]', '[PAD]', '[PAD]', '[PAD]', '[PAD]', '[PAD]', '[PAD]', '[PAD]', '[PAD]', '[PAD]', '[PAD]', '[PAD]', '[PAD]', '[PAD]', '[PAD]', '[PAD]', '[PAD]', '[PAD]', '[PAD]', '[PAD]', '[PAD]', '[PAD]', '[PAD]', '[PAD]', '[PAD]', '[PAD]', '[PAD]', '[PAD]', '[PAD]', '[PAD]', '[PAD]', '[PAD]', '[PAD]', '[PAD]', '[PAD]', '[PAD]', '[PAD]', '[PAD]', '[PAD]', '[PAD]', '[PAD]', '[PAD]', '[PAD]', '[PAD]', '[PAD]', '[PAD]', '[PAD]', '[PAD]', '[PAD]', '[PAD]', '[PAD]', '[PAD]', '[PAD]', '[PAD]', '[PAD]', '[PAD]', '[PAD]', '[PAD]', '[PAD]', '[PAD]', '[PAD]', '[PAD]', '[PAD]', '[PAD]', '[PAD]', '[PAD]', '[PAD]', '[PAD]', '[PAD]', '[PAD]', '[PAD]', '[PAD]', '[PAD]', '[PAD]', '[PAD]', '[PAD]', '[PAD]', '[PAD]', '[PAD]', '[PAD]', '[PAD]', '[PAD]', '[PAD]', '[PAD]', '[PAD]', '[PAD]', '[PAD]', '[PAD]', '[PAD]', '[PAD]', '[PAD]', '[PAD]', '[PAD]', '[PAD]', '[PAD]', '[PAD]', '[PAD]', '[PAD]', '[PAD]', '[PAD]', '[PAD]', '[PAD]', '[PAD]', '[PAD]', '[PAD]', '[PAD]', '[PAD]', '[PAD]', '[PAD]', '[PAD]', '[PAD]', '[PAD]', '[PAD]', '[PAD]', '[PAD]', '[PAD]', '[PAD]', '[PAD]', '[PAD]', '[PAD]', '[PAD]', '[PAD]', '[PAD]', '[PAD]', '[PAD]', '[PAD]', '[PAD]', '[PAD]', '[PAD]', '[PAD]', '[PAD]', '[PAD]', '[PAD]', '[PAD]', '[PAD]', '[PAD]']\n",
            "[(0, 0), (0, 1), (1, 2), (2, 3), (0, 4), (4, 7), (7, 8), (0, 4), (0, 2), (0, 6), (0, 3), (0, 4), (0, 8), (0, 3), (0, 8), (0, 5), (0, 3), (0, 5), (0, 10), (0, 1), (0, 2), (0, 5), (0, 2), (0, 2), (2, 6), (0, 6), (0, 2), (0, 5), (0, 3), (0, 8), (8, 9), (9, 10), (10, 11), (0, 0), (0, 0), (0, 0), (0, 0), (0, 0), (0, 0), (0, 0), (0, 0), (0, 0), (0, 0), (0, 0), (0, 0), (0, 0), (0, 0), (0, 0), (0, 0), (0, 0), (0, 0), (0, 0), (0, 0), (0, 0), (0, 0), (0, 0), (0, 0), (0, 0), (0, 0), (0, 0), (0, 0), (0, 0), (0, 0), (0, 0), (0, 0), (0, 0), (0, 0), (0, 0), (0, 0), (0, 0), (0, 0), (0, 0), (0, 0), (0, 0), (0, 0), (0, 0), (0, 0), (0, 0), (0, 0), (0, 0), (0, 0), (0, 0), (0, 0), (0, 0), (0, 0), (0, 0), (0, 0), (0, 0), (0, 0), (0, 0), (0, 0), (0, 0), (0, 0), (0, 0), (0, 0), (0, 0), (0, 0), (0, 0), (0, 0), (0, 0), (0, 0), (0, 0), (0, 0), (0, 0), (0, 0), (0, 0), (0, 0), (0, 0), (0, 0), (0, 0), (0, 0), (0, 0), (0, 0), (0, 0), (0, 0), (0, 0), (0, 0), (0, 0), (0, 0), (0, 0), (0, 0), (0, 0), (0, 0), (0, 0), (0, 0), (0, 0), (0, 0), (0, 0), (0, 0), (0, 0), (0, 0), (0, 0), (0, 0), (0, 0), (0, 0), (0, 0), (0, 0), (0, 0), (0, 0), (0, 0), (0, 0), (0, 0), (0, 0), (0, 0), (0, 0), (0, 0), (0, 0), (0, 0), (0, 0), (0, 0), (0, 0), (0, 0), (0, 0), (0, 0), (0, 0), (0, 0), (0, 0), (0, 0), (0, 0), (0, 0), (0, 0), (0, 0), (0, 0), (0, 0), (0, 0), (0, 0), (0, 0), (0, 0), (0, 0), (0, 0), (0, 0), (0, 0), (0, 0), (0, 0), (0, 0), (0, 0), (0, 0), (0, 0), (0, 0), (0, 0), (0, 0), (0, 0), (0, 0), (0, 0), (0, 0), (0, 0), (0, 0), (0, 0), (0, 0), (0, 0), (0, 0), (0, 0), (0, 0), (0, 0), (0, 0), (0, 0), (0, 0), (0, 0), (0, 0), (0, 0), (0, 0), (0, 0), (0, 0), (0, 0), (0, 0), (0, 0), (0, 0), (0, 0), (0, 0), (0, 0), (0, 0), (0, 0), (0, 0), (0, 0), (0, 0), (0, 0), (0, 0), (0, 0), (0, 0), (0, 0), (0, 0), (0, 0), (0, 0), (0, 0), (0, 0), (0, 0), (0, 0), (0, 0), (0, 0), (0, 0), (0, 0), (0, 0), (0, 0), (0, 0), (0, 0), (0, 0), (0, 0), (0, 0), (0, 0), (0, 0), (0, 0), (0, 0), (0, 0), (0, 0), (0, 0), (0, 0), (0, 0), (0, 0), (0, 0), (0, 0), (0, 0), (0, 0), (0, 0), (0, 0), (0, 0), (0, 0), (0, 0), (0, 0), (0, 0), (0, 0), (0, 0), (0, 0), (0, 0), (0, 0), (0, 0), (0, 0), (0, 0), (0, 0), (0, 0), (0, 0), (0, 0), (0, 0), (0, 0), (0, 0), (0, 0), (0, 0), (0, 0), (0, 0), (0, 0), (0, 0), (0, 0), (0, 0), (0, 0), (0, 0), (0, 0), (0, 0), (0, 0), (0, 0), (0, 0), (0, 0), (0, 0), (0, 0), (0, 0), (0, 0), (0, 0), (0, 0), (0, 0), (0, 0), (0, 0), (0, 0), (0, 0), (0, 0), (0, 0), (0, 0), (0, 0), (0, 0), (0, 0), (0, 0), (0, 0), (0, 0), (0, 0), (0, 0), (0, 0), (0, 0), (0, 0), (0, 0), (0, 0), (0, 0), (0, 0), (0, 0), (0, 0), (0, 0), (0, 0), (0, 0), (0, 0), (0, 0), (0, 0), (0, 0), (0, 0), (0, 0), (0, 0), (0, 0), (0, 0), (0, 0), (0, 0), (0, 0), (0, 0), (0, 0), (0, 0), (0, 0), (0, 0), (0, 0), (0, 0), (0, 0), (0, 0), (0, 0), (0, 0), (0, 0), (0, 0), (0, 0), (0, 0), (0, 0), (0, 0), (0, 0), (0, 0), (0, 0), (0, 0), (0, 0), (0, 0), (0, 0), (0, 0), (0, 0), (0, 0), (0, 0), (0, 0), (0, 0), (0, 0), (0, 0), (0, 0), (0, 0), (0, 0), (0, 0), (0, 0), (0, 0), (0, 0), (0, 0), (0, 0), (0, 0), (0, 0), (0, 0), (0, 0), (0, 0), (0, 0), (0, 0), (0, 0), (0, 0), (0, 0), (0, 0), (0, 0), (0, 0), (0, 0), (0, 0), (0, 0), (0, 0), (0, 0), (0, 0), (0, 0), (0, 0), (0, 0), (0, 0), (0, 0), (0, 0), (0, 0), (0, 0), (0, 0), (0, 0), (0, 0), (0, 0), (0, 0), (0, 0), (0, 0), (0, 0), (0, 0), (0, 0), (0, 0), (0, 0), (0, 0), (0, 0), (0, 0), (0, 0), (0, 0), (0, 0), (0, 0), (0, 0), (0, 0), (0, 0), (0, 0), (0, 0), (0, 0), (0, 0), (0, 0), (0, 0), (0, 0), (0, 0), (0, 0), (0, 0), (0, 0), (0, 0), (0, 0), (0, 0), (0, 0), (0, 0), (0, 0), (0, 0), (0, 0), (0, 0), (0, 0), (0, 0), (0, 0), (0, 0), (0, 0), (0, 0), (0, 0), (0, 0), (0, 0), (0, 0), (0, 0), (0, 0), (0, 0), (0, 0), (0, 0), (0, 0), (0, 0), (0, 0), (0, 0), (0, 0), (0, 0), (0, 0), (0, 0), (0, 0), (0, 0), (0, 0), (0, 0), (0, 0), (0, 0), (0, 0), (0, 0), (0, 0), (0, 0), (0, 0), (0, 0), (0, 0), (0, 0), (0, 0), (0, 0), (0, 0), (0, 0), (0, 0), (0, 0), (0, 0), (0, 0), (0, 0), (0, 0), (0, 0), (0, 0), (0, 0), (0, 0), (0, 0), (0, 0), (0, 0), (0, 0), (0, 0), (0, 0), (0, 0), (0, 0), (0, 0), (0, 0), (0, 0), (0, 0), (0, 0), (0, 0), (0, 0)]\n",
            "['O', 'B-person', 'I-person', 'I-person', 'I-person', 'I-person', 'I-person', 'O', 'O', 'O', 'O', 'O', 'O', 'O', 'O', 'O', 'O', 'O', 'O', 'O', 'O', 'O', 'O', 'O', 'O', 'O', 'O', 'O', 'O', 'O', 'O', 'O', 'O', 'O', 'O', 'O', 'O', 'O', 'O', 'O', 'O', 'O', 'O', 'O', 'O', 'O', 'O', 'O', 'O', 'O', 'O', 'O', 'O', 'O', 'O', 'O', 'O', 'O', 'O', 'O', 'O', 'O', 'O', 'O', 'O', 'O', 'O', 'O', 'O', 'O', 'O', 'O', 'O', 'O', 'O', 'O', 'O', 'O', 'O', 'O', 'O', 'O', 'O', 'O', 'O', 'O', 'O', 'O', 'O', 'O', 'O', 'O', 'O', 'O', 'O', 'O', 'O', 'O', 'O', 'O', 'O', 'O', 'O', 'O', 'O', 'O', 'O', 'O', 'O', 'O', 'O', 'O', 'O', 'O', 'O', 'O', 'O', 'O', 'O', 'O', 'O', 'O', 'O', 'O', 'O', 'O', 'O', 'O', 'O', 'O', 'O', 'O', 'O', 'O', 'O', 'O', 'O', 'O', 'O', 'O', 'O', 'O', 'O', 'O', 'O', 'O', 'O', 'O', 'O', 'O', 'O', 'O', 'O', 'O', 'O', 'O', 'O', 'O', 'O', 'O', 'O', 'O', 'O', 'O', 'O', 'O', 'O', 'O', 'O', 'O', 'O', 'O', 'O', 'O', 'O', 'O', 'O', 'O', 'O', 'O', 'O', 'O', 'O', 'O', 'O', 'O', 'O', 'O', 'O', 'O', 'O', 'O', 'O', 'O', 'O', 'O', 'O', 'O', 'O', 'O', 'O', 'O', 'O', 'O', 'O', 'O', 'O', 'O', 'O', 'O', 'O', 'O', 'O', 'O', 'O', 'O', 'O', 'O', 'O', 'O', 'O', 'O', 'O', 'O', 'O', 'O', 'O', 'O', 'O', 'O', 'O', 'O', 'O', 'O', 'O', 'O', 'O', 'O', 'O', 'O', 'O', 'O', 'O', 'O', 'O', 'O', 'O', 'O', 'O', 'O', 'O', 'O', 'O', 'O', 'O', 'O', 'O', 'O', 'O', 'O', 'O', 'O', 'O', 'O', 'O', 'O', 'O', 'O', 'O', 'O', 'O', 'O', 'O', 'O', 'O', 'O', 'O', 'O', 'O', 'O', 'O', 'O', 'O', 'O', 'O', 'O', 'O', 'O', 'O', 'O', 'O', 'O', 'O', 'O', 'O', 'O', 'O', 'O', 'O', 'O', 'O', 'O', 'O', 'O', 'O', 'O', 'O', 'O', 'O', 'O', 'O', 'O', 'O', 'O', 'O', 'O', 'O', 'O', 'O', 'O', 'O', 'O', 'O', 'O', 'O', 'O', 'O', 'O', 'O', 'O', 'O', 'O', 'O', 'O', 'O', 'O', 'O', 'O', 'O', 'O', 'O', 'O', 'O', 'O', 'O', 'O', 'O', 'O', 'O', 'O', 'O', 'O', 'O', 'O', 'O', 'O', 'O', 'O', 'O', 'O', 'O', 'O', 'O', 'O', 'O', 'O', 'O', 'O', 'O', 'O', 'O', 'O', 'O', 'O', 'O', 'O', 'O', 'O', 'O', 'O', 'O', 'O', 'O', 'O', 'O', 'O', 'O', 'O', 'O', 'O', 'O', 'O', 'O', 'O', 'O', 'O', 'O', 'O', 'O', 'O', 'O', 'O', 'O', 'O', 'O', 'O', 'O', 'O', 'O', 'O', 'O', 'O', 'O', 'O', 'O', 'O', 'O', 'O', 'O', 'O', 'O', 'O', 'O', 'O', 'O', 'O', 'O', 'O', 'O', 'O', 'O', 'O', 'O', 'O', 'O', 'O', 'O', 'O', 'O', 'O', 'O', 'O', 'O', 'O', 'O', 'O', 'O', 'O', 'O', 'O', 'O', 'O', 'O', 'O', 'O', 'O', 'O', 'O', 'O', 'O', 'O', 'O', 'O', 'O', 'O', 'O', 'O', 'O', 'O', 'O', 'O', 'O', 'O', 'O', 'O', 'O', 'O', 'O', 'O', 'O', 'O', 'O', 'O', 'O', 'O', 'O', 'O', 'O', 'O', 'O', 'O', 'O', 'O', 'O', 'O', 'O', 'O', 'O', 'O', 'O', 'O', 'O', 'O', 'O', 'O', 'O', 'O', 'O', 'O', 'O', 'O', 'O']\n"
          ]
        }
      ]
    },
    {
      "cell_type": "code",
      "metadata": {
        "id": "aSeLJ4oRft54"
      },
      "source": [
        "train_dataset_wnut = NERDataset(train_batch_wnut)\n",
        "val_dataset_wnut = NERDataset(val_batch_wnut)"
      ],
      "execution_count": null,
      "outputs": []
    },
    {
      "cell_type": "code",
      "metadata": {
        "colab": {
          "base_uri": "https://localhost:8080/"
        },
        "id": "R87ZnPm-fuwx",
        "outputId": "821c0bae-93a0-4aba-9b18-fb66ff757501"
      },
      "source": [
        "model_wnut = DistilBertForTokenClassification.from_pretrained(MODEL_BASE, num_labels=len(label_ner_wnut))"
      ],
      "execution_count": null,
      "outputs": [
        {
          "output_type": "stream",
          "name": "stderr",
          "text": [
            "Some weights of the model checkpoint at distilbert-base-cased were not used when initializing DistilBertForTokenClassification: ['vocab_layer_norm.weight', 'vocab_transform.bias', 'vocab_transform.weight', 'vocab_projector.bias', 'vocab_layer_norm.bias', 'vocab_projector.weight']\n",
            "- This IS expected if you are initializing DistilBertForTokenClassification from the checkpoint of a model trained on another task or with another architecture (e.g. initializing a BertForSequenceClassification model from a BertForPreTraining model).\n",
            "- This IS NOT expected if you are initializing DistilBertForTokenClassification from the checkpoint of a model that you expect to be exactly identical (initializing a BertForSequenceClassification model from a BertForSequenceClassification model).\n",
            "Some weights of DistilBertForTokenClassification were not initialized from the model checkpoint at distilbert-base-cased and are newly initialized: ['classifier.weight', 'classifier.bias']\n",
            "You should probably TRAIN this model on a down-stream task to be able to use it for predictions and inference.\n"
          ]
        }
      ]
    },
    {
      "cell_type": "code",
      "metadata": {
        "id": "XpjliQfrfu2I"
      },
      "source": [
        "training_args_wnut = TrainingArguments(\n",
        "    output_dir='./results',          # output directory\n",
        "    num_train_epochs=3,              # total number of training epochs\n",
        "    per_device_train_batch_size=16,  # batch size per device during training\n",
        "    per_device_eval_batch_size=16,   # batch size for evaluation\n",
        "    warmup_steps=500,                # number of warmup steps for learning rate scheduler\n",
        "    weight_decay=0.01,               # strength of weight decay\n",
        "    logging_dir='./logs',            # directory for storing logs\n",
        "    logging_steps=50,\n",
        "    evaluation_strategy='steps',\n",
        "    save_strategy='steps',\n",
        "    load_best_model_at_end=True\n",
        "\n",
        ")"
      ],
      "execution_count": null,
      "outputs": []
    },
    {
      "cell_type": "code",
      "metadata": {
        "id": "TjQC5mpBfu6J"
      },
      "source": [
        "trainer_wnut = Trainer(\n",
        "    model=model_wnut,                         # the instantiated 🤗 Transformers model to be trained\n",
        "    args=training_args_wnut,                  # training arguments, defined above\n",
        "    train_dataset=train_dataset_wnut,         # training dataset\n",
        "    eval_dataset=val_dataset_wnut             # evaluation dataset\n",
        ")"
      ],
      "execution_count": null,
      "outputs": []
    },
    {
      "cell_type": "code",
      "metadata": {
        "colab": {
          "base_uri": "https://localhost:8080/",
          "height": 1000
        },
        "id": "Ez0ee_2afu9h",
        "outputId": "53aea5e5-563e-4634-dd27-69bc87f021b6"
      },
      "source": [
        "trainer_wnut.train()"
      ],
      "execution_count": null,
      "outputs": [
        {
          "output_type": "stream",
          "name": "stderr",
          "text": [
            "***** Running training *****\n",
            "  Num examples = 2715\n",
            "  Num Epochs = 3\n",
            "  Instantaneous batch size per device = 16\n",
            "  Total train batch size (w. parallel, distributed & accumulation) = 16\n",
            "  Gradient Accumulation steps = 1\n",
            "  Total optimization steps = 510\n"
          ]
        },
        {
          "output_type": "display_data",
          "data": {
            "text/html": [
              "\n",
              "    <div>\n",
              "      \n",
              "      <progress value='510' max='510' style='width:300px; height:20px; vertical-align: middle;'></progress>\n",
              "      [510/510 05:09, Epoch 3/3]\n",
              "    </div>\n",
              "    <table border=\"1\" class=\"dataframe\">\n",
              "  <thead>\n",
              "    <tr style=\"text-align: left;\">\n",
              "      <th>Step</th>\n",
              "      <th>Training Loss</th>\n",
              "      <th>Validation Loss</th>\n",
              "    </tr>\n",
              "  </thead>\n",
              "  <tbody>\n",
              "    <tr>\n",
              "      <td>50</td>\n",
              "      <td>2.332200</td>\n",
              "      <td>1.239032</td>\n",
              "    </tr>\n",
              "    <tr>\n",
              "      <td>100</td>\n",
              "      <td>0.428800</td>\n",
              "      <td>0.229955</td>\n",
              "    </tr>\n",
              "    <tr>\n",
              "      <td>150</td>\n",
              "      <td>0.243300</td>\n",
              "      <td>0.195053</td>\n",
              "    </tr>\n",
              "    <tr>\n",
              "      <td>200</td>\n",
              "      <td>0.193900</td>\n",
              "      <td>0.172566</td>\n",
              "    </tr>\n",
              "    <tr>\n",
              "      <td>250</td>\n",
              "      <td>0.175500</td>\n",
              "      <td>0.147836</td>\n",
              "    </tr>\n",
              "    <tr>\n",
              "      <td>300</td>\n",
              "      <td>0.151300</td>\n",
              "      <td>0.129161</td>\n",
              "    </tr>\n",
              "    <tr>\n",
              "      <td>350</td>\n",
              "      <td>0.126300</td>\n",
              "      <td>0.118958</td>\n",
              "    </tr>\n",
              "    <tr>\n",
              "      <td>400</td>\n",
              "      <td>0.092800</td>\n",
              "      <td>0.128491</td>\n",
              "    </tr>\n",
              "    <tr>\n",
              "      <td>450</td>\n",
              "      <td>0.099800</td>\n",
              "      <td>0.118197</td>\n",
              "    </tr>\n",
              "    <tr>\n",
              "      <td>500</td>\n",
              "      <td>0.102200</td>\n",
              "      <td>0.119451</td>\n",
              "    </tr>\n",
              "  </tbody>\n",
              "</table><p>"
            ],
            "text/plain": [
              "<IPython.core.display.HTML object>"
            ]
          },
          "metadata": {}
        },
        {
          "output_type": "stream",
          "name": "stderr",
          "text": [
            "***** Running Evaluation *****\n",
            "  Num examples = 679\n",
            "  Batch size = 16\n",
            "Saving model checkpoint to ./results/checkpoint-50\n",
            "Configuration saved in ./results/checkpoint-50/config.json\n",
            "Model weights saved in ./results/checkpoint-50/pytorch_model.bin\n",
            "***** Running Evaluation *****\n",
            "  Num examples = 679\n",
            "  Batch size = 16\n",
            "Saving model checkpoint to ./results/checkpoint-100\n",
            "Configuration saved in ./results/checkpoint-100/config.json\n",
            "Model weights saved in ./results/checkpoint-100/pytorch_model.bin\n",
            "***** Running Evaluation *****\n",
            "  Num examples = 679\n",
            "  Batch size = 16\n",
            "Saving model checkpoint to ./results/checkpoint-150\n",
            "Configuration saved in ./results/checkpoint-150/config.json\n",
            "Model weights saved in ./results/checkpoint-150/pytorch_model.bin\n",
            "***** Running Evaluation *****\n",
            "  Num examples = 679\n",
            "  Batch size = 16\n",
            "Saving model checkpoint to ./results/checkpoint-200\n",
            "Configuration saved in ./results/checkpoint-200/config.json\n",
            "Model weights saved in ./results/checkpoint-200/pytorch_model.bin\n",
            "***** Running Evaluation *****\n",
            "  Num examples = 679\n",
            "  Batch size = 16\n",
            "Saving model checkpoint to ./results/checkpoint-250\n",
            "Configuration saved in ./results/checkpoint-250/config.json\n",
            "Model weights saved in ./results/checkpoint-250/pytorch_model.bin\n",
            "***** Running Evaluation *****\n",
            "  Num examples = 679\n",
            "  Batch size = 16\n",
            "Saving model checkpoint to ./results/checkpoint-300\n",
            "Configuration saved in ./results/checkpoint-300/config.json\n",
            "Model weights saved in ./results/checkpoint-300/pytorch_model.bin\n",
            "***** Running Evaluation *****\n",
            "  Num examples = 679\n",
            "  Batch size = 16\n",
            "Saving model checkpoint to ./results/checkpoint-350\n",
            "Configuration saved in ./results/checkpoint-350/config.json\n",
            "Model weights saved in ./results/checkpoint-350/pytorch_model.bin\n",
            "***** Running Evaluation *****\n",
            "  Num examples = 679\n",
            "  Batch size = 16\n",
            "Saving model checkpoint to ./results/checkpoint-400\n",
            "Configuration saved in ./results/checkpoint-400/config.json\n",
            "Model weights saved in ./results/checkpoint-400/pytorch_model.bin\n",
            "***** Running Evaluation *****\n",
            "  Num examples = 679\n",
            "  Batch size = 16\n",
            "Saving model checkpoint to ./results/checkpoint-450\n",
            "Configuration saved in ./results/checkpoint-450/config.json\n",
            "Model weights saved in ./results/checkpoint-450/pytorch_model.bin\n",
            "***** Running Evaluation *****\n",
            "  Num examples = 679\n",
            "  Batch size = 16\n",
            "Saving model checkpoint to ./results/checkpoint-500\n",
            "Configuration saved in ./results/checkpoint-500/config.json\n",
            "Model weights saved in ./results/checkpoint-500/pytorch_model.bin\n",
            "\n",
            "\n",
            "Training completed. Do not forget to share your model on huggingface.co/models =)\n",
            "\n",
            "\n",
            "Loading best model from ./results/checkpoint-450 (score: 0.11819705367088318).\n"
          ]
        },
        {
          "output_type": "execute_result",
          "data": {
            "text/plain": [
              "TrainOutput(global_step=510, training_loss=0.3889874465325299, metrics={'train_runtime': 309.7071, 'train_samples_per_second': 26.299, 'train_steps_per_second': 1.647, 'total_flos': 1064400397608960.0, 'train_loss': 0.3889874465325299, 'epoch': 3.0})"
            ]
          },
          "metadata": {},
          "execution_count": 28
        }
      ]
    },
    {
      "cell_type": "code",
      "metadata": {
        "colab": {
          "base_uri": "https://localhost:8080/"
        },
        "id": "vZMiKXU9i7p_",
        "outputId": "c5ab5a86-fb8b-49bd-ca6d-dae307351fc1"
      },
      "source": [
        "trainer_wnut.save_model(MODEL_TRAINED_WNUT_PATH)\n",
        "label_ner_wnut.save(LABEL_OUTPUT_WNUT_PATH)"
      ],
      "execution_count": null,
      "outputs": [
        {
          "output_type": "stream",
          "name": "stderr",
          "text": [
            "Saving model checkpoint to /content/drive/MyDrive/model/PO-NER/base-ner-wnut\n",
            "Configuration saved in /content/drive/MyDrive/model/PO-NER/base-ner-wnut/config.json\n",
            "Model weights saved in /content/drive/MyDrive/model/PO-NER/base-ner-wnut/pytorch_model.bin\n"
          ]
        }
      ]
    },
    {
      "cell_type": "code",
      "metadata": {
        "colab": {
          "base_uri": "https://localhost:8080/"
        },
        "id": "zgP8TYnQjkL5",
        "outputId": "75345c90-8630-4151-84c3-e341e879be5a"
      },
      "source": [
        "destroy_model(model_wnut)\n",
        "print(get_gpu_memory_status())\n",
        "destroy_tokenizer(tokenizer_wnut)\n",
        "print(get_gpu_memory_status())"
      ],
      "execution_count": null,
      "outputs": [
        {
          "output_type": "stream",
          "name": "stdout",
          "text": [
            "Total: 16280.88 | Reserved: 1072.00 | Allocated: 996.15\n",
            "Total: 16280.88 | Reserved: 1072.00 | Allocated: 996.15\n"
          ]
        }
      ]
    },
    {
      "cell_type": "code",
      "metadata": {
        "colab": {
          "base_uri": "https://localhost:8080/",
          "height": 427
        },
        "id": "OK-BaHEZj7VB",
        "outputId": "59b64137-90d5-4c71-8e49-c095b3a68363"
      },
      "source": [
        "#grafico sobre train e evaluation loss\n",
        "df = pd.read_csv(MODEL_TRAINED_WNUT_LOG,sep='\\t')\n",
        "df['Epoch'] = round((df.Step * training_args_wnut.per_device_train_batch_size) / len(train_dataset_wnut), 2)\n",
        "df.tail(10)\n",
        "\n",
        "train_loss = df[['Epoch', 'Training Loss']].to_numpy()\n",
        "validation_loss = df[['Epoch', 'Validation Loss']].to_numpy()\n",
        "\n",
        "plot_grafico_trainer_loss(train_loss, validation_loss)"
      ],
      "execution_count": null,
      "outputs": [
        {
          "output_type": "display_data",
          "data": {
            "image/png": "[encoded data removed]",
            "text/plain": [
              "<Figure size 864x432 with 1 Axes>"
            ]
          },
          "metadata": {}
        }
      ]
    },
    {
      "cell_type": "code",
      "metadata": {
        "id": "tOSn459yj7-T"
      },
      "source": [
        ""
      ],
      "execution_count": null,
      "outputs": []
    },
    {
      "cell_type": "code",
      "metadata": {
        "id": "yQf0Sc-2j8db"
      },
      "source": [
        ""
      ],
      "execution_count": null,
      "outputs": []
    },
    {
      "cell_type": "markdown",
      "metadata": {
        "id": "lJZU01NdfPLD"
      },
      "source": [
        "#### Validação do alinhamento"
      ]
    },
    {
      "cell_type": "code",
      "metadata": {
        "id": "CDfofKiYs79f",
        "colab": {
          "base_uri": "https://localhost:8080/"
        },
        "outputId": "f1037d0d-2ff9-4523-bf54-80f7d6d6c992"
      },
      "source": [
        "np.array(train_batch_example.batch_encoding.encodings[1].ids)[:60]"
      ],
      "execution_count": null,
      "outputs": [
        {
          "output_type": "execute_result",
          "data": {
            "text/plain": [
              "array([ 101, 2453, 1336, 2303, 1165, 1175,  112,  188, 1185, 3220, 1107,\n",
              "       1441,  119,  199, 1613, 7647,  108, 1535,  102,    0,    0,    0,\n",
              "          0,    0,    0,    0,    0,    0,    0,    0,    0,    0,    0,\n",
              "          0,    0,    0,    0,    0,    0,    0,    0,    0,    0,    0,\n",
              "          0,    0,    0,    0,    0,    0,    0,    0,    0,    0,    0,\n",
              "          0,    0,    0,    0,    0])"
            ]
          },
          "metadata": {},
          "execution_count": 37
        }
      ]
    },
    {
      "cell_type": "code",
      "metadata": {
        "colab": {
          "base_uri": "https://localhost:8080/"
        },
        "id": "QoefwHptclaw",
        "outputId": "795bbabf-1386-4629-881f-aa49518e2ef0"
      },
      "source": [
        "np.array(train_text_list[1])"
      ],
      "execution_count": null,
      "outputs": [
        {
          "output_type": "execute_result",
          "data": {
            "text/plain": [
              "array(['Women', 'may', 'fall', 'when', 'there', \"'s\", 'no', 'strength',\n",
              "       'in', 'men', '.', '~William', 'Shakespeare', '#women'],\n",
              "      dtype='<U11')"
            ]
          },
          "metadata": {},
          "execution_count": 49
        }
      ]
    },
    {
      "cell_type": "code",
      "metadata": {
        "colab": {
          "base_uri": "https://localhost:8080/"
        },
        "id": "ElcEG0rmZe43",
        "outputId": "d48868c4-c5bb-4216-e2e4-9852b1e54660"
      },
      "source": [
        "np.array(train_tags_list[1])"
      ],
      "execution_count": null,
      "outputs": [
        {
          "output_type": "execute_result",
          "data": {
            "text/plain": [
              "array(['O', 'O', 'O', 'O', 'O', 'O', 'O', 'O', 'O', 'O', 'O', 'B-person',\n",
              "       'I-person', 'O'], dtype='<U8')"
            ]
          },
          "metadata": {},
          "execution_count": 42
        }
      ]
    },
    {
      "cell_type": "code",
      "metadata": {
        "colab": {
          "base_uri": "https://localhost:8080/"
        },
        "id": "Uqvz3n2SX7tL",
        "outputId": "db07c339-95cf-4857-a32d-e9e69ceb885f"
      },
      "source": [
        "np.array(label_ner.convert_id_list_to_label_list(train_batch_example.labels[1]))[:60]"
      ],
      "execution_count": null,
      "outputs": [
        {
          "output_type": "execute_result",
          "data": {
            "text/plain": [
              "array(['O', 'O', 'O', 'O', 'O', 'O', 'O', 'O', 'O', 'O', 'O', 'O', 'O',\n",
              "       'B-person', 'I-person', 'I-person', 'O', 'O', 'O', 'O', 'O', 'O',\n",
              "       'O', 'O', 'O', 'O', 'O', 'O', 'O', 'O', 'O', 'O', 'O', 'O', 'O',\n",
              "       'O', 'O', 'O', 'O', 'O', 'O', 'O', 'O', 'O', 'O', 'O', 'O', 'O',\n",
              "       'O', 'O', 'O', 'O', 'O', 'O', 'O', 'O', 'O', 'O', 'O', 'O'],\n",
              "      dtype='<U8')"
            ]
          },
          "metadata": {},
          "execution_count": 38
        }
      ]
    },
    {
      "cell_type": "code",
      "metadata": {
        "colab": {
          "base_uri": "https://localhost:8080/"
        },
        "id": "Fud8nArjYCY9",
        "outputId": "75e24d65-2d4a-44fd-d8d8-3b53eb0e1a4a"
      },
      "source": [
        "np.array(train_batch_example.batch_encoding.encodings[1].tokens)[:60]"
      ],
      "execution_count": null,
      "outputs": [
        {
          "output_type": "execute_result",
          "data": {
            "text/plain": [
              "array(['[CLS]', 'Women', 'may', 'fall', 'when', 'there', \"'\", 's', 'no',\n",
              "       'strength', 'in', 'men', '.', '~', 'William', 'Shakespeare', '#',\n",
              "       'women', '[SEP]', '[PAD]', '[PAD]', '[PAD]', '[PAD]', '[PAD]',\n",
              "       '[PAD]', '[PAD]', '[PAD]', '[PAD]', '[PAD]', '[PAD]', '[PAD]',\n",
              "       '[PAD]', '[PAD]', '[PAD]', '[PAD]', '[PAD]', '[PAD]', '[PAD]',\n",
              "       '[PAD]', '[PAD]', '[PAD]', '[PAD]', '[PAD]', '[PAD]', '[PAD]',\n",
              "       '[PAD]', '[PAD]', '[PAD]', '[PAD]', '[PAD]', '[PAD]', '[PAD]',\n",
              "       '[PAD]', '[PAD]', '[PAD]', '[PAD]', '[PAD]', '[PAD]', '[PAD]',\n",
              "       '[PAD]'], dtype='<U11')"
            ]
          },
          "metadata": {},
          "execution_count": 40
        }
      ]
    },
    {
      "cell_type": "code",
      "metadata": {
        "id": "DiCWLKX6Y8Cj"
      },
      "source": [
        "indice_analisado = 7\n",
        "tokens = train_batch_example.batch_encoding.encodings[indice_analisado].tokens\n",
        "labels = label_ner.convert_id_list_to_label_list(train_batch_example.labels[indice_analisado])\n",
        "lista = []\n",
        "is_pad = False\n",
        "cont = 0\n",
        "while not is_pad or cont >= len(tokens):\n",
        "    if tokens[cont] != '[PAD]':\n",
        "        lista.append([tokens[cont], labels[cont]]) \n",
        "    else:\n",
        "        is_pad = True\n",
        "    cont+=1"
      ],
      "execution_count": null,
      "outputs": []
    },
    {
      "cell_type": "code",
      "metadata": {
        "id": "Ht7LVEeCbjaO"
      },
      "source": [
        "np.array(lista)"
      ],
      "execution_count": null,
      "outputs": []
    },
    {
      "cell_type": "code",
      "metadata": {
        "id": "CmSYPmw_bxnt"
      },
      "source": [
        ""
      ],
      "execution_count": null,
      "outputs": []
    }
  ]
}